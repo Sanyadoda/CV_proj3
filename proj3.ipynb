{
  "cells": [
    {
      "cell_type": "markdown",
      "metadata": {
        "id": "fiK4QNWKDvWJ"
      },
      "source": [
        "# [Scene Recognition with Deep Learning](https://www.cc.gatech.edu/~hays/compvision/proj4/)\n",
        "For this project we are going to focus on scene classification for 15 scene types with a state-of-the-art approach: deep learning. The task is also known as image classification.\n",
        "\n",
        "Basic learning objectives of this project:\n",
        "1. Construct the fundamental pipeline for performing deep learning using PyTorch;\n",
        "2. Understand the concepts behind different layers, optimizers, and learning schedules;\n",
        "3. Experiment with different models and observe the performance.\n",
        "\n",
        "The starter code is mostly initialized to 'placeholder' just so that the starter\n",
        "code does not crash when run unmodified and you can get a preview of how\n",
        "results are presented."
      ]
    },
    {
      "cell_type": "code",
      "execution_count": 1,
      "metadata": {
        "id": "wbtuSRZAhb9a"
      },
      "outputs": [],
      "source": [
        "# flag to modify everything to run better on Colab; change it to true if you want to run on colab\n",
        "use_colab = True"
      ]
    },
    {
      "cell_type": "markdown",
      "metadata": {
        "id": "Uto3xotovm5_"
      },
      "source": [
        "## Part 0: Setup for Colab\n",
        "You can skip this part if you are not running your notebook on Colab."
      ]
    },
    {
      "cell_type": "markdown",
      "metadata": {
        "id": "dMShUvcNvukQ"
      },
      "source": [
        "### Download Data\n",
        "\n",
        "Download the data for training the network. It's exactly the same as that's been provided for you, but we'll fetch this from the cloud to keep uploads small"
      ]
    },
    {
      "cell_type": "code",
      "execution_count": null,
      "metadata": {
        "id": "tG_t11Chv9pq"
      },
      "outputs": [],
      "source": [
        "# uncomment for running on colab\n",
        "# uncomment for running on colab\n",
        "# !wget \"https://faculty.cc.gatech.edu/~hays/compvision2021fall/projects/proj4_data.zip\" --no-check-certificate -O data.zip && unzip -qq data.zip\n",
        "# !rm ./data.zip"
      ]
    },
    {
      "cell_type": "markdown",
      "metadata": {
        "id": "NQ9Qm5hnxKNn"
      },
      "source": [
        "### Upload code and unit tests\n",
        "\n",
        "Once you have finished your code, run `python ./zip_for_colab.py` and all the required files and tests will be written to `cv_proj3.zip`.\n",
        "\n",
        "Click the folder icon on the left of the colab UI, and click on the upload button right below the \"Files\" heading. You should have done a similar process for Project 4.\n",
        "\n",
        "Run the cell below once your upload completes to extract your uploaded files."
      ]
    },
    {
      "cell_type": "code",
      "source": [
        "!git clone https://github.com/Sanyadoda/CV_proj3.git"
      ],
      "metadata": {
        "colab": {
          "base_uri": "https://localhost:8080/"
        },
        "id": "EBjj-B13cgdQ",
        "outputId": "e012e141-4872-4cd0-cde1-357592144814"
      },
      "execution_count": 3,
      "outputs": [
        {
          "output_type": "stream",
          "name": "stdout",
          "text": [
            "Cloning into 'CV_proj3'...\n",
            "remote: Enumerating objects: 4628, done.\u001b[K\n",
            "remote: Counting objects: 100% (42/42), done.\u001b[K\n",
            "remote: Compressing objects: 100% (29/29), done.\u001b[K\n",
            "remote: Total 4628 (delta 19), reused 16 (delta 7), pack-reused 4586 (from 1)\u001b[K\n",
            "Receiving objects: 100% (4628/4628), 83.95 MiB | 42.54 MiB/s, done.\n",
            "Resolving deltas: 100% (25/25), done.\n"
          ]
        }
      ]
    },
    {
      "cell_type": "code",
      "execution_count": null,
      "metadata": {
        "id": "ZpoinJA1yCQy",
        "colab": {
          "base_uri": "https://localhost:8080/"
        },
        "outputId": "5572345a-2ec1-424c-dc52-f68614fac92d"
      },
      "outputs": [
        {
          "output_type": "stream",
          "name": "stdout",
          "text": [
            "Obtaining file:///content\n",
            "\u001b[31mERROR: file:///content does not appear to be a Python project: neither 'setup.py' nor 'pyproject.toml' found.\u001b[0m\u001b[31m\n",
            "\u001b[0m"
          ]
        }
      ],
      "source": [
        "# uncomment for running on colab\n",
        "# !unzip -qq cv_proj3.zip -d ./\n",
        "#!pip install -e ."
      ]
    },
    {
      "cell_type": "code",
      "source": [
        "%cd CV_proj3"
      ],
      "metadata": {
        "colab": {
          "base_uri": "https://localhost:8080/"
        },
        "id": "HGFr1tV1fY77",
        "outputId": "199dea83-92cb-4df6-d403-40c235a9f1b5"
      },
      "execution_count": 4,
      "outputs": [
        {
          "output_type": "stream",
          "name": "stdout",
          "text": [
            "/content/CV_proj3\n"
          ]
        }
      ]
    },
    {
      "cell_type": "markdown",
      "metadata": {
        "id": "a6O_juWwyI3X"
      },
      "source": [
        "### Preparation\n",
        "\n",
        "We'll import the required functions and set up GPU computation.\n",
        "\n",
        "Click on Runtime $\\rightarrow$ Change Runtime Type, and select \"GPU\" under hardware accelerator."
      ]
    },
    {
      "cell_type": "code",
      "execution_count": 5,
      "metadata": {
        "id": "Wa8VAFgvZggI"
      },
      "outputs": [],
      "source": [
        "import sys\n",
        "sys.path.insert(0, 'src')"
      ]
    },
    {
      "cell_type": "code",
      "source": [
        "import sys\n",
        "sys.path.append(\"/content/CV_proj3\")"
      ],
      "metadata": {
        "id": "SJeg_evFfmXK"
      },
      "execution_count": 6,
      "outputs": []
    },
    {
      "cell_type": "code",
      "source": [
        "%pip install torch torchvision"
      ],
      "metadata": {
        "colab": {
          "base_uri": "https://localhost:8080/"
        },
        "id": "7Zbsjhv8Z7VW",
        "outputId": "f9f531b1-73b1-4d75-e593-9cbb7c5d7609"
      },
      "execution_count": 7,
      "outputs": [
        {
          "output_type": "stream",
          "name": "stdout",
          "text": [
            "Requirement already satisfied: torch in /usr/local/lib/python3.11/dist-packages (2.6.0+cu124)\n",
            "Requirement already satisfied: torchvision in /usr/local/lib/python3.11/dist-packages (0.21.0+cu124)\n",
            "Requirement already satisfied: filelock in /usr/local/lib/python3.11/dist-packages (from torch) (3.17.0)\n",
            "Requirement already satisfied: typing-extensions>=4.10.0 in /usr/local/lib/python3.11/dist-packages (from torch) (4.12.2)\n",
            "Requirement already satisfied: networkx in /usr/local/lib/python3.11/dist-packages (from torch) (3.4.2)\n",
            "Requirement already satisfied: jinja2 in /usr/local/lib/python3.11/dist-packages (from torch) (3.1.6)\n",
            "Requirement already satisfied: fsspec in /usr/local/lib/python3.11/dist-packages (from torch) (2024.10.0)\n",
            "Collecting nvidia-cuda-nvrtc-cu12==12.4.127 (from torch)\n",
            "  Downloading nvidia_cuda_nvrtc_cu12-12.4.127-py3-none-manylinux2014_x86_64.whl.metadata (1.5 kB)\n",
            "Collecting nvidia-cuda-runtime-cu12==12.4.127 (from torch)\n",
            "  Downloading nvidia_cuda_runtime_cu12-12.4.127-py3-none-manylinux2014_x86_64.whl.metadata (1.5 kB)\n",
            "Collecting nvidia-cuda-cupti-cu12==12.4.127 (from torch)\n",
            "  Downloading nvidia_cuda_cupti_cu12-12.4.127-py3-none-manylinux2014_x86_64.whl.metadata (1.6 kB)\n",
            "Collecting nvidia-cudnn-cu12==9.1.0.70 (from torch)\n",
            "  Downloading nvidia_cudnn_cu12-9.1.0.70-py3-none-manylinux2014_x86_64.whl.metadata (1.6 kB)\n",
            "Collecting nvidia-cublas-cu12==12.4.5.8 (from torch)\n",
            "  Downloading nvidia_cublas_cu12-12.4.5.8-py3-none-manylinux2014_x86_64.whl.metadata (1.5 kB)\n",
            "Collecting nvidia-cufft-cu12==11.2.1.3 (from torch)\n",
            "  Downloading nvidia_cufft_cu12-11.2.1.3-py3-none-manylinux2014_x86_64.whl.metadata (1.5 kB)\n",
            "Collecting nvidia-curand-cu12==10.3.5.147 (from torch)\n",
            "  Downloading nvidia_curand_cu12-10.3.5.147-py3-none-manylinux2014_x86_64.whl.metadata (1.5 kB)\n",
            "Collecting nvidia-cusolver-cu12==11.6.1.9 (from torch)\n",
            "  Downloading nvidia_cusolver_cu12-11.6.1.9-py3-none-manylinux2014_x86_64.whl.metadata (1.6 kB)\n",
            "Collecting nvidia-cusparse-cu12==12.3.1.170 (from torch)\n",
            "  Downloading nvidia_cusparse_cu12-12.3.1.170-py3-none-manylinux2014_x86_64.whl.metadata (1.6 kB)\n",
            "Requirement already satisfied: nvidia-cusparselt-cu12==0.6.2 in /usr/local/lib/python3.11/dist-packages (from torch) (0.6.2)\n",
            "Requirement already satisfied: nvidia-nccl-cu12==2.21.5 in /usr/local/lib/python3.11/dist-packages (from torch) (2.21.5)\n",
            "Requirement already satisfied: nvidia-nvtx-cu12==12.4.127 in /usr/local/lib/python3.11/dist-packages (from torch) (12.4.127)\n",
            "Collecting nvidia-nvjitlink-cu12==12.4.127 (from torch)\n",
            "  Downloading nvidia_nvjitlink_cu12-12.4.127-py3-none-manylinux2014_x86_64.whl.metadata (1.5 kB)\n",
            "Requirement already satisfied: triton==3.2.0 in /usr/local/lib/python3.11/dist-packages (from torch) (3.2.0)\n",
            "Requirement already satisfied: sympy==1.13.1 in /usr/local/lib/python3.11/dist-packages (from torch) (1.13.1)\n",
            "Requirement already satisfied: mpmath<1.4,>=1.1.0 in /usr/local/lib/python3.11/dist-packages (from sympy==1.13.1->torch) (1.3.0)\n",
            "Requirement already satisfied: numpy in /usr/local/lib/python3.11/dist-packages (from torchvision) (1.26.4)\n",
            "Requirement already satisfied: pillow!=8.3.*,>=5.3.0 in /usr/local/lib/python3.11/dist-packages (from torchvision) (11.1.0)\n",
            "Requirement already satisfied: MarkupSafe>=2.0 in /usr/local/lib/python3.11/dist-packages (from jinja2->torch) (3.0.2)\n",
            "Downloading nvidia_cublas_cu12-12.4.5.8-py3-none-manylinux2014_x86_64.whl (363.4 MB)\n",
            "\u001b[2K   \u001b[90m━━━━━━━━━━━━━━━━━━━━━━━━━━━━━━━━━━━━━━━━\u001b[0m \u001b[32m363.4/363.4 MB\u001b[0m \u001b[31m4.0 MB/s\u001b[0m eta \u001b[36m0:00:00\u001b[0m\n",
            "\u001b[?25hDownloading nvidia_cuda_cupti_cu12-12.4.127-py3-none-manylinux2014_x86_64.whl (13.8 MB)\n",
            "\u001b[2K   \u001b[90m━━━━━━━━━━━━━━━━━━━━━━━━━━━━━━━━━━━━━━━━\u001b[0m \u001b[32m13.8/13.8 MB\u001b[0m \u001b[31m66.1 MB/s\u001b[0m eta \u001b[36m0:00:00\u001b[0m\n",
            "\u001b[?25hDownloading nvidia_cuda_nvrtc_cu12-12.4.127-py3-none-manylinux2014_x86_64.whl (24.6 MB)\n",
            "\u001b[2K   \u001b[90m━━━━━━━━━━━━━━━━━━━━━━━━━━━━━━━━━━━━━━━━\u001b[0m \u001b[32m24.6/24.6 MB\u001b[0m \u001b[31m35.2 MB/s\u001b[0m eta \u001b[36m0:00:00\u001b[0m\n",
            "\u001b[?25hDownloading nvidia_cuda_runtime_cu12-12.4.127-py3-none-manylinux2014_x86_64.whl (883 kB)\n",
            "\u001b[2K   \u001b[90m━━━━━━━━━━━━━━━━━━━━━━━━━━━━━━━━━━━━━━━━\u001b[0m \u001b[32m883.7/883.7 kB\u001b[0m \u001b[31m41.0 MB/s\u001b[0m eta \u001b[36m0:00:00\u001b[0m\n",
            "\u001b[?25hDownloading nvidia_cudnn_cu12-9.1.0.70-py3-none-manylinux2014_x86_64.whl (664.8 MB)\n",
            "\u001b[2K   \u001b[90m━━━━━━━━━━━━━━━━━━━━━━━━━━━━━━━━━━━━━━━━\u001b[0m \u001b[32m664.8/664.8 MB\u001b[0m \u001b[31m2.2 MB/s\u001b[0m eta \u001b[36m0:00:00\u001b[0m\n",
            "\u001b[?25hDownloading nvidia_cufft_cu12-11.2.1.3-py3-none-manylinux2014_x86_64.whl (211.5 MB)\n",
            "\u001b[2K   \u001b[90m━━━━━━━━━━━━━━━━━━━━━━━━━━━━━━━━━━━━━━━━\u001b[0m \u001b[32m211.5/211.5 MB\u001b[0m \u001b[31m5.8 MB/s\u001b[0m eta \u001b[36m0:00:00\u001b[0m\n",
            "\u001b[?25hDownloading nvidia_curand_cu12-10.3.5.147-py3-none-manylinux2014_x86_64.whl (56.3 MB)\n",
            "\u001b[2K   \u001b[90m━━━━━━━━━━━━━━━━━━━━━━━━━━━━━━━━━━━━━━━━\u001b[0m \u001b[32m56.3/56.3 MB\u001b[0m \u001b[31m15.6 MB/s\u001b[0m eta \u001b[36m0:00:00\u001b[0m\n",
            "\u001b[?25hDownloading nvidia_cusolver_cu12-11.6.1.9-py3-none-manylinux2014_x86_64.whl (127.9 MB)\n",
            "\u001b[2K   \u001b[90m━━━━━━━━━━━━━━━━━━━━━━━━━━━━━━━━━━━━━━━━\u001b[0m \u001b[32m127.9/127.9 MB\u001b[0m \u001b[31m7.3 MB/s\u001b[0m eta \u001b[36m0:00:00\u001b[0m\n",
            "\u001b[?25hDownloading nvidia_cusparse_cu12-12.3.1.170-py3-none-manylinux2014_x86_64.whl (207.5 MB)\n",
            "\u001b[2K   \u001b[90m━━━━━━━━━━━━━━━━━━━━━━━━━━━━━━━━━━━━━━━━\u001b[0m \u001b[32m207.5/207.5 MB\u001b[0m \u001b[31m6.5 MB/s\u001b[0m eta \u001b[36m0:00:00\u001b[0m\n",
            "\u001b[?25hDownloading nvidia_nvjitlink_cu12-12.4.127-py3-none-manylinux2014_x86_64.whl (21.1 MB)\n",
            "\u001b[2K   \u001b[90m━━━━━━━━━━━━━━━━━━━━━━━━━━━━━━━━━━━━━━━━\u001b[0m \u001b[32m21.1/21.1 MB\u001b[0m \u001b[31m83.8 MB/s\u001b[0m eta \u001b[36m0:00:00\u001b[0m\n",
            "\u001b[?25hInstalling collected packages: nvidia-nvjitlink-cu12, nvidia-curand-cu12, nvidia-cufft-cu12, nvidia-cuda-runtime-cu12, nvidia-cuda-nvrtc-cu12, nvidia-cuda-cupti-cu12, nvidia-cublas-cu12, nvidia-cusparse-cu12, nvidia-cudnn-cu12, nvidia-cusolver-cu12\n",
            "  Attempting uninstall: nvidia-nvjitlink-cu12\n",
            "    Found existing installation: nvidia-nvjitlink-cu12 12.5.82\n",
            "    Uninstalling nvidia-nvjitlink-cu12-12.5.82:\n",
            "      Successfully uninstalled nvidia-nvjitlink-cu12-12.5.82\n",
            "  Attempting uninstall: nvidia-curand-cu12\n",
            "    Found existing installation: nvidia-curand-cu12 10.3.6.82\n",
            "    Uninstalling nvidia-curand-cu12-10.3.6.82:\n",
            "      Successfully uninstalled nvidia-curand-cu12-10.3.6.82\n",
            "  Attempting uninstall: nvidia-cufft-cu12\n",
            "    Found existing installation: nvidia-cufft-cu12 11.2.3.61\n",
            "    Uninstalling nvidia-cufft-cu12-11.2.3.61:\n",
            "      Successfully uninstalled nvidia-cufft-cu12-11.2.3.61\n",
            "  Attempting uninstall: nvidia-cuda-runtime-cu12\n",
            "    Found existing installation: nvidia-cuda-runtime-cu12 12.5.82\n",
            "    Uninstalling nvidia-cuda-runtime-cu12-12.5.82:\n",
            "      Successfully uninstalled nvidia-cuda-runtime-cu12-12.5.82\n",
            "  Attempting uninstall: nvidia-cuda-nvrtc-cu12\n",
            "    Found existing installation: nvidia-cuda-nvrtc-cu12 12.5.82\n",
            "    Uninstalling nvidia-cuda-nvrtc-cu12-12.5.82:\n",
            "      Successfully uninstalled nvidia-cuda-nvrtc-cu12-12.5.82\n",
            "  Attempting uninstall: nvidia-cuda-cupti-cu12\n",
            "    Found existing installation: nvidia-cuda-cupti-cu12 12.5.82\n",
            "    Uninstalling nvidia-cuda-cupti-cu12-12.5.82:\n",
            "      Successfully uninstalled nvidia-cuda-cupti-cu12-12.5.82\n",
            "  Attempting uninstall: nvidia-cublas-cu12\n",
            "    Found existing installation: nvidia-cublas-cu12 12.5.3.2\n",
            "    Uninstalling nvidia-cublas-cu12-12.5.3.2:\n",
            "      Successfully uninstalled nvidia-cublas-cu12-12.5.3.2\n",
            "  Attempting uninstall: nvidia-cusparse-cu12\n",
            "    Found existing installation: nvidia-cusparse-cu12 12.5.1.3\n",
            "    Uninstalling nvidia-cusparse-cu12-12.5.1.3:\n",
            "      Successfully uninstalled nvidia-cusparse-cu12-12.5.1.3\n",
            "  Attempting uninstall: nvidia-cudnn-cu12\n",
            "    Found existing installation: nvidia-cudnn-cu12 9.3.0.75\n",
            "    Uninstalling nvidia-cudnn-cu12-9.3.0.75:\n",
            "      Successfully uninstalled nvidia-cudnn-cu12-9.3.0.75\n",
            "  Attempting uninstall: nvidia-cusolver-cu12\n",
            "    Found existing installation: nvidia-cusolver-cu12 11.6.3.83\n",
            "    Uninstalling nvidia-cusolver-cu12-11.6.3.83:\n",
            "      Successfully uninstalled nvidia-cusolver-cu12-11.6.3.83\n",
            "Successfully installed nvidia-cublas-cu12-12.4.5.8 nvidia-cuda-cupti-cu12-12.4.127 nvidia-cuda-nvrtc-cu12-12.4.127 nvidia-cuda-runtime-cu12-12.4.127 nvidia-cudnn-cu12-9.1.0.70 nvidia-cufft-cu12-11.2.1.3 nvidia-curand-cu12-10.3.5.147 nvidia-cusolver-cu12-11.6.1.9 nvidia-cusparse-cu12-12.3.1.170 nvidia-nvjitlink-cu12-12.4.127\n"
          ]
        }
      ]
    },
    {
      "cell_type": "code",
      "execution_count": 8,
      "metadata": {
        "id": "g1dqr6qSBpE2"
      },
      "outputs": [],
      "source": [
        "import os\n",
        "\n",
        "import torch\n",
        "\n",
        "from vision.runner import Trainer, MultiLabelTrainer\n",
        "from vision.optimizer import get_optimizer\n",
        "from vision.simple_net import SimpleNet\n",
        "from vision.simple_net_final import SimpleNetFinal\n",
        "from vision.my_resnet import MyResNet18\n",
        "from vision.multilabel_resnet import MultilabelResNet18\n",
        "from vision.data_transforms import (\n",
        "    get_fundamental_transforms,\n",
        "    get_fundamental_normalization_transforms,\n",
        "    get_fundamental_augmentation_transforms,\n",
        "    get_all_transforms,\n",
        ")\n",
        "from vision.stats_helper import compute_mean_and_std\n",
        "from vision.confusion_matrix import (\n",
        "    generate_confusion_data,\n",
        "    generate_confusion_matrix,\n",
        "    plot_confusion_matrix,\n",
        "    get_pred_images_for_target,\n",
        "    generate_and_plot_confusion_matrix,\n",
        "    generate_and_plot_accuracy_table,\n",
        ")\n",
        "from vision.dl_utils import save_trained_model_weights\n",
        "\n",
        "%load_ext autoreload\n",
        "%autoreload 2"
      ]
    },
    {
      "cell_type": "code",
      "source": [
        "import sys\n",
        "import os\n",
        "\n",
        "# Get the absolute path of the project\n",
        "project_path = \"/content/CV_proj3\"  # Update this if your repo path is different\n",
        "sys.path.append(project_path)\n",
        "\n",
        "# Verify that \"tests\" exists\n",
        "print(os.listdir(project_path))  # Should list the 'tests' folder\n",
        "\n"
      ],
      "metadata": {
        "id": "__RLeat_hlHl",
        "outputId": "9dc2f61b-c1c5-496b-99d6-4277eff84246",
        "colab": {
          "base_uri": "https://localhost:8080/"
        }
      },
      "execution_count": null,
      "outputs": [
        {
          "output_type": "stream",
          "name": "stdout",
          "text": [
            "['data', 'pyproject.toml', 'setup.cfg', 'scene_attributes_test.csv', 'README.md', '.colab_zip_dir_list.yml', 'conda', 'tests', 'zip_for_colab.py', 'zip_submission.py', 'assets', '.zip_dir_list.yml', 'docs', 'src', 'scene_attributes_train.csv', '.git', '.gitignore', 'proj3.ipynb']\n"
          ]
        }
      ]
    },
    {
      "cell_type": "code",
      "source": [
        "!ls /content/CV_proj3/tests"
      ],
      "metadata": {
        "id": "r-4ijre7inmn",
        "outputId": "559a90f2-c9bb-4bca-80fc-2a6dd1ccd1c6",
        "colab": {
          "base_uri": "https://localhost:8080/"
        }
      },
      "execution_count": null,
      "outputs": [
        {
          "output_type": "stream",
          "name": "stdout",
          "text": [
            "data\t\t     small_data\t\t       test_image_loader.py\t  test_simple_net.py\n",
            "__init__.py\t     test_confusion_matrix.py  test_multilabel_resnet.py  test_stats_helper.py\n",
            "model_test_utils.py  test_data_transforms.py   test_my_resnet.py\t  utils.py\n",
            "__pycache__\t     test_dl_utils.py\t       test_simple_net_final.py\n"
          ]
        }
      ]
    },
    {
      "cell_type": "code",
      "source": [
        "%cd /content/CV_proj3/tests"
      ],
      "metadata": {
        "id": "tnpkZm1Ejl8n",
        "outputId": "2af39f12-f265-49d3-e5b3-075bab3b5438",
        "colab": {
          "base_uri": "https://localhost:8080/"
        }
      },
      "execution_count": null,
      "outputs": [
        {
          "output_type": "stream",
          "name": "stdout",
          "text": [
            "/content/CV_proj3/tests\n"
          ]
        }
      ]
    },
    {
      "cell_type": "code",
      "source": [
        "import os\n",
        "print(os.getcwd())"
      ],
      "metadata": {
        "id": "2J2UA1yhjhWM",
        "outputId": "409efb5a-150d-44e4-ce9d-60c3b2102d55",
        "colab": {
          "base_uri": "https://localhost:8080/"
        }
      },
      "execution_count": 9,
      "outputs": [
        {
          "output_type": "stream",
          "name": "stdout",
          "text": [
            "/content/CV_proj3\n"
          ]
        }
      ]
    },
    {
      "cell_type": "code",
      "execution_count": 10,
      "metadata": {
        "id": "JKX1cUvTvgjL"
      },
      "outputs": [],
      "source": [
        "import sys\n",
        "sys.path.append('/content/CV_proj3/tests')\n",
        "\n",
        "from tests.utils import verify\n",
        "from tests.test_stats_helper import test_mean_and_variance\n",
        "from tests.test_image_loader import (\n",
        "    test_dataset_length,\n",
        "    test_unique_vals,\n",
        "    test_class_values,\n",
        "    test_load_img_from_path,\n",
        "    test_multilabel_dataset_length,\n",
        "    test_multilabel_unique_vals,\n",
        ")\n",
        "from tests.test_data_transforms import (\n",
        "    test_fundamental_transforms,\n",
        "    test_data_augmentation_transforms,\n",
        "    test_data_augmentation_with_normalization_transforms,\n",
        ")\n",
        "from tests.test_dl_utils import (\n",
        "    test_compute_accuracy,\n",
        "    test_compute_loss,\n",
        "    test_compute_multilabel_accuracy,\n",
        ")\n",
        "from tests.test_simple_net import test_simple_net\n",
        "from tests.test_simple_net_final import test_simple_net_final\n",
        "from tests.test_my_resnet import test_my_resnet\n",
        "from tests.test_multilabel_resnet import test_multilabel_resnet\n",
        "from tests.test_confusion_matrix import (\n",
        "    test_generate_confusion_matrix,\n",
        "    test_generate_confusion_matrix_normalized,\n",
        ")"
      ]
    },
    {
      "cell_type": "code",
      "execution_count": 11,
      "metadata": {
        "id": "GjE0jIc5BpFN",
        "colab": {
          "base_uri": "https://localhost:8080/"
        },
        "outputId": "e11f01a7-1f6f-44e4-abee-7d134806f9d2"
      },
      "outputs": [
        {
          "output_type": "stream",
          "name": "stdout",
          "text": [
            "Cuda available:  True\n"
          ]
        }
      ],
      "source": [
        "is_cuda = True\n",
        "is_cuda = (\n",
        "    is_cuda and torch.cuda.is_available()\n",
        ")  # will turn off cuda if the machine doesnt have a GPU\n",
        "print(\"Cuda available: \", is_cuda)"
      ]
    },
    {
      "cell_type": "code",
      "execution_count": 12,
      "metadata": {
        "colab": {
          "base_uri": "https://localhost:8080/"
        },
        "id": "HNvSonOQZggL",
        "outputId": "bbc878f7-e7d5-42bd-e273-e03bfcb348b5"
      },
      "outputs": [
        {
          "output_type": "stream",
          "name": "stdout",
          "text": [
            "Apple silicon available: False\n"
          ]
        }
      ],
      "source": [
        "is_apple_silicon = True\n",
        "is_apple_silicon = is_apple_silicon and torch.backends.mps.is_available()\n",
        "print(f\"Apple silicon available: {is_apple_silicon}\")"
      ]
    },
    {
      "cell_type": "code",
      "execution_count": 13,
      "metadata": {
        "id": "zSUp5MMshb9m"
      },
      "outputs": [],
      "source": [
        "data_path = \"./data/\" if not use_colab else \"./data/\"\n",
        "model_path = \"../model_checkpoints/\" if not use_colab else \"./model_checkpoints/\""
      ]
    },
    {
      "cell_type": "markdown",
      "metadata": {
        "id": "aGSv2QfBBpFZ"
      },
      "source": [
        "## Part 1: SimpleNet\n",
        "To train a network in PyTorch, we need 4 components:\n",
        "1. **Dataset** - an object which can load the data and labels given an index.\n",
        "2. **Model** - an object that contains the network architecture definition.\n",
        "3. **Loss function** - a function that measures how far the network output is from the ground truth label.\n",
        "4. **Optimizer** - an object that optimizes the network parameters to reduce the loss value.\n",
        "\n",
        "### Part 1.1: Datasets\n",
        "Now let's create the **Datasets** object to be used later. Remember back in Project 1, we have initialized such a class to load 5 images? Here the task is similar: we have to load each image as well as it's classification label. The key idea is to store the paths to all the images in your dataset, and then be able to provide the image file path and its ground truth class id when given the index of a data example.\n",
        "\n",
        "We will map the scene names (text) into indices 0 to 14 in the image loader. You can choose any mapping you want but once fixed, it has to be consistent throughout this notebook.\n",
        "\n",
        "**TODO 1:** complete the `image_loader.py`"
      ]
    },
    {
      "cell_type": "code",
      "execution_count": 14,
      "metadata": {
        "id": "THRvAvluXFcS",
        "colab": {
          "base_uri": "https://localhost:8080/"
        },
        "outputId": "24c44cfa-1b1b-47a9-c0b8-fc7b986546ef"
      },
      "outputs": [
        {
          "output_type": "stream",
          "name": "stdout",
          "text": [
            "Testing your image loader (length): \u001b[32m\"Correct\"\u001b[0m\n",
            "Testing your image loader (values): \u001b[32m\"Correct\"\u001b[0m\n",
            "Testing your image loader (classes): \u001b[32m\"Correct\"\u001b[0m\n",
            "Testing your image loader (paths): \u001b[32m\"Correct\"\u001b[0m\n"
          ]
        }
      ],
      "source": [
        "inp_size = (64, 64)\n",
        "print(\"Testing your image loader (length):\", verify(test_dataset_length))\n",
        "print(\"Testing your image loader (values):\", verify(test_unique_vals))\n",
        "print(\"Testing your image loader (classes):\", verify(test_class_values))\n",
        "print(\"Testing your image loader (paths):\", verify(test_load_img_from_path))"
      ]
    },
    {
      "cell_type": "markdown",
      "metadata": {
        "id": "K3TJtEB2vgjQ"
      },
      "source": [
        "### Data transforms\n",
        "**TODO 2:** complete the function `get_fundamental_transforms()` in `data_transforms.py` to compile the following fundamental transforms:\n",
        "1. Resize the input image to the desired shape;\n",
        "2. Convert it to a tensor."
      ]
    },
    {
      "cell_type": "code",
      "execution_count": 15,
      "metadata": {
        "id": "xqpCmJoxvgjQ",
        "colab": {
          "base_uri": "https://localhost:8080/"
        },
        "outputId": "d93d5a39-c414-464a-d354-7f0f90e60ffb"
      },
      "outputs": [
        {
          "output_type": "stream",
          "name": "stdout",
          "text": [
            "Testing your fundamental data transforms:  \u001b[32m\"Correct\"\u001b[0m\n"
          ]
        }
      ],
      "source": [
        "print(\"Testing your fundamental data transforms: \", verify(test_fundamental_transforms))"
      ]
    },
    {
      "cell_type": "markdown",
      "metadata": {
        "id": "KnvQDyMfvgjR"
      },
      "source": [
        "### Part 1.2: Model\n",
        "The data is ready! Now we are preparing to move to the actual core of deep learning: the architecture. To get you started in this part, simply define a **2-layer** model in the `simple_net.py`. Here by \"2 layers\" we mean **2 convolutional layers**, so you need to figure out the supporting utilities like ReLU, Max Pooling, and Fully Connected layers, and configure them with proper parameters to make the tensor flow.\n",
        "\n",
        "You may refer to Figure 2 in proj4 handout for a sample network architecture (it's the architecture TAs used in their implementation and is sufficient to get you pass Part 1).\n",
        "\n",
        "**TODO 3**: Do the following in ```simple_net.py```:\n",
        "- ```self.conv_layers```\n",
        "- ```self.fc_layers```\n",
        "- ```forward()```\n",
        "\n",
        "Leave the ```self.loss_criterion = None``` for now."
      ]
    },
    {
      "cell_type": "code",
      "execution_count": 16,
      "metadata": {
        "id": "jvVL-ap0BpFx",
        "colab": {
          "base_uri": "https://localhost:8080/"
        },
        "outputId": "9c94f2bb-302e-4c86-ff92-a520af5fc022"
      },
      "outputs": [
        {
          "output_type": "stream",
          "name": "stdout",
          "text": [
            "Testing your SimpleNet architecture:  \u001b[32m\"Correct\"\u001b[0m\n"
          ]
        }
      ],
      "source": [
        "print(\"Testing your SimpleNet architecture: \", verify(test_simple_net))"
      ]
    },
    {
      "cell_type": "code",
      "execution_count": null,
      "metadata": {
        "id": "1OTCOQNFvgjS"
      },
      "outputs": [],
      "source": [
        "simple_model = SimpleNet()"
      ]
    },
    {
      "cell_type": "markdown",
      "metadata": {
        "id": "MkbHMcEYvgjS"
      },
      "source": [
        "### Loss function\n",
        "When defining your model architecture, also initialize the `loss_criterion` variable there. Remeber this is multi-class classification problem, and choose the [appropriate loss function](https://pytorch.org/docs/stable/nn.html#loss-functions) might be useful here.\n",
        "\n",
        "**TODO 4:** Assign a loss function to ```self.loss_criterion``` in ```simple_net.py```."
      ]
    },
    {
      "cell_type": "code",
      "execution_count": null,
      "metadata": {
        "id": "JeBFNW0mvgjS",
        "colab": {
          "base_uri": "https://localhost:8080/"
        },
        "outputId": "e3920e37-0e31-448d-b09f-c06e40b70cdf"
      },
      "outputs": [
        {
          "output_type": "stream",
          "name": "stdout",
          "text": [
            "SimpleNet(\n",
            "  (conv_layers): Sequential(\n",
            "    (0): Conv2d(1, 10, kernel_size=(5, 5), stride=(1, 1))\n",
            "    (1): ReLU()\n",
            "    (2): MaxPool2d(kernel_size=3, stride=3, padding=0, dilation=1, ceil_mode=False)\n",
            "    (3): Conv2d(10, 10, kernel_size=(5, 5), stride=(1, 1))\n",
            "    (4): ReLU()\n",
            "    (5): MaxPool2d(kernel_size=3, stride=3, padding=0, dilation=1, ceil_mode=False)\n",
            "  )\n",
            "  (fc_layers): Sequential(\n",
            "    (0): Linear(in_features=250, out_features=100, bias=True)\n",
            "    (1): ReLU()\n",
            "    (2): Linear(in_features=100, out_features=15, bias=True)\n",
            "  )\n",
            "  (loss_criterion): CrossEntropyLoss()\n",
            ")\n"
          ]
        }
      ],
      "source": [
        "print(simple_model)"
      ]
    },
    {
      "cell_type": "markdown",
      "metadata": {
        "id": "wwEAGDYrvgjU"
      },
      "source": [
        "### Optimizer\n",
        "**TODO 5:** **initialize the following cell with proper values for learning rate and weight decay** (you will need to come back and tune these values for better performance once the trainer section is done)"
      ]
    },
    {
      "cell_type": "code",
      "execution_count": null,
      "metadata": {
        "id": "V2cwtK5PBpF7"
      },
      "outputs": [],
      "source": [
        "# TODO: add a decent initial setting and tune from there. The values are intentionally bad.\n",
        "# We recommend using the adam optimizer and consulting Pytorch's adam documentation for default hyperparameter values.\n",
        "optimizer_config = {\"optimizer_type\": \"adam\", \"lr\": 1e-3, \"weight_decay\": 5e-5}"
      ]
    },
    {
      "cell_type": "markdown",
      "source": [],
      "metadata": {
        "id": "Y8xLocsalafC"
      }
    },
    {
      "cell_type": "markdown",
      "metadata": {
        "id": "UkC1MXKZhb9w"
      },
      "source": [
        "**TODO 6:** complete the ```get_optimizer()``` function in ```optimizer.py```. The helper function accepts three basic configurations as defined below. Any other configuration is optional. *SGD* optimizer type should be supported, anything else is optional."
      ]
    },
    {
      "cell_type": "code",
      "execution_count": null,
      "metadata": {
        "id": "P0CrYZa4BpGE"
      },
      "outputs": [],
      "source": [
        "optimizer = get_optimizer(simple_model, optimizer_config)"
      ]
    },
    {
      "cell_type": "markdown",
      "metadata": {
        "id": "FffW3ZPhvgjU"
      },
      "source": [
        "### Part 1.3: Trainer"
      ]
    },
    {
      "cell_type": "markdown",
      "metadata": {
        "id": "nBu49n5ghb9x"
      },
      "source": [
        "**TODO 7:** Next we define the trainer for the model; to start, we will need to do the following in ```dl_utils.py```:\n",
        "- ```compute_loss()```: use the model's loss criterion and compute the corresponding loss between the model output and the ground-truth labels.\n",
        "- ```compute_accuracy()```: compute the classification accuracy given the prediction logits and the ground-truth labels."
      ]
    },
    {
      "cell_type": "code",
      "execution_count": null,
      "metadata": {
        "id": "b7vcKhQohb9y",
        "colab": {
          "base_uri": "https://localhost:8080/"
        },
        "outputId": "94eedd86-04ff-4781-f80b-6c4e0e7e1231"
      },
      "outputs": [
        {
          "output_type": "stream",
          "name": "stdout",
          "text": [
            "Testing your trainer (loss values):  \u001b[32m\"Correct\"\u001b[0m\n",
            "Testing your trainer (accuracy computation):  \u001b[32m\"Correct\"\u001b[0m\n"
          ]
        }
      ],
      "source": [
        "print(\"Testing your trainer (loss values): \", verify(test_compute_loss))\n",
        "print(\"Testing your trainer (accuracy computation): \", verify(test_compute_accuracy))"
      ]
    },
    {
      "cell_type": "markdown",
      "metadata": {
        "id": "fk060N9wvgjU"
      },
      "source": [
        "Then pass in the model, optimizer, transforms for both the training and testing datasets into the trainer, and proceed to the next cell to train it. If you have implemented everything correctly, you should be seeing a decreasing loss value.\n",
        "\n",
        "**Note** in this project, we will be using the test set as the validation set (i.e. using it to guide our decisions about models and hyperparameters while training. In actual practise, you would not interact with the test set until reporting the final results.\n",
        "\n",
        "**Note** that your CPU should be sufficient to handle the training process for all networks in this project, and the following training cells will take less than 5 minutes; you may also want to decrease the value for `num_epochs` and quickly experiment with your parameters. The default value of **30** is good enough to get you around the threshold for Part 1, and you are free to increase it a bit and adjust other parameters in this part."
      ]
    },
    {
      "cell_type": "code",
      "execution_count": null,
      "metadata": {
        "id": "UiGOvPJfBpGO"
      },
      "outputs": [],
      "source": [
        "# re-init the model so that the weights are all random\n",
        "simple_model_base = SimpleNet()\n",
        "optimizer = get_optimizer(simple_model_base, optimizer_config)\n",
        "\n",
        "trainer = Trainer(\n",
        "    data_dir=data_path,\n",
        "    model=simple_model_base,\n",
        "    optimizer=optimizer,\n",
        "    model_dir=os.path.join(model_path, \"simple_net\"),\n",
        "    train_data_transforms=get_fundamental_transforms(inp_size),\n",
        "    val_data_transforms=get_fundamental_transforms(inp_size),\n",
        "    batch_size=32,\n",
        "    load_from_disk=False,\n",
        "    cuda=is_cuda,\n",
        "    mps=is_apple_silicon,\n",
        ")"
      ]
    },
    {
      "cell_type": "code",
      "execution_count": null,
      "metadata": {
        "id": "paNLyU5cBpGX",
        "scrolled": false,
        "colab": {
          "base_uri": "https://localhost:8080/"
        },
        "outputId": "2784987e-55d2-42a3-88c6-079060824e5d"
      },
      "outputs": [
        {
          "output_type": "stream",
          "name": "stdout",
          "text": [
            "Epoch:1 Train Loss:0.0843 Val Loss: 0.0860 Train Accuracy: 0.0982 Validation Accuracy: 0.0760\n",
            "Epoch:2 Train Loss:0.0817 Val Loss: 0.0831 Train Accuracy: 0.1330 Validation Accuracy: 0.1353\n",
            "Epoch:3 Train Loss:0.0770 Val Loss: 0.0761 Train Accuracy: 0.1829 Validation Accuracy: 0.1867\n",
            "Epoch:4 Train Loss:0.0713 Val Loss: 0.0706 Train Accuracy: 0.2503 Validation Accuracy: 0.2400\n",
            "Epoch:5 Train Loss:0.0670 Val Loss: 0.0753 Train Accuracy: 0.2831 Validation Accuracy: 0.1940\n",
            "Epoch:6 Train Loss:0.0654 Val Loss: 0.0664 Train Accuracy: 0.2982 Validation Accuracy: 0.2860\n",
            "Epoch:7 Train Loss:0.0632 Val Loss: 0.0677 Train Accuracy: 0.3233 Validation Accuracy: 0.2627\n",
            "Epoch:8 Train Loss:0.0617 Val Loss: 0.0683 Train Accuracy: 0.3380 Validation Accuracy: 0.2647\n",
            "Epoch:9 Train Loss:0.0620 Val Loss: 0.0788 Train Accuracy: 0.3420 Validation Accuracy: 0.2200\n",
            "Epoch:10 Train Loss:0.0649 Val Loss: 0.0641 Train Accuracy: 0.3216 Validation Accuracy: 0.3213\n",
            "Epoch:11 Train Loss:0.0596 Val Loss: 0.0629 Train Accuracy: 0.3601 Validation Accuracy: 0.3107\n",
            "Epoch:12 Train Loss:0.0584 Val Loss: 0.0628 Train Accuracy: 0.3628 Validation Accuracy: 0.3147\n",
            "Epoch:13 Train Loss:0.0580 Val Loss: 0.0650 Train Accuracy: 0.3712 Validation Accuracy: 0.2967\n",
            "Epoch:14 Train Loss:0.0583 Val Loss: 0.0613 Train Accuracy: 0.3688 Validation Accuracy: 0.3380\n",
            "Epoch:15 Train Loss:0.0573 Val Loss: 0.0619 Train Accuracy: 0.3839 Validation Accuracy: 0.3280\n",
            "Epoch:16 Train Loss:0.0573 Val Loss: 0.0602 Train Accuracy: 0.3789 Validation Accuracy: 0.3387\n",
            "Epoch:17 Train Loss:0.0555 Val Loss: 0.0609 Train Accuracy: 0.3873 Validation Accuracy: 0.3267\n",
            "Epoch:18 Train Loss:0.0553 Val Loss: 0.0597 Train Accuracy: 0.4050 Validation Accuracy: 0.3387\n",
            "Epoch:19 Train Loss:0.0542 Val Loss: 0.0617 Train Accuracy: 0.4121 Validation Accuracy: 0.3367\n",
            "Epoch:20 Train Loss:0.0542 Val Loss: 0.0585 Train Accuracy: 0.4168 Validation Accuracy: 0.3507\n",
            "Epoch:21 Train Loss:0.0532 Val Loss: 0.0588 Train Accuracy: 0.4235 Validation Accuracy: 0.3593\n",
            "Epoch:22 Train Loss:0.0543 Val Loss: 0.0574 Train Accuracy: 0.4181 Validation Accuracy: 0.3733\n",
            "Epoch:23 Train Loss:0.0523 Val Loss: 0.0595 Train Accuracy: 0.4422 Validation Accuracy: 0.3593\n",
            "Epoch:24 Train Loss:0.0525 Val Loss: 0.0571 Train Accuracy: 0.4446 Validation Accuracy: 0.3693\n",
            "Epoch:25 Train Loss:0.0513 Val Loss: 0.0571 Train Accuracy: 0.4559 Validation Accuracy: 0.3740\n",
            "Epoch:26 Train Loss:0.0505 Val Loss: 0.0576 Train Accuracy: 0.4683 Validation Accuracy: 0.3660\n",
            "Epoch:27 Train Loss:0.0500 Val Loss: 0.0584 Train Accuracy: 0.4647 Validation Accuracy: 0.3707\n",
            "Epoch:28 Train Loss:0.0495 Val Loss: 0.0588 Train Accuracy: 0.4657 Validation Accuracy: 0.3547\n",
            "Epoch:29 Train Loss:0.0492 Val Loss: 0.0624 Train Accuracy: 0.4754 Validation Accuracy: 0.3347\n",
            "Epoch:30 Train Loss:0.0521 Val Loss: 0.0583 Train Accuracy: 0.4573 Validation Accuracy: 0.3747\n",
            "CPU times: user 16.7 s, sys: 3.51 s, total: 20.2 s\n",
            "Wall time: 2min 17s\n"
          ]
        }
      ],
      "source": [
        "%%time\n",
        "trainer.run_training_loop(num_epochs=30)"
      ]
    },
    {
      "cell_type": "markdown",
      "metadata": {
        "id": "tDNaA9ekvgjV"
      },
      "source": [
        "After you have finished the training process, now plot out the loss and accuracy history. You can also check out the final accuracy for both training and testing data. Copy the accuracy plots and values onto the report, and answer the questions there."
      ]
    },
    {
      "cell_type": "code",
      "execution_count": null,
      "metadata": {
        "id": "z0b_WwJhBpGf",
        "scrolled": false,
        "colab": {
          "base_uri": "https://localhost:8080/",
          "height": 927
        },
        "outputId": "e0a0e74d-f1e7-4f6c-d01c-f7b8f4ee258e"
      },
      "outputs": [
        {
          "output_type": "display_data",
          "data": {
            "text/plain": [
              "<Figure size 640x480 with 1 Axes>"
            ],
            "image/png": "[encoded data removed]"
          },
          "metadata": {}
        },
        {
          "output_type": "display_data",
          "data": {
            "text/plain": [
              "<Figure size 640x480 with 1 Axes>"
            ],
            "image/png": "[encoded data removed]"
          },
          "metadata": {}
        }
      ],
      "source": [
        "trainer.plot_loss_history()\n",
        "trainer.plot_accuracy()"
      ]
    },
    {
      "cell_type": "code",
      "execution_count": null,
      "metadata": {
        "id": "8epn0IBmBpGn",
        "scrolled": true
      },
      "outputs": [],
      "source": [
        "train_accuracy = trainer.train_accuracy_history[-1]\n",
        "validation_accuracy = trainer.validation_accuracy_history[-1]\n",
        "print(\n",
        "    \"Train Accuracy = {}; Validation Accuracy = {}\".format(\n",
        "        train_accuracy, validation_accuracy\n",
        "    )\n",
        ")"
      ]
    },
    {
      "cell_type": "markdown",
      "metadata": {
        "id": "EfGo97oqhb92"
      },
      "source": [
        "**TODO 8:** Obtain **45%** validation accuracy to receive full credit for Part 1. You can go back to TODO 5 to tune your parameters using the following tips:\n",
        "1. If the loss decreases very slowly, try increasing the value of the lr (learning rate).\n",
        "2. Initially keep the value of weight decay (L2-regularization) very low.\n",
        "3. Try to first adjust lr in multiples of 3 initially. When you are close to reasonable performance, do a more granular adjustment.\n",
        "4. If you want to increase the validation accuracy by a little bit, try increasing the weight_decay to prevent overfitting. Do not use tricks from Section 6 just yet."
      ]
    },
    {
      "cell_type": "markdown",
      "metadata": {
        "id": "d3Ec7hcZhb92"
      },
      "source": [
        "### Save the model for your SimpleNet\n",
        "Once you are satisfied with the performance of your trained model, you need to save it so that you can upload it to Gradescope along with the other models.\n",
        "\n",
        "We'll save the model to the current directory. If you're running locally on your computer, this should be in the `vision` folder, which is the desired location for uploading to gradescope.\n",
        "\n",
        "If you are running on Colab, make sure you download the trained `.pt` files that will be generated. This process is similar to that of Project 4.\n",
        "- Click on the folder icon in the left hand side menu\n",
        "- Select the 3 dots next to the `<out_name>.pt` file that is generated and click download\n",
        "- Store the file in the `vision` folder."
      ]
    },
    {
      "cell_type": "code",
      "execution_count": null,
      "metadata": {
        "id": "AUjbBOiDhb94"
      },
      "outputs": [],
      "source": [
        "save_trained_model_weights(simple_model_base, out_dir=\"./\")"
      ]
    },
    {
      "cell_type": "markdown",
      "metadata": {
        "id": "f9fcNntXhb94"
      },
      "source": [
        "## Part 2: SimpleNet with additional modifications\n",
        "\n",
        "In Part 1 we implemented a basic CNN, but it doesn’t perform very well.  Let’s try a few tricks to see if we canimprove our model performance. You can start by copying your `SimpleNet` architecture from `simple_net.py` into `SimpleNetFinal` class in `simple_net_final.py`.\n",
        "\n",
        "**NOTE**: Before working on this part of the project, make sure to take a look at the report and write down your initial training and validation accuracy of you `SimpleNet` from the previous part. We will keep track of how these values change at each step of adding a few feature as we build up to `SimpleNetFinal`."
      ]
    },
    {
      "cell_type": "markdown",
      "metadata": {
        "id": "lpI4Xda_hb-I"
      },
      "source": [
        "### Part 2.1: Problem 1 We don’t have enough training data. Let’s “jitter.”"
      ]
    },
    {
      "cell_type": "markdown",
      "metadata": {
        "id": "6SqKl7l1hb-J"
      },
      "source": [
        "We are going to increase our amount of training data by left-right mirroring and color jittering the training images during the learning process.\n",
        "\n",
        "**TODO 9:** complete the `get_fundamental_augmentation_transforms()` function in `data_transforms.py`: first copy your existing fundamental transform implementation into this function, and then insert a couple of other transforms which help you do the above adjustment.                 \n",
        "\n",
        "Useful functions:`transforms.RandomHorizontalFlip`, `transforms.ColorJitter`"
      ]
    },
    {
      "cell_type": "code",
      "execution_count": null,
      "metadata": {
        "id": "JW9BDcJ0hb-J",
        "colab": {
          "base_uri": "https://localhost:8080/"
        },
        "outputId": "8f8b4095-13f1-4b3b-ab50-c2de2e444630"
      },
      "outputs": [
        {
          "output_type": "stream",
          "name": "stdout",
          "text": [
            "Testing your data transforms with data augmentation:  \u001b[32m\"Correct\"\u001b[0m\n"
          ]
        }
      ],
      "source": [
        "print(\n",
        "    \"Testing your data transforms with data augmentation: \",\n",
        "    verify(test_data_augmentation_transforms),\n",
        ")"
      ]
    },
    {
      "cell_type": "markdown",
      "metadata": {
        "id": "6eznl7cPhb-K"
      },
      "source": [
        "### Part 2.2: Problem 2 The images aren’t zero-centered and variance-normalized."
      ]
    },
    {
      "cell_type": "markdown",
      "metadata": {
        "id": "IJ1Src4shb-K"
      },
      "source": [
        "We are going to \"zero-center\" and \"normalize\" the dataset so that each entry has zero mean and the overall standard deviation is 1.\n",
        "\n",
        "**TODO 10**:  fill in the `compute_mean_and_std()` in `stats_helper.py` to compute the **mean** and **standard deviation** of both training and validation data."
      ]
    },
    {
      "cell_type": "code",
      "execution_count": null,
      "metadata": {
        "id": "TjYWIY_Bhb-K",
        "colab": {
          "base_uri": "https://localhost:8080/"
        },
        "outputId": "de1b3270-ba5b-44b2-eb03-0a2ed98d0c94"
      },
      "outputs": [
        {
          "output_type": "stream",
          "name": "stdout",
          "text": [
            "Testing your mean and std computation:  \u001b[32m\"Correct\"\u001b[0m\n"
          ]
        }
      ],
      "source": [
        "print(\"Testing your mean and std computation: \", verify(test_mean_and_variance))\n",
        "dataset_mean, dataset_std = compute_mean_and_std(data_path)"
      ]
    },
    {
      "cell_type": "code",
      "source": [
        "dataset_mean, dataset_std = 0.46178912,0.25604102"
      ],
      "metadata": {
        "id": "L7JJbFOuwpLU"
      },
      "execution_count": 22,
      "outputs": []
    },
    {
      "cell_type": "code",
      "execution_count": 23,
      "metadata": {
        "id": "6FRdPZaWhb-L",
        "colab": {
          "base_uri": "https://localhost:8080/"
        },
        "outputId": "333b055b-9500-4d38-d486-a853461d5f4c"
      },
      "outputs": [
        {
          "output_type": "stream",
          "name": "stdout",
          "text": [
            "Dataset mean = 0.46178912, standard deviation = 0.25604102\n"
          ]
        }
      ],
      "source": [
        "print(\"Dataset mean = {}, standard deviation = {}\".format(dataset_mean, dataset_std))"
      ]
    },
    {
      "cell_type": "markdown",
      "metadata": {
        "id": "4ETCNQFzhb-L"
      },
      "source": [
        "**TODO 11**: complete the function `get_all_transforms()` function in `data_transforms.py` to normalize the input using the passed in mean andstandard deviation: you need to copy your implementation of `get_fundamental_augmentation_transforms()` into this function first.                 "
      ]
    },
    {
      "cell_type": "code",
      "execution_count": 24,
      "metadata": {
        "id": "VysOVwXfhb-L",
        "scrolled": true,
        "colab": {
          "base_uri": "https://localhost:8080/"
        },
        "outputId": "d1b5774f-e2c2-4e81-fa32-23925c08df3d"
      },
      "outputs": [
        {
          "output_type": "stream",
          "name": "stdout",
          "text": [
            "Testing your normalized data transforms:  \u001b[32m\"Correct\"\u001b[0m\n"
          ]
        }
      ],
      "source": [
        "print(\n",
        "    \"Testing your normalized data transforms: \",\n",
        "    verify(test_data_augmentation_with_normalization_transforms),\n",
        ")"
      ]
    },
    {
      "cell_type": "code",
      "execution_count": null,
      "metadata": {
        "id": "gVLqAzmlhb-M"
      },
      "outputs": [],
      "source": [
        "inp_size = (64, 64)"
      ]
    },
    {
      "cell_type": "markdown",
      "metadata": {
        "id": "WyUv4VRHhb-N"
      },
      "source": [
        "### Part 2.3-2.5: Problem 3 ~ 5: Modify the network."
      ]
    },
    {
      "cell_type": "markdown",
      "metadata": {
        "id": "4_zfgLhrhb-N"
      },
      "source": [
        "**TODO 12:** modify the layers in the `SimpleNet` class in `simple_net.py`:\n",
        "1. Add the dropout layer\n",
        "2. Add one or two more blocks of “conv/pool/relu”.\n",
        "3. Add a batch normalization layer after each convolutional layer (except for the last)"
      ]
    },
    {
      "cell_type": "code",
      "execution_count": null,
      "metadata": {
        "id": "_cLHBt3Jhb-O"
      },
      "outputs": [],
      "source": [
        "print(\"Testing your SimpleNetFinal architecture: \", verify(test_simple_net_final))"
      ]
    },
    {
      "cell_type": "code",
      "execution_count": null,
      "metadata": {
        "id": "-sRvxPmjhb-P"
      },
      "outputs": [],
      "source": [
        "simple_model_final = SimpleNetFinal()\n",
        "print(simple_model_final)"
      ]
    },
    {
      "cell_type": "markdown",
      "metadata": {
        "id": "i7tfVgjhhb-P"
      },
      "source": [
        "Similar to the previous part, **initialize the following cell with proper values for learning rate and weight decay**."
      ]
    },
    {
      "cell_type": "code",
      "execution_count": null,
      "metadata": {
        "id": "rhwvWHnJhb-Q"
      },
      "outputs": [],
      "source": [
        "# TODO: add a decent initial setting and tune from there. The values are intentionally bad.\n",
        "# We recommend using the adam optimizer and consulting Pytorch's adam documentation for default hyperparameter values.\n",
        "optimizer_config = {\"optimizer_type\": \"adam\", \"lr\": 1e-1, \"weight_decay\": 1e-2}"
      ]
    },
    {
      "cell_type": "markdown",
      "metadata": {
        "id": "tC-V_tTthb-Q"
      },
      "source": [
        "The following cell will take longer than Part 1.3, as now we have more data (and more variability), and the model is slightly more complicated than before as well; however, it should finish within 10~15 minutes anyway, and the default num_epochs is also good enough as a starting point for you to pass this part."
      ]
    },
    {
      "cell_type": "code",
      "execution_count": null,
      "metadata": {
        "id": "VBMTF3JZhb-R"
      },
      "outputs": [],
      "source": [
        "simple_model_final = SimpleNetFinal()\n",
        "optimizer = get_optimizer(simple_model_final, optimizer_config)\n",
        "\n",
        "trainer = Trainer(\n",
        "    data_dir=data_path,\n",
        "    model=simple_model_final,\n",
        "    optimizer=optimizer,\n",
        "    model_dir=os.path.join(model_path, \"simple_model_final\"),\n",
        "    train_data_transforms=get_all_transforms(inp_size, [dataset_mean], [dataset_std]),\n",
        "    val_data_transforms=get_fundamental_normalization_transforms(\n",
        "        inp_size, [dataset_mean], [dataset_std]\n",
        "    ),\n",
        "    batch_size=32,\n",
        "    load_from_disk=False,\n",
        "    cuda=is_cuda,\n",
        "    mps=is_apple_silicon,\n",
        ")"
      ]
    },
    {
      "cell_type": "code",
      "execution_count": null,
      "metadata": {
        "id": "fpF7R50whb-R"
      },
      "outputs": [],
      "source": [
        "%%time\n",
        "trainer.run_training_loop(num_epochs=30)"
      ]
    },
    {
      "cell_type": "markdown",
      "metadata": {
        "id": "BSvR7Ufjhb-S"
      },
      "source": [
        "Similar to Part 1, now plot out the loss and accuracy history. Also copy the plots onto the report, and answer the questions accordingly."
      ]
    },
    {
      "cell_type": "code",
      "execution_count": null,
      "metadata": {
        "id": "Chc9YDS9hb-S"
      },
      "outputs": [],
      "source": [
        "trainer.plot_loss_history()\n",
        "trainer.plot_accuracy()"
      ]
    },
    {
      "cell_type": "code",
      "execution_count": null,
      "metadata": {
        "id": "m9wHX7tohb-T"
      },
      "outputs": [],
      "source": [
        "train_accuracy = trainer.train_accuracy_history[-1]\n",
        "validation_accuracy = trainer.validation_accuracy_history[-1]\n",
        "print(\n",
        "    \"Train Accuracy = {}; Validation Accuracy = {}\".format(\n",
        "        train_accuracy, validation_accuracy\n",
        "    )\n",
        ")"
      ]
    },
    {
      "cell_type": "markdown",
      "metadata": {
        "id": "aHJVkkG9hb-T"
      },
      "source": [
        "**TODO 13:** Obtain a **55%** validation accuracy to receive full credit for Part 2."
      ]
    },
    {
      "cell_type": "markdown",
      "metadata": {
        "id": "mLUgrlT5hb-T"
      },
      "source": [
        "### Save the model for your SimpleNetFinal"
      ]
    },
    {
      "cell_type": "code",
      "execution_count": null,
      "metadata": {
        "id": "kdMA-QIEhb-U"
      },
      "outputs": [],
      "source": [
        "save_trained_model_weights(simple_model_final, out_dir=\"./\")"
      ]
    },
    {
      "cell_type": "markdown",
      "metadata": {
        "id": "ywG8NSYxhb-U"
      },
      "source": [
        "### Part 2.6: Analysis using confusion matrix\n",
        "A confusion matrix is a helpful tool for visualizing the performance of classification algorithms. Each row of the matrix represents the instances in a predicted class, while each column represents the instances in an actual class. The confusion matrix counts the number of instances of a given (target, prediction) pair. We are able to use this to understand the classification behaviour.\n",
        "\n",
        "A confusion matrix can also be normalized by dividing each row by the total number of instances of the target class. This is helpful for comparing between large and small datasets, as well as when there is significant class imbalance."
      ]
    },
    {
      "cell_type": "markdown",
      "metadata": {
        "id": "5xhbUUMDhb-U"
      },
      "source": [
        "**TODO 14:** Do the following to visualize the confusion matrix:\n",
        "\n",
        "1. Implement the code to extract the predictions and targets from a model and a dataset\n",
        "2. Implement the code to generate the confusion matrix, and its normalized form\n",
        "3. Plot the confusion matrix and try to understand how your model is performing, and where it falls short. We'll use this later on for the report."
      ]
    },
    {
      "cell_type": "code",
      "execution_count": null,
      "metadata": {
        "id": "47oQB8Y5hb-V"
      },
      "outputs": [],
      "source": [
        "print(verify(test_generate_confusion_matrix))\n",
        "print(verify(test_generate_confusion_matrix_normalized))"
      ]
    },
    {
      "cell_type": "code",
      "execution_count": null,
      "metadata": {
        "id": "alg_NXDphb-V"
      },
      "outputs": [],
      "source": [
        "%%time\n",
        "targets, predictions, class_labels = generate_confusion_data(\n",
        "    trainer.model, trainer.val_dataset, use_cuda=is_cuda\n",
        ")"
      ]
    },
    {
      "cell_type": "code",
      "execution_count": null,
      "metadata": {
        "id": "eiAcQIdWhb-V"
      },
      "outputs": [],
      "source": [
        "confusion_matrix = generate_confusion_matrix(targets, predictions, len(class_labels))"
      ]
    },
    {
      "cell_type": "code",
      "execution_count": null,
      "metadata": {
        "id": "MUzxZ1-Qhb-W"
      },
      "outputs": [],
      "source": [
        "plot_confusion_matrix(confusion_matrix, class_labels)"
      ]
    },
    {
      "cell_type": "markdown",
      "metadata": {
        "id": "amh1wxlJBpHj"
      },
      "source": [
        "## Part 3: ResNet\n",
        "You can see that after the above adjustment, our model performance increases in terms of testing accuracy. Although the training accuracy drops, now it's closer to the testing values and that's more natural in terms of performance. But we are not satisfied with the final performance yet. Our model, in the end, is still a 2-layer SimpleNet and it might be capable of capturing some features, but could be improved a lot if we go **deeper**. In this part we are going to see the power of a famous model: ResNet18."
      ]
    },
    {
      "cell_type": "code",
      "execution_count": 17,
      "metadata": {
        "id": "ttbhBZ7CXUng"
      },
      "outputs": [],
      "source": [
        "inp_size = (224, 224)"
      ]
    },
    {
      "cell_type": "markdown",
      "metadata": {
        "id": "HGzfNfMivgjb"
      },
      "source": [
        "### Part 3.1 & 3.2: Fine-tuning the ResNet\n",
        "Now let's define a ResNet which can be fit onto our dataset. PyTorch has provided us with pre-trained models like ResNet18, so what you want to do is to load the model first, and then adjust some of the layers such that it fits with our own dataset, instead of outputing scores to 1000 classes from the original ResNet18 model.\n",
        "\n",
        "\n",
        "**TODO 15:** Switch to `my_resnet.py`, and copy the network architecture and weights of all but the last fc layers from the pretrained network.\n",
        "\n",
        "After you have defined the correct architecture of the model, make some tweaks to the existing layers: **freeze** the **convolutional** layers and first 2 **linear** layers so we don't update the weights of them; more details can be found in the instruction webpage.\n",
        "\n",
        "Note that you are allowed to add more layers/unfreeze more layers if you see fit."
      ]
    },
    {
      "cell_type": "code",
      "execution_count": 18,
      "metadata": {
        "id": "Ruw-dg8avgjb",
        "colab": {
          "base_uri": "https://localhost:8080/"
        },
        "outputId": "61903b86-5193-4d2d-a779-87a9c17a5e88"
      },
      "outputs": [
        {
          "output_type": "stream",
          "name": "stderr",
          "text": [
            "/usr/local/lib/python3.11/dist-packages/torchvision/models/_utils.py:208: UserWarning: The parameter 'pretrained' is deprecated since 0.13 and may be removed in the future, please use 'weights' instead.\n",
            "  warnings.warn(\n",
            "/usr/local/lib/python3.11/dist-packages/torchvision/models/_utils.py:223: UserWarning: Arguments other than a weight enum or `None` for 'weights' are deprecated since 0.13 and may be removed in the future. The current behavior is equivalent to passing `weights=ResNet18_Weights.IMAGENET1K_V1`. You can also use `weights=ResNet18_Weights.DEFAULT` to get the most up-to-date weights.\n",
            "  warnings.warn(msg)\n",
            "Downloading: \"https://download.pytorch.org/models/resnet18-f37072fd.pth\" to /root/.cache/torch/hub/checkpoints/resnet18-f37072fd.pth\n",
            "100%|██████████| 44.7M/44.7M [00:00<00:00, 164MB/s]\n"
          ]
        },
        {
          "output_type": "stream",
          "name": "stdout",
          "text": [
            "Testing your ResNet architecture:  \u001b[32m\"Correct\"\u001b[0m\n"
          ]
        }
      ],
      "source": [
        "print(\"Testing your ResNet architecture: \", verify(test_my_resnet))"
      ]
    },
    {
      "cell_type": "code",
      "execution_count": 19,
      "metadata": {
        "id": "CBoLgRrlBpHl",
        "colab": {
          "base_uri": "https://localhost:8080/"
        },
        "outputId": "bff7b9f0-e036-4695-f058-72396cd18956"
      },
      "outputs": [
        {
          "output_type": "stream",
          "name": "stdout",
          "text": [
            "MyResNet18(\n",
            "  (conv_layers): Sequential(\n",
            "    (0): Conv2d(3, 64, kernel_size=(7, 7), stride=(2, 2), padding=(3, 3), bias=False)\n",
            "    (1): BatchNorm2d(64, eps=1e-05, momentum=0.1, affine=True, track_running_stats=True)\n",
            "    (2): ReLU(inplace=True)\n",
            "    (3): MaxPool2d(kernel_size=3, stride=2, padding=1, dilation=1, ceil_mode=False)\n",
            "    (4): Sequential(\n",
            "      (0): BasicBlock(\n",
            "        (conv1): Conv2d(64, 64, kernel_size=(3, 3), stride=(1, 1), padding=(1, 1), bias=False)\n",
            "        (bn1): BatchNorm2d(64, eps=1e-05, momentum=0.1, affine=True, track_running_stats=True)\n",
            "        (relu): ReLU(inplace=True)\n",
            "        (conv2): Conv2d(64, 64, kernel_size=(3, 3), stride=(1, 1), padding=(1, 1), bias=False)\n",
            "        (bn2): BatchNorm2d(64, eps=1e-05, momentum=0.1, affine=True, track_running_stats=True)\n",
            "      )\n",
            "      (1): BasicBlock(\n",
            "        (conv1): Conv2d(64, 64, kernel_size=(3, 3), stride=(1, 1), padding=(1, 1), bias=False)\n",
            "        (bn1): BatchNorm2d(64, eps=1e-05, momentum=0.1, affine=True, track_running_stats=True)\n",
            "        (relu): ReLU(inplace=True)\n",
            "        (conv2): Conv2d(64, 64, kernel_size=(3, 3), stride=(1, 1), padding=(1, 1), bias=False)\n",
            "        (bn2): BatchNorm2d(64, eps=1e-05, momentum=0.1, affine=True, track_running_stats=True)\n",
            "      )\n",
            "    )\n",
            "    (5): Sequential(\n",
            "      (0): BasicBlock(\n",
            "        (conv1): Conv2d(64, 128, kernel_size=(3, 3), stride=(2, 2), padding=(1, 1), bias=False)\n",
            "        (bn1): BatchNorm2d(128, eps=1e-05, momentum=0.1, affine=True, track_running_stats=True)\n",
            "        (relu): ReLU(inplace=True)\n",
            "        (conv2): Conv2d(128, 128, kernel_size=(3, 3), stride=(1, 1), padding=(1, 1), bias=False)\n",
            "        (bn2): BatchNorm2d(128, eps=1e-05, momentum=0.1, affine=True, track_running_stats=True)\n",
            "        (downsample): Sequential(\n",
            "          (0): Conv2d(64, 128, kernel_size=(1, 1), stride=(2, 2), bias=False)\n",
            "          (1): BatchNorm2d(128, eps=1e-05, momentum=0.1, affine=True, track_running_stats=True)\n",
            "        )\n",
            "      )\n",
            "      (1): BasicBlock(\n",
            "        (conv1): Conv2d(128, 128, kernel_size=(3, 3), stride=(1, 1), padding=(1, 1), bias=False)\n",
            "        (bn1): BatchNorm2d(128, eps=1e-05, momentum=0.1, affine=True, track_running_stats=True)\n",
            "        (relu): ReLU(inplace=True)\n",
            "        (conv2): Conv2d(128, 128, kernel_size=(3, 3), stride=(1, 1), padding=(1, 1), bias=False)\n",
            "        (bn2): BatchNorm2d(128, eps=1e-05, momentum=0.1, affine=True, track_running_stats=True)\n",
            "      )\n",
            "    )\n",
            "    (6): Sequential(\n",
            "      (0): BasicBlock(\n",
            "        (conv1): Conv2d(128, 256, kernel_size=(3, 3), stride=(2, 2), padding=(1, 1), bias=False)\n",
            "        (bn1): BatchNorm2d(256, eps=1e-05, momentum=0.1, affine=True, track_running_stats=True)\n",
            "        (relu): ReLU(inplace=True)\n",
            "        (conv2): Conv2d(256, 256, kernel_size=(3, 3), stride=(1, 1), padding=(1, 1), bias=False)\n",
            "        (bn2): BatchNorm2d(256, eps=1e-05, momentum=0.1, affine=True, track_running_stats=True)\n",
            "        (downsample): Sequential(\n",
            "          (0): Conv2d(128, 256, kernel_size=(1, 1), stride=(2, 2), bias=False)\n",
            "          (1): BatchNorm2d(256, eps=1e-05, momentum=0.1, affine=True, track_running_stats=True)\n",
            "        )\n",
            "      )\n",
            "      (1): BasicBlock(\n",
            "        (conv1): Conv2d(256, 256, kernel_size=(3, 3), stride=(1, 1), padding=(1, 1), bias=False)\n",
            "        (bn1): BatchNorm2d(256, eps=1e-05, momentum=0.1, affine=True, track_running_stats=True)\n",
            "        (relu): ReLU(inplace=True)\n",
            "        (conv2): Conv2d(256, 256, kernel_size=(3, 3), stride=(1, 1), padding=(1, 1), bias=False)\n",
            "        (bn2): BatchNorm2d(256, eps=1e-05, momentum=0.1, affine=True, track_running_stats=True)\n",
            "      )\n",
            "    )\n",
            "    (7): Sequential(\n",
            "      (0): BasicBlock(\n",
            "        (conv1): Conv2d(256, 512, kernel_size=(3, 3), stride=(2, 2), padding=(1, 1), bias=False)\n",
            "        (bn1): BatchNorm2d(512, eps=1e-05, momentum=0.1, affine=True, track_running_stats=True)\n",
            "        (relu): ReLU(inplace=True)\n",
            "        (conv2): Conv2d(512, 512, kernel_size=(3, 3), stride=(1, 1), padding=(1, 1), bias=False)\n",
            "        (bn2): BatchNorm2d(512, eps=1e-05, momentum=0.1, affine=True, track_running_stats=True)\n",
            "        (downsample): Sequential(\n",
            "          (0): Conv2d(256, 512, kernel_size=(1, 1), stride=(2, 2), bias=False)\n",
            "          (1): BatchNorm2d(512, eps=1e-05, momentum=0.1, affine=True, track_running_stats=True)\n",
            "        )\n",
            "      )\n",
            "      (1): BasicBlock(\n",
            "        (conv1): Conv2d(512, 512, kernel_size=(3, 3), stride=(1, 1), padding=(1, 1), bias=False)\n",
            "        (bn1): BatchNorm2d(512, eps=1e-05, momentum=0.1, affine=True, track_running_stats=True)\n",
            "        (relu): ReLU(inplace=True)\n",
            "        (conv2): Conv2d(512, 512, kernel_size=(3, 3), stride=(1, 1), padding=(1, 1), bias=False)\n",
            "        (bn2): BatchNorm2d(512, eps=1e-05, momentum=0.1, affine=True, track_running_stats=True)\n",
            "      )\n",
            "    )\n",
            "    (8): AdaptiveAvgPool2d(output_size=(1, 1))\n",
            "  )\n",
            "  (fc_layers): Linear(in_features=512, out_features=15, bias=True)\n",
            "  (loss_criterion): CrossEntropyLoss()\n",
            ")\n"
          ]
        }
      ],
      "source": [
        "my_resnet = MyResNet18()\n",
        "print(my_resnet)"
      ]
    },
    {
      "cell_type": "code",
      "execution_count": 20,
      "metadata": {
        "id": "J6AYkHAgBpHw"
      },
      "outputs": [],
      "source": [
        "# TODO: add a decent initial setting and tune from there. The values are intentionally bad.\n",
        "# We recommend using the adam optimizer and consulting Pytorch's adam documentation for default hyperparameter values.\n",
        "optimizer_config = {\"optimizer_type\": \"adam\", \"lr\": 1e-3, \"weight_decay\": 1e-4}"
      ]
    },
    {
      "cell_type": "code",
      "execution_count": 25,
      "metadata": {
        "id": "DtCIaTMmBpIK",
        "colab": {
          "base_uri": "https://localhost:8080/"
        },
        "outputId": "956ab44b-a8a3-4dcc-c7cf-ad54e9fb9dcc"
      },
      "outputs": [
        {
          "output_type": "stream",
          "name": "stderr",
          "text": [
            "/usr/local/lib/python3.11/dist-packages/torchvision/models/_utils.py:208: UserWarning: The parameter 'pretrained' is deprecated since 0.13 and may be removed in the future, please use 'weights' instead.\n",
            "  warnings.warn(\n",
            "/usr/local/lib/python3.11/dist-packages/torchvision/models/_utils.py:223: UserWarning: Arguments other than a weight enum or `None` for 'weights' are deprecated since 0.13 and may be removed in the future. The current behavior is equivalent to passing `weights=ResNet18_Weights.IMAGENET1K_V1`. You can also use `weights=ResNet18_Weights.DEFAULT` to get the most up-to-date weights.\n",
            "  warnings.warn(msg)\n"
          ]
        }
      ],
      "source": [
        "my_resnet = MyResNet18()\n",
        "optimizer = get_optimizer(my_resnet, optimizer_config)\n",
        "\n",
        "trainer = Trainer(\n",
        "    data_dir=data_path,\n",
        "    model=my_resnet,\n",
        "    optimizer=optimizer,\n",
        "    model_dir=os.path.join(model_path, \"resnet18\"),\n",
        "    train_data_transforms=get_all_transforms(inp_size, [dataset_mean], [dataset_std]),\n",
        "    val_data_transforms=get_fundamental_normalization_transforms(\n",
        "        inp_size, [dataset_mean], [dataset_std]\n",
        "    ),\n",
        "    batch_size=32,\n",
        "    load_from_disk=False,\n",
        "    cuda=is_cuda,\n",
        "    mps=is_apple_silicon,\n",
        ")"
      ]
    },
    {
      "cell_type": "markdown",
      "metadata": {
        "id": "oYMrCqMgvgjd"
      },
      "source": [
        "The following training cell will take roughly 20 minutes or slightly more using CPU (but possibly under 5 minute using GPU depending on the batch size; the TAs got it within 3 minutes on a GTX1060 and within 1 minute on Apple M3 silicon)."
      ]
    },
    {
      "cell_type": "code",
      "execution_count": 26,
      "metadata": {
        "id": "CAcncwLPBpIQ",
        "colab": {
          "base_uri": "https://localhost:8080/"
        },
        "outputId": "8681888e-3f55-47e6-f8b1-8f40dd60c98f"
      },
      "outputs": [
        {
          "output_type": "stream",
          "name": "stdout",
          "text": [
            "Epoch:1 Train Loss:0.0512 Val Loss: 0.0276 Train Accuracy: 0.5441 Validation Accuracy: 0.8140\n",
            "Epoch:2 Train Loss:0.0236 Val Loss: 0.0190 Train Accuracy: 0.8147 Validation Accuracy: 0.8447\n",
            "Epoch:3 Train Loss:0.0177 Val Loss: 0.0152 Train Accuracy: 0.8449 Validation Accuracy: 0.8620\n",
            "Epoch:4 Train Loss:0.0150 Val Loss: 0.0134 Train Accuracy: 0.8616 Validation Accuracy: 0.8807\n",
            "Epoch:5 Train Loss:0.0131 Val Loss: 0.0130 Train Accuracy: 0.8777 Validation Accuracy: 0.8680\n",
            "CPU times: user 20.5 s, sys: 2.86 s, total: 23.4 s\n",
            "Wall time: 59.5 s\n"
          ]
        }
      ],
      "source": [
        "%%time\n",
        "trainer.run_training_loop(num_epochs=5)"
      ]
    },
    {
      "cell_type": "markdown",
      "metadata": {
        "id": "biGF45_bvgje"
      },
      "source": [
        "Like both previous sections, you are required to pass a threshold of **85%** for this part. Copy the plots and values onto the report and answer questions accordingly."
      ]
    },
    {
      "cell_type": "code",
      "execution_count": 27,
      "metadata": {
        "id": "Cimj95G_BpIU",
        "scrolled": false,
        "colab": {
          "base_uri": "https://localhost:8080/",
          "height": 927
        },
        "outputId": "477e098f-8791-464b-fbfd-1145c1113a4a"
      },
      "outputs": [
        {
          "output_type": "display_data",
          "data": {
            "text/plain": [
              "<Figure size 640x480 with 1 Axes>"
            ],
            "image/png": "[encoded data removed]"
          },
          "metadata": {}
        },
        {
          "output_type": "display_data",
          "data": {
            "text/plain": [
              "<Figure size 640x480 with 1 Axes>"
            ],
            "image/png": "[encoded data removed]"
          },
          "metadata": {}
        }
      ],
      "source": [
        "trainer.plot_loss_history()\n",
        "trainer.plot_accuracy()"
      ]
    },
    {
      "cell_type": "code",
      "execution_count": 28,
      "metadata": {
        "id": "qMI3CdEuBpIb",
        "colab": {
          "base_uri": "https://localhost:8080/"
        },
        "outputId": "0aad437d-4962-4049-fead-f99bd68e0434"
      },
      "outputs": [
        {
          "output_type": "stream",
          "name": "stdout",
          "text": [
            "Train Accuracy = 0.8777219430485762; Validation Accuracy = 0.868\n"
          ]
        }
      ],
      "source": [
        "train_accuracy = trainer.train_accuracy_history[-1]\n",
        "validation_accuracy = trainer.validation_accuracy_history[-1]\n",
        "print(\n",
        "    \"Train Accuracy = {}; Validation Accuracy = {}\".format(\n",
        "        train_accuracy, validation_accuracy\n",
        "    )\n",
        ")"
      ]
    },
    {
      "cell_type": "markdown",
      "metadata": {
        "id": "T_9mBr4fhb-b"
      },
      "source": [
        "**TODO 16**: Obtain a **85%** validation accuracy to receive full credits for Part 3."
      ]
    },
    {
      "cell_type": "markdown",
      "metadata": {
        "id": "lwmEfkaohb-b"
      },
      "source": [
        "### Save Trained MyResnet18 model"
      ]
    },
    {
      "cell_type": "code",
      "execution_count": null,
      "metadata": {
        "id": "JttK_45Yhb-b"
      },
      "outputs": [],
      "source": [
        "save_trained_model_weights(my_resnet, out_dir=\"./\")"
      ]
    },
    {
      "cell_type": "markdown",
      "metadata": {
        "id": "eXwDzD5ghb-c"
      },
      "source": [
        "### Part 3.3 Visualize and Analyze Confusion Matrix"
      ]
    },
    {
      "cell_type": "markdown",
      "metadata": {
        "id": "876eAnZZhb-c"
      },
      "source": [
        "**TODO 17:** Visualize and analyze the confusion matrix.\n",
        "\n",
        "You'll need to find an example of an image that is misclassified for the report. Use the confusion matrix and the `get_pred_images_for_target` function to help your analysis"
      ]
    },
    {
      "cell_type": "code",
      "source": [],
      "metadata": {
        "id": "m48U7Ilfz6kn"
      },
      "execution_count": null,
      "outputs": []
    },
    {
      "cell_type": "code",
      "execution_count": 29,
      "metadata": {
        "id": "WpoROFbqhb-c",
        "colab": {
          "base_uri": "https://localhost:8080/",
          "height": 930
        },
        "outputId": "04b17e94-30e3-4670-cb0e-96c4739db3f2"
      },
      "outputs": [
        {
          "output_type": "display_data",
          "data": {
            "text/plain": [
              "<Figure size 1000x1000 with 1 Axes>"
            ],
            "image/png": "[encoded data removed]"
          },
          "metadata": {}
        }
      ],
      "source": [
        "generate_and_plot_confusion_matrix(my_resnet, trainer.val_dataset, use_cuda=is_cuda)"
      ]
    },
    {
      "cell_type": "code",
      "execution_count": 34,
      "metadata": {
        "id": "Vimh9O8fhb-d",
        "colab": {
          "base_uri": "https://localhost:8080/",
          "height": 367
        },
        "outputId": "49866f77-1e13-479e-d36f-14a5bbdb3bdf"
      },
      "outputs": [
        {
          "output_type": "stream",
          "name": "stdout",
          "text": [
            "['./data/test/livingroom/image_0085.jpg']\n"
          ]
        },
        {
          "output_type": "error",
          "ename": "ValueError",
          "evalue": "num_samples should be a positive integer value, but got num_samples=0",
          "traceback": [
            "\u001b[0;31m---------------------------------------------------------------------------\u001b[0m",
            "\u001b[0;31mValueError\u001b[0m                                Traceback (most recent call last)",
            "\u001b[0;32m<ipython-input-34-0b2d3df6c469>\u001b[0m in \u001b[0;36m<cell line: 0>\u001b[0;34m()\u001b[0m\n\u001b[1;32m     13\u001b[0m \u001b[0;34m\u001b[0m\u001b[0m\n\u001b[1;32m     14\u001b[0m \u001b[0;31m#Generate and plot the confusion matrix for these misclassified images\u001b[0m\u001b[0;34m\u001b[0m\u001b[0;34m\u001b[0m\u001b[0m\n\u001b[0;32m---> 15\u001b[0;31m \u001b[0mgenerate_and_plot_confusion_matrix\u001b[0m\u001b[0;34m(\u001b[0m\u001b[0mtrainer\u001b[0m\u001b[0;34m.\u001b[0m\u001b[0mval_dataset\u001b[0m\u001b[0;34m,\u001b[0m \u001b[0msubset_dataset\u001b[0m\u001b[0;34m,\u001b[0m \u001b[0muse_cuda\u001b[0m\u001b[0;34m=\u001b[0m\u001b[0;32mTrue\u001b[0m\u001b[0;34m)\u001b[0m\u001b[0;34m\u001b[0m\u001b[0;34m\u001b[0m\u001b[0m\n\u001b[0m\u001b[1;32m     16\u001b[0m \u001b[0;31m#########################\u001b[0m\u001b[0;34m\u001b[0m\u001b[0;34m\u001b[0m\u001b[0m\n",
            "\u001b[0;32m/content/CV_proj3/src/vision/confusion_matrix.py\u001b[0m in \u001b[0;36mgenerate_and_plot_confusion_matrix\u001b[0;34m(model, dataset, use_cuda)\u001b[0m\n\u001b[1;32m    224\u001b[0m     \"\"\"\n\u001b[1;32m    225\u001b[0m \u001b[0;34m\u001b[0m\u001b[0m\n\u001b[0;32m--> 226\u001b[0;31m     targets, predictions, class_labels = generate_confusion_data(\n\u001b[0m\u001b[1;32m    227\u001b[0m         \u001b[0mmodel\u001b[0m\u001b[0;34m,\u001b[0m \u001b[0mdataset\u001b[0m\u001b[0;34m,\u001b[0m \u001b[0muse_cuda\u001b[0m\u001b[0;34m=\u001b[0m\u001b[0muse_cuda\u001b[0m\u001b[0;34m\u001b[0m\u001b[0;34m\u001b[0m\u001b[0m\n\u001b[1;32m    228\u001b[0m     )\n",
            "\u001b[0;32m/content/CV_proj3/src/vision/confusion_matrix.py\u001b[0m in \u001b[0;36mgenerate_confusion_data\u001b[0;34m(model, dataset, use_cuda)\u001b[0m\n\u001b[1;32m     33\u001b[0m     \u001b[0mcuda\u001b[0m \u001b[0;34m=\u001b[0m \u001b[0muse_cuda\u001b[0m \u001b[0;32mand\u001b[0m \u001b[0mtorch\u001b[0m\u001b[0;34m.\u001b[0m\u001b[0mcuda\u001b[0m\u001b[0;34m.\u001b[0m\u001b[0mis_available\u001b[0m\u001b[0;34m(\u001b[0m\u001b[0;34m)\u001b[0m\u001b[0;34m\u001b[0m\u001b[0;34m\u001b[0m\u001b[0m\n\u001b[1;32m     34\u001b[0m     \u001b[0mdataloader_args\u001b[0m \u001b[0;34m=\u001b[0m \u001b[0;34m{\u001b[0m\u001b[0;34m\"num_workers\"\u001b[0m\u001b[0;34m:\u001b[0m \u001b[0;36m1\u001b[0m\u001b[0;34m,\u001b[0m \u001b[0;34m\"pin_memory\"\u001b[0m\u001b[0;34m:\u001b[0m \u001b[0;32mTrue\u001b[0m\u001b[0;34m}\u001b[0m \u001b[0;32mif\u001b[0m \u001b[0mcuda\u001b[0m \u001b[0;32melse\u001b[0m \u001b[0;34m{\u001b[0m\u001b[0;34m}\u001b[0m\u001b[0;34m\u001b[0m\u001b[0;34m\u001b[0m\u001b[0m\n\u001b[0;32m---> 35\u001b[0;31m     \u001b[0mloader\u001b[0m \u001b[0;34m=\u001b[0m \u001b[0mDataLoader\u001b[0m\u001b[0;34m(\u001b[0m\u001b[0mdataset\u001b[0m\u001b[0;34m,\u001b[0m \u001b[0mbatch_size\u001b[0m\u001b[0;34m=\u001b[0m\u001b[0mbatch_size\u001b[0m\u001b[0;34m,\u001b[0m \u001b[0mshuffle\u001b[0m\u001b[0;34m=\u001b[0m\u001b[0;32mTrue\u001b[0m\u001b[0;34m,\u001b[0m \u001b[0;34m**\u001b[0m\u001b[0mdataloader_args\u001b[0m\u001b[0;34m)\u001b[0m\u001b[0;34m\u001b[0m\u001b[0;34m\u001b[0m\u001b[0m\n\u001b[0m\u001b[1;32m     36\u001b[0m \u001b[0;34m\u001b[0m\u001b[0m\n\u001b[1;32m     37\u001b[0m     \u001b[0mpreds\u001b[0m \u001b[0;34m=\u001b[0m \u001b[0mnp\u001b[0m\u001b[0;34m.\u001b[0m\u001b[0mzeros\u001b[0m\u001b[0;34m(\u001b[0m\u001b[0mlen\u001b[0m\u001b[0;34m(\u001b[0m\u001b[0mdataset\u001b[0m\u001b[0;34m)\u001b[0m\u001b[0;34m)\u001b[0m\u001b[0;34m.\u001b[0m\u001b[0mastype\u001b[0m\u001b[0;34m(\u001b[0m\u001b[0mnp\u001b[0m\u001b[0;34m.\u001b[0m\u001b[0mint32\u001b[0m\u001b[0;34m)\u001b[0m\u001b[0;34m\u001b[0m\u001b[0;34m\u001b[0m\u001b[0m\n",
            "\u001b[0;32m/usr/local/lib/python3.11/dist-packages/torch/utils/data/dataloader.py\u001b[0m in \u001b[0;36m__init__\u001b[0;34m(self, dataset, batch_size, shuffle, sampler, batch_sampler, num_workers, collate_fn, pin_memory, drop_last, timeout, worker_init_fn, multiprocessing_context, generator, prefetch_factor, persistent_workers, pin_memory_device, in_order)\u001b[0m\n\u001b[1;32m    381\u001b[0m             \u001b[0;32melse\u001b[0m\u001b[0;34m:\u001b[0m  \u001b[0;31m# map-style\u001b[0m\u001b[0;34m\u001b[0m\u001b[0;34m\u001b[0m\u001b[0m\n\u001b[1;32m    382\u001b[0m                 \u001b[0;32mif\u001b[0m \u001b[0mshuffle\u001b[0m\u001b[0;34m:\u001b[0m\u001b[0;34m\u001b[0m\u001b[0;34m\u001b[0m\u001b[0m\n\u001b[0;32m--> 383\u001b[0;31m                     \u001b[0msampler\u001b[0m \u001b[0;34m=\u001b[0m \u001b[0mRandomSampler\u001b[0m\u001b[0;34m(\u001b[0m\u001b[0mdataset\u001b[0m\u001b[0;34m,\u001b[0m \u001b[0mgenerator\u001b[0m\u001b[0;34m=\u001b[0m\u001b[0mgenerator\u001b[0m\u001b[0;34m)\u001b[0m  \u001b[0;31m# type: ignore[arg-type]\u001b[0m\u001b[0;34m\u001b[0m\u001b[0;34m\u001b[0m\u001b[0m\n\u001b[0m\u001b[1;32m    384\u001b[0m                 \u001b[0;32melse\u001b[0m\u001b[0;34m:\u001b[0m\u001b[0;34m\u001b[0m\u001b[0;34m\u001b[0m\u001b[0m\n\u001b[1;32m    385\u001b[0m                     \u001b[0msampler\u001b[0m \u001b[0;34m=\u001b[0m \u001b[0mSequentialSampler\u001b[0m\u001b[0;34m(\u001b[0m\u001b[0mdataset\u001b[0m\u001b[0;34m)\u001b[0m  \u001b[0;31m# type: ignore[arg-type]\u001b[0m\u001b[0;34m\u001b[0m\u001b[0;34m\u001b[0m\u001b[0m\n",
            "\u001b[0;32m/usr/local/lib/python3.11/dist-packages/torch/utils/data/sampler.py\u001b[0m in \u001b[0;36m__init__\u001b[0;34m(self, data_source, replacement, num_samples, generator)\u001b[0m\n\u001b[1;32m    163\u001b[0m \u001b[0;34m\u001b[0m\u001b[0m\n\u001b[1;32m    164\u001b[0m         \u001b[0;32mif\u001b[0m \u001b[0;32mnot\u001b[0m \u001b[0misinstance\u001b[0m\u001b[0;34m(\u001b[0m\u001b[0mself\u001b[0m\u001b[0;34m.\u001b[0m\u001b[0mnum_samples\u001b[0m\u001b[0;34m,\u001b[0m \u001b[0mint\u001b[0m\u001b[0;34m)\u001b[0m \u001b[0;32mor\u001b[0m \u001b[0mself\u001b[0m\u001b[0;34m.\u001b[0m\u001b[0mnum_samples\u001b[0m \u001b[0;34m<=\u001b[0m \u001b[0;36m0\u001b[0m\u001b[0;34m:\u001b[0m\u001b[0;34m\u001b[0m\u001b[0;34m\u001b[0m\u001b[0m\n\u001b[0;32m--> 165\u001b[0;31m             raise ValueError(\n\u001b[0m\u001b[1;32m    166\u001b[0m                 \u001b[0;34mf\"num_samples should be a positive integer value, but got num_samples={self.num_samples}\"\u001b[0m\u001b[0;34m\u001b[0m\u001b[0;34m\u001b[0m\u001b[0m\n\u001b[1;32m    167\u001b[0m             )\n",
            "\u001b[0;31mValueError\u001b[0m: num_samples should be a positive integer value, but got num_samples=0"
          ]
        }
      ],
      "source": [
        "#########################\n",
        "from torch.utils.data import DataLoader, Subset\n",
        "# Use this cell to visualize your images depending on the confusion matrix visualization\n",
        "misclassified_images = get_pred_images_for_target(my_resnet, trainer.val_dataset, predicted_class=0, target_class=7, use_cuda=True)\n",
        "\n",
        "# Select first 3 images\n",
        "misclassified_images = misclassified_images[:3]\n",
        "\n",
        "print(len(misclassified_images))\n",
        "\n",
        "indices = [i for i, (img_path, label) in enumerate(trainer.val_dataset) if img_path in misclassified_images]\n",
        "subset_dataset = Subset(trainer.val_dataset, indices)\n",
        "\n",
        "#Generate and plot the confusion matrix for these misclassified images\n",
        "generate_and_plot_confusion_matrix(trainer.val_dataset, subset_dataset, use_cuda=True)\n",
        "#########################"
      ]
    },
    {
      "cell_type": "markdown",
      "metadata": {
        "id": "6r8gzJOcZggX"
      },
      "source": [
        "# Part 4: Multilabel Classification - Scene Attribute Prediction (Extra Credit for Undergrads)\n",
        "\n",
        "Thus far, our convolutional neural network models are able to classify the class of the input image. This part of the project is focused on training a model that is capable of predicting attributes in images.\n",
        "\n",
        "A subset of the above dataset containing images only from the 'coast', 'highway', 'mountain', 'opencountry', 'street' classes will be used. Target labels are represented as binary arrays corresponding to the following attributes:\n",
        "<ul>\n",
        "    <li> Clouds </li>\n",
        "    <li> Water body </li>\n",
        "    <li> People </li>\n",
        "    <li> Animals </li>\n",
        "    <li> Natural </li>\n",
        "    <li> Man-made </li>\n",
        "    <li> Vehicles </li>\n",
        "</ul>\n",
        "\n",
        "For example, if an input image of a natural scene has clouds, people and vehicles only, we expect an output of [1, 0, 1, 0, 1, 0, 1]."
      ]
    },
    {
      "cell_type": "markdown",
      "metadata": {
        "id": "X_sVcS78ZggX"
      },
      "source": [
        "## Part 4.1 & 4.2 Model Architecture & Training\n",
        "**TODO 18:** Switch to `multilabel_resnet.py`, and copy the network architecture and weights of all but the last fc layers from the pretrained network. Modify the network to obtain the desired output as shown above.\n",
        "\n",
        "After you have defined the correct architecture of the model, make some tweaks to the existing layers: **freeze** the **convolutional** layers and first 2 **linear** layers so we don't update the weights of them; more details can be found in the instruction webpage.\n",
        "\n",
        "Note that you are allowed to add more layers/unfreeze more layers if you see fit."
      ]
    },
    {
      "cell_type": "code",
      "execution_count": null,
      "metadata": {
        "id": "yNhxBNGTZggY"
      },
      "outputs": [],
      "source": [
        "print(\"Testing your multilabel image loader (length):\", verify(test_multilabel_dataset_length))\n",
        "print(\"Testing your multilabel image loader (values):\", verify(test_multilabel_unique_vals))"
      ]
    },
    {
      "cell_type": "code",
      "execution_count": null,
      "metadata": {
        "id": "VVkymQ-tZggY"
      },
      "outputs": [],
      "source": [
        "print(\"Testing your MultilabelResNet architecture: \", verify(test_multilabel_resnet))"
      ]
    },
    {
      "cell_type": "code",
      "execution_count": null,
      "metadata": {
        "id": "zzO9NQ-ZZggY"
      },
      "outputs": [],
      "source": [
        "multi_resnet = MultilabelResNet18()\n",
        "print(multi_resnet)"
      ]
    },
    {
      "cell_type": "code",
      "execution_count": null,
      "metadata": {
        "id": "N_DxdfYoZggY"
      },
      "outputs": [],
      "source": [
        "print(\"Testing your MultilabelResNet architecture: \", verify(test_multilabel_resnet))"
      ]
    },
    {
      "cell_type": "code",
      "execution_count": null,
      "metadata": {
        "id": "XOksJjYVZggY"
      },
      "outputs": [],
      "source": [
        "inp_size = (224, 224)"
      ]
    },
    {
      "cell_type": "code",
      "execution_count": null,
      "metadata": {
        "id": "1f6DD4nsZggY"
      },
      "outputs": [],
      "source": [
        "# TODO: add a decent initial setting and tune from there. The values are intentionally bad.\n",
        "# We recommend using the adam optimizer and consulting Pytorch's adam documentation for default hyperparameter values.\n",
        "optimizer_config = {\"optimizer_type\": \"adam\", \"lr\": 1e-1, \"weight_decay\": 1e-2}"
      ]
    },
    {
      "cell_type": "code",
      "execution_count": null,
      "metadata": {
        "id": "2HVWR-p_ZggY"
      },
      "outputs": [],
      "source": [
        "multi_resnet = MultilabelResNet18()\n",
        "optimizer = get_optimizer(multi_resnet, optimizer_config)\n",
        "\n",
        "trainer = MultiLabelTrainer(\n",
        "    data_dir=data_path,\n",
        "    model=multi_resnet,\n",
        "    optimizer=optimizer,\n",
        "    model_dir=os.path.join(model_path, \"multilabel_resnet18\"),\n",
        "    train_data_transforms=get_all_transforms(inp_size, [dataset_mean], [dataset_std]),\n",
        "    val_data_transforms=get_fundamental_normalization_transforms(\n",
        "        inp_size, [dataset_mean], [dataset_std]\n",
        "    ),\n",
        "    batch_size=32,\n",
        "    load_from_disk=False,\n",
        "    cuda=is_cuda,\n",
        "    mps=is_apple_silicon,\n",
        ")"
      ]
    },
    {
      "cell_type": "code",
      "execution_count": null,
      "metadata": {
        "id": "ktDV2Qq-ZggY"
      },
      "outputs": [],
      "source": [
        "%%time\n",
        "trainer.run_training_loop(num_epochs=5)"
      ]
    },
    {
      "cell_type": "code",
      "execution_count": null,
      "metadata": {
        "id": "Q7SgGnAbZggY"
      },
      "outputs": [],
      "source": [
        "trainer.plot_loss_history()\n",
        "trainer.plot_accuracy()"
      ]
    },
    {
      "cell_type": "code",
      "execution_count": null,
      "metadata": {
        "id": "r5xbmOKwZggY"
      },
      "outputs": [],
      "source": [
        "train_accuracy = trainer.train_accuracy_history[-1]\n",
        "validation_accuracy = trainer.validation_accuracy_history[-1]\n",
        "print(\n",
        "    \"Train Accuracy = {}; Validation Accuracy = {}\".format(\n",
        "        train_accuracy, validation_accuracy\n",
        "    )\n",
        ")"
      ]
    },
    {
      "cell_type": "markdown",
      "metadata": {
        "id": "caA5aIHOZggY"
      },
      "source": [
        "**TODO 19**: Obtain a **90%** validation accuracy to receive full credits for Part 4."
      ]
    },
    {
      "cell_type": "markdown",
      "metadata": {
        "id": "yWJDFBPMZggZ"
      },
      "source": [
        "### Save Trained MultilabelResnet18 model"
      ]
    },
    {
      "cell_type": "code",
      "execution_count": null,
      "metadata": {
        "id": "PKxLnATKZggZ"
      },
      "outputs": [],
      "source": [
        "save_trained_model_weights(multi_resnet, out_dir=\"./\")"
      ]
    },
    {
      "cell_type": "markdown",
      "metadata": {
        "id": "tQY_1WyBZggZ"
      },
      "source": [
        "## 4.3 Visualize Results\n",
        "\n",
        "Having an overall accuracy of >90% does not necessarily mean that the model is performing well. To truly analyze its performance in this multi-label classification task, the accuracy of each attribute should also be considered.\n",
        "\n",
        "**TODO 20**: Complete the accuracy table for your multi-label classification model."
      ]
    },
    {
      "cell_type": "code",
      "execution_count": null,
      "metadata": {
        "id": "2D-Cu8ZBZggZ"
      },
      "outputs": [],
      "source": [
        "print(\"Testing your multilabel accuracy table:\", verify(test_compute_multilabel_accuracy))"
      ]
    },
    {
      "cell_type": "code",
      "execution_count": null,
      "metadata": {
        "id": "HHxTZqMjZggZ"
      },
      "outputs": [],
      "source": [
        "att_list = ['clouds', 'water', 'people', 'animals', 'natural', 'man-made', 'vehicles']\n",
        "\n",
        "generate_and_plot_accuracy_table(\n",
        "    multi_resnet,\n",
        "    trainer.val_dataset,\n",
        "    num_attributes=7,\n",
        "    attribute_labels=att_list,\n",
        "    use_cuda=is_cuda\n",
        ")"
      ]
    }
  ],
  "metadata": {
    "accelerator": "GPU",
    "colab": {
      "name": "proj4.ipynb",
      "provenance": []
    },
    "kernelspec": {
      "display_name": "Python 3.10.6 ('cv_proj4')",
      "language": "python",
      "name": "python3"
    },
    "language_info": {
      "codemirror_mode": {
        "name": "ipython",
        "version": 3
      },
      "file_extension": ".py",
      "mimetype": "text/x-python",
      "name": "python",
      "nbconvert_exporter": "python",
      "pygments_lexer": "ipython3",
      "version": "3.12.7"
    },
    "vscode": {
      "interpreter": {
        "hash": "26df9bff6b3d59a74aa46821cfb7e3e80c6b4b2cccb89988da41ac738c62d476"
      }
    }
  },
  "nbformat": 4,
  "nbformat_minor": 0
}