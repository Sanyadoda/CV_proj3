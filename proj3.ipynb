{
  "cells": [
    {
      "cell_type": "markdown",
      "metadata": {
        "id": "fiK4QNWKDvWJ"
      },
      "source": [
        "# [Scene Recognition with Deep Learning](https://www.cc.gatech.edu/~hays/compvision/proj4/)\n",
        "For this project we are going to focus on scene classification for 15 scene types with a state-of-the-art approach: deep learning. The task is also known as image classification.\n",
        "\n",
        "Basic learning objectives of this project:\n",
        "1. Construct the fundamental pipeline for performing deep learning using PyTorch;\n",
        "2. Understand the concepts behind different layers, optimizers, and learning schedules;\n",
        "3. Experiment with different models and observe the performance.\n",
        "\n",
        "The starter code is mostly initialized to 'placeholder' just so that the starter\n",
        "code does not crash when run unmodified and you can get a preview of how\n",
        "results are presented."
      ]
    },
    {
      "cell_type": "code",
      "execution_count": 1,
      "metadata": {
        "id": "wbtuSRZAhb9a"
      },
      "outputs": [],
      "source": [
        "# flag to modify everything to run better on Colab; change it to true if you want to run on colab\n",
        "use_colab = True"
      ]
    },
    {
      "cell_type": "markdown",
      "metadata": {
        "id": "Uto3xotovm5_"
      },
      "source": [
        "## Part 0: Setup for Colab\n",
        "You can skip this part if you are not running your notebook on Colab."
      ]
    },
    {
      "cell_type": "markdown",
      "metadata": {
        "id": "dMShUvcNvukQ"
      },
      "source": [
        "### Download Data\n",
        "\n",
        "Download the data for training the network. It's exactly the same as that's been provided for you, but we'll fetch this from the cloud to keep uploads small"
      ]
    },
    {
      "cell_type": "code",
      "execution_count": null,
      "metadata": {
        "id": "tG_t11Chv9pq"
      },
      "outputs": [],
      "source": [
        "# uncomment for running on colab\n",
        "# uncomment for running on colab\n",
        "# !wget \"https://faculty.cc.gatech.edu/~hays/compvision2021fall/projects/proj4_data.zip\" --no-check-certificate -O data.zip && unzip -qq data.zip\n",
        "# !rm ./data.zip"
      ]
    },
    {
      "cell_type": "markdown",
      "metadata": {
        "id": "NQ9Qm5hnxKNn"
      },
      "source": [
        "### Upload code and unit tests\n",
        "\n",
        "Once you have finished your code, run `python ./zip_for_colab.py` and all the required files and tests will be written to `cv_proj3.zip`.\n",
        "\n",
        "Click the folder icon on the left of the colab UI, and click on the upload button right below the \"Files\" heading. You should have done a similar process for Project 4.\n",
        "\n",
        "Run the cell below once your upload completes to extract your uploaded files."
      ]
    },
    {
      "cell_type": "code",
      "source": [
        "!git clone https://github.com/Sanyadoda/CV_proj3.git"
      ],
      "metadata": {
        "colab": {
          "base_uri": "https://localhost:8080/"
        },
        "id": "EBjj-B13cgdQ",
        "outputId": "d3ceb49f-65d2-435d-fc08-8adb35f7b8da"
      },
      "execution_count": 2,
      "outputs": [
        {
          "output_type": "stream",
          "name": "stdout",
          "text": [
            "Cloning into 'CV_proj3'...\n",
            "remote: Enumerating objects: 4695, done.\u001b[K\n",
            "remote: Counting objects: 100% (109/109), done.\u001b[K\n",
            "remote: Compressing objects: 100% (81/81), done.\u001b[K\n",
            "remote: Total 4695 (delta 55), reused 36 (delta 17), pack-reused 4586 (from 1)\u001b[K\n",
            "Receiving objects: 100% (4695/4695), 124.55 MiB | 29.67 MiB/s, done.\n",
            "Resolving deltas: 100% (61/61), done.\n"
          ]
        }
      ]
    },
    {
      "cell_type": "code",
      "execution_count": 3,
      "metadata": {
        "id": "ZpoinJA1yCQy"
      },
      "outputs": [],
      "source": [
        "# uncomment for running on colab\n",
        "# !unzip -qq cv_proj3.zip -d ./\n",
        "#!pip install -e ."
      ]
    },
    {
      "cell_type": "code",
      "source": [
        "%pip install torch torchvision"
      ],
      "metadata": {
        "colab": {
          "base_uri": "https://localhost:8080/"
        },
        "id": "7Zbsjhv8Z7VW",
        "outputId": "f32e6652-1b61-4299-d3d6-42857631fe07"
      },
      "execution_count": 4,
      "outputs": [
        {
          "output_type": "stream",
          "name": "stdout",
          "text": [
            "Requirement already satisfied: torch in /usr/local/lib/python3.11/dist-packages (2.6.0+cu124)\n",
            "Requirement already satisfied: torchvision in /usr/local/lib/python3.11/dist-packages (0.21.0+cu124)\n",
            "Requirement already satisfied: filelock in /usr/local/lib/python3.11/dist-packages (from torch) (3.17.0)\n",
            "Requirement already satisfied: typing-extensions>=4.10.0 in /usr/local/lib/python3.11/dist-packages (from torch) (4.12.2)\n",
            "Requirement already satisfied: networkx in /usr/local/lib/python3.11/dist-packages (from torch) (3.4.2)\n",
            "Requirement already satisfied: jinja2 in /usr/local/lib/python3.11/dist-packages (from torch) (3.1.6)\n",
            "Requirement already satisfied: fsspec in /usr/local/lib/python3.11/dist-packages (from torch) (2024.10.0)\n",
            "Collecting nvidia-cuda-nvrtc-cu12==12.4.127 (from torch)\n",
            "  Downloading nvidia_cuda_nvrtc_cu12-12.4.127-py3-none-manylinux2014_x86_64.whl.metadata (1.5 kB)\n",
            "Collecting nvidia-cuda-runtime-cu12==12.4.127 (from torch)\n",
            "  Downloading nvidia_cuda_runtime_cu12-12.4.127-py3-none-manylinux2014_x86_64.whl.metadata (1.5 kB)\n",
            "Collecting nvidia-cuda-cupti-cu12==12.4.127 (from torch)\n",
            "  Downloading nvidia_cuda_cupti_cu12-12.4.127-py3-none-manylinux2014_x86_64.whl.metadata (1.6 kB)\n",
            "Collecting nvidia-cudnn-cu12==9.1.0.70 (from torch)\n",
            "  Downloading nvidia_cudnn_cu12-9.1.0.70-py3-none-manylinux2014_x86_64.whl.metadata (1.6 kB)\n",
            "Collecting nvidia-cublas-cu12==12.4.5.8 (from torch)\n",
            "  Downloading nvidia_cublas_cu12-12.4.5.8-py3-none-manylinux2014_x86_64.whl.metadata (1.5 kB)\n",
            "Collecting nvidia-cufft-cu12==11.2.1.3 (from torch)\n",
            "  Downloading nvidia_cufft_cu12-11.2.1.3-py3-none-manylinux2014_x86_64.whl.metadata (1.5 kB)\n",
            "Collecting nvidia-curand-cu12==10.3.5.147 (from torch)\n",
            "  Downloading nvidia_curand_cu12-10.3.5.147-py3-none-manylinux2014_x86_64.whl.metadata (1.5 kB)\n",
            "Collecting nvidia-cusolver-cu12==11.6.1.9 (from torch)\n",
            "  Downloading nvidia_cusolver_cu12-11.6.1.9-py3-none-manylinux2014_x86_64.whl.metadata (1.6 kB)\n",
            "Collecting nvidia-cusparse-cu12==12.3.1.170 (from torch)\n",
            "  Downloading nvidia_cusparse_cu12-12.3.1.170-py3-none-manylinux2014_x86_64.whl.metadata (1.6 kB)\n",
            "Requirement already satisfied: nvidia-cusparselt-cu12==0.6.2 in /usr/local/lib/python3.11/dist-packages (from torch) (0.6.2)\n",
            "Requirement already satisfied: nvidia-nccl-cu12==2.21.5 in /usr/local/lib/python3.11/dist-packages (from torch) (2.21.5)\n",
            "Requirement already satisfied: nvidia-nvtx-cu12==12.4.127 in /usr/local/lib/python3.11/dist-packages (from torch) (12.4.127)\n",
            "Collecting nvidia-nvjitlink-cu12==12.4.127 (from torch)\n",
            "  Downloading nvidia_nvjitlink_cu12-12.4.127-py3-none-manylinux2014_x86_64.whl.metadata (1.5 kB)\n",
            "Requirement already satisfied: triton==3.2.0 in /usr/local/lib/python3.11/dist-packages (from torch) (3.2.0)\n",
            "Requirement already satisfied: sympy==1.13.1 in /usr/local/lib/python3.11/dist-packages (from torch) (1.13.1)\n",
            "Requirement already satisfied: mpmath<1.4,>=1.1.0 in /usr/local/lib/python3.11/dist-packages (from sympy==1.13.1->torch) (1.3.0)\n",
            "Requirement already satisfied: numpy in /usr/local/lib/python3.11/dist-packages (from torchvision) (2.0.2)\n",
            "Requirement already satisfied: pillow!=8.3.*,>=5.3.0 in /usr/local/lib/python3.11/dist-packages (from torchvision) (11.1.0)\n",
            "Requirement already satisfied: MarkupSafe>=2.0 in /usr/local/lib/python3.11/dist-packages (from jinja2->torch) (3.0.2)\n",
            "Downloading nvidia_cublas_cu12-12.4.5.8-py3-none-manylinux2014_x86_64.whl (363.4 MB)\n",
            "\u001b[2K   \u001b[90m━━━━━━━━━━━━━━━━━━━━━━━━━━━━━━━━━━━━━━━━\u001b[0m \u001b[32m363.4/363.4 MB\u001b[0m \u001b[31m4.5 MB/s\u001b[0m eta \u001b[36m0:00:00\u001b[0m\n",
            "\u001b[?25hDownloading nvidia_cuda_cupti_cu12-12.4.127-py3-none-manylinux2014_x86_64.whl (13.8 MB)\n",
            "\u001b[2K   \u001b[90m━━━━━━━━━━━━━━━━━━━━━━━━━━━━━━━━━━━━━━━━\u001b[0m \u001b[32m13.8/13.8 MB\u001b[0m \u001b[31m65.1 MB/s\u001b[0m eta \u001b[36m0:00:00\u001b[0m\n",
            "\u001b[?25hDownloading nvidia_cuda_nvrtc_cu12-12.4.127-py3-none-manylinux2014_x86_64.whl (24.6 MB)\n",
            "\u001b[2K   \u001b[90m━━━━━━━━━━━━━━━━━━━━━━━━━━━━━━━━━━━━━━━━\u001b[0m \u001b[32m24.6/24.6 MB\u001b[0m \u001b[31m60.3 MB/s\u001b[0m eta \u001b[36m0:00:00\u001b[0m\n",
            "\u001b[?25hDownloading nvidia_cuda_runtime_cu12-12.4.127-py3-none-manylinux2014_x86_64.whl (883 kB)\n",
            "\u001b[2K   \u001b[90m━━━━━━━━━━━━━━━━━━━━━━━━━━━━━━━━━━━━━━━━\u001b[0m \u001b[32m883.7/883.7 kB\u001b[0m \u001b[31m43.3 MB/s\u001b[0m eta \u001b[36m0:00:00\u001b[0m\n",
            "\u001b[?25hDownloading nvidia_cudnn_cu12-9.1.0.70-py3-none-manylinux2014_x86_64.whl (664.8 MB)\n",
            "\u001b[2K   \u001b[90m━━━━━━━━━━━━━━━━━━━━━━━━━━━━━━━━━━━━━━━━\u001b[0m \u001b[32m664.8/664.8 MB\u001b[0m \u001b[31m1.2 MB/s\u001b[0m eta \u001b[36m0:00:00\u001b[0m\n",
            "\u001b[?25hDownloading nvidia_cufft_cu12-11.2.1.3-py3-none-manylinux2014_x86_64.whl (211.5 MB)\n",
            "\u001b[2K   \u001b[90m━━━━━━━━━━━━━━━━━━━━━━━━━━━━━━━━━━━━━━━━\u001b[0m \u001b[32m211.5/211.5 MB\u001b[0m \u001b[31m6.6 MB/s\u001b[0m eta \u001b[36m0:00:00\u001b[0m\n",
            "\u001b[?25hDownloading nvidia_curand_cu12-10.3.5.147-py3-none-manylinux2014_x86_64.whl (56.3 MB)\n",
            "\u001b[2K   \u001b[90m━━━━━━━━━━━━━━━━━━━━━━━━━━━━━━━━━━━━━━━━\u001b[0m \u001b[32m56.3/56.3 MB\u001b[0m \u001b[31m12.8 MB/s\u001b[0m eta \u001b[36m0:00:00\u001b[0m\n",
            "\u001b[?25hDownloading nvidia_cusolver_cu12-11.6.1.9-py3-none-manylinux2014_x86_64.whl (127.9 MB)\n",
            "\u001b[2K   \u001b[90m━━━━━━━━━━━━━━━━━━━━━━━━━━━━━━━━━━━━━━━━\u001b[0m \u001b[32m127.9/127.9 MB\u001b[0m \u001b[31m8.2 MB/s\u001b[0m eta \u001b[36m0:00:00\u001b[0m\n",
            "\u001b[?25hDownloading nvidia_cusparse_cu12-12.3.1.170-py3-none-manylinux2014_x86_64.whl (207.5 MB)\n",
            "\u001b[2K   \u001b[90m━━━━━━━━━━━━━━━━━━━━━━━━━━━━━━━━━━━━━━━━\u001b[0m \u001b[32m207.5/207.5 MB\u001b[0m \u001b[31m7.2 MB/s\u001b[0m eta \u001b[36m0:00:00\u001b[0m\n",
            "\u001b[?25hDownloading nvidia_nvjitlink_cu12-12.4.127-py3-none-manylinux2014_x86_64.whl (21.1 MB)\n",
            "\u001b[2K   \u001b[90m━━━━━━━━━━━━━━━━━━━━━━━━━━━━━━━━━━━━━━━━\u001b[0m \u001b[32m21.1/21.1 MB\u001b[0m \u001b[31m46.5 MB/s\u001b[0m eta \u001b[36m0:00:00\u001b[0m\n",
            "\u001b[?25hInstalling collected packages: nvidia-nvjitlink-cu12, nvidia-curand-cu12, nvidia-cufft-cu12, nvidia-cuda-runtime-cu12, nvidia-cuda-nvrtc-cu12, nvidia-cuda-cupti-cu12, nvidia-cublas-cu12, nvidia-cusparse-cu12, nvidia-cudnn-cu12, nvidia-cusolver-cu12\n",
            "  Attempting uninstall: nvidia-nvjitlink-cu12\n",
            "    Found existing installation: nvidia-nvjitlink-cu12 12.5.82\n",
            "    Uninstalling nvidia-nvjitlink-cu12-12.5.82:\n",
            "      Successfully uninstalled nvidia-nvjitlink-cu12-12.5.82\n",
            "  Attempting uninstall: nvidia-curand-cu12\n",
            "    Found existing installation: nvidia-curand-cu12 10.3.6.82\n",
            "    Uninstalling nvidia-curand-cu12-10.3.6.82:\n",
            "      Successfully uninstalled nvidia-curand-cu12-10.3.6.82\n",
            "  Attempting uninstall: nvidia-cufft-cu12\n",
            "    Found existing installation: nvidia-cufft-cu12 11.2.3.61\n",
            "    Uninstalling nvidia-cufft-cu12-11.2.3.61:\n",
            "      Successfully uninstalled nvidia-cufft-cu12-11.2.3.61\n",
            "  Attempting uninstall: nvidia-cuda-runtime-cu12\n",
            "    Found existing installation: nvidia-cuda-runtime-cu12 12.5.82\n",
            "    Uninstalling nvidia-cuda-runtime-cu12-12.5.82:\n",
            "      Successfully uninstalled nvidia-cuda-runtime-cu12-12.5.82\n",
            "  Attempting uninstall: nvidia-cuda-nvrtc-cu12\n",
            "    Found existing installation: nvidia-cuda-nvrtc-cu12 12.5.82\n",
            "    Uninstalling nvidia-cuda-nvrtc-cu12-12.5.82:\n",
            "      Successfully uninstalled nvidia-cuda-nvrtc-cu12-12.5.82\n",
            "  Attempting uninstall: nvidia-cuda-cupti-cu12\n",
            "    Found existing installation: nvidia-cuda-cupti-cu12 12.5.82\n",
            "    Uninstalling nvidia-cuda-cupti-cu12-12.5.82:\n",
            "      Successfully uninstalled nvidia-cuda-cupti-cu12-12.5.82\n",
            "  Attempting uninstall: nvidia-cublas-cu12\n",
            "    Found existing installation: nvidia-cublas-cu12 12.5.3.2\n",
            "    Uninstalling nvidia-cublas-cu12-12.5.3.2:\n",
            "      Successfully uninstalled nvidia-cublas-cu12-12.5.3.2\n",
            "  Attempting uninstall: nvidia-cusparse-cu12\n",
            "    Found existing installation: nvidia-cusparse-cu12 12.5.1.3\n",
            "    Uninstalling nvidia-cusparse-cu12-12.5.1.3:\n",
            "      Successfully uninstalled nvidia-cusparse-cu12-12.5.1.3\n",
            "  Attempting uninstall: nvidia-cudnn-cu12\n",
            "    Found existing installation: nvidia-cudnn-cu12 9.3.0.75\n",
            "    Uninstalling nvidia-cudnn-cu12-9.3.0.75:\n",
            "      Successfully uninstalled nvidia-cudnn-cu12-9.3.0.75\n",
            "  Attempting uninstall: nvidia-cusolver-cu12\n",
            "    Found existing installation: nvidia-cusolver-cu12 11.6.3.83\n",
            "    Uninstalling nvidia-cusolver-cu12-11.6.3.83:\n",
            "      Successfully uninstalled nvidia-cusolver-cu12-11.6.3.83\n",
            "Successfully installed nvidia-cublas-cu12-12.4.5.8 nvidia-cuda-cupti-cu12-12.4.127 nvidia-cuda-nvrtc-cu12-12.4.127 nvidia-cuda-runtime-cu12-12.4.127 nvidia-cudnn-cu12-9.1.0.70 nvidia-cufft-cu12-11.2.1.3 nvidia-curand-cu12-10.3.5.147 nvidia-cusolver-cu12-11.6.1.9 nvidia-cusparse-cu12-12.3.1.170 nvidia-nvjitlink-cu12-12.4.127\n"
          ]
        }
      ]
    },
    {
      "cell_type": "code",
      "source": [
        "%cd CV_proj3"
      ],
      "metadata": {
        "colab": {
          "base_uri": "https://localhost:8080/"
        },
        "id": "HGFr1tV1fY77",
        "outputId": "f63f999c-9d2c-4abe-addc-5b7f0c1f5935"
      },
      "execution_count": 5,
      "outputs": [
        {
          "output_type": "stream",
          "name": "stdout",
          "text": [
            "/content/CV_proj3\n"
          ]
        }
      ]
    },
    {
      "cell_type": "markdown",
      "metadata": {
        "id": "a6O_juWwyI3X"
      },
      "source": [
        "### Preparation\n",
        "\n",
        "We'll import the required functions and set up GPU computation.\n",
        "\n",
        "Click on Runtime $\\rightarrow$ Change Runtime Type, and select \"GPU\" under hardware accelerator."
      ]
    },
    {
      "cell_type": "code",
      "execution_count": 6,
      "metadata": {
        "id": "Wa8VAFgvZggI"
      },
      "outputs": [],
      "source": [
        "import sys\n",
        "sys.path.insert(0, 'src')"
      ]
    },
    {
      "cell_type": "code",
      "source": [
        "import sys\n",
        "sys.path.append(\"/content/CV_proj3\")"
      ],
      "metadata": {
        "id": "SJeg_evFfmXK"
      },
      "execution_count": 7,
      "outputs": []
    },
    {
      "cell_type": "code",
      "source": [
        "import os\n",
        "print(os.getcwd())"
      ],
      "metadata": {
        "id": "2J2UA1yhjhWM",
        "outputId": "b694ec28-ca5e-4fcb-ef06-4abb3c11fc99",
        "colab": {
          "base_uri": "https://localhost:8080/"
        }
      },
      "execution_count": 8,
      "outputs": [
        {
          "output_type": "stream",
          "name": "stdout",
          "text": [
            "/content/CV_proj3\n"
          ]
        }
      ]
    },
    {
      "cell_type": "code",
      "execution_count": 9,
      "metadata": {
        "id": "g1dqr6qSBpE2"
      },
      "outputs": [],
      "source": [
        "import os\n",
        "\n",
        "import torch\n",
        "\n",
        "from vision.runner import Trainer, MultiLabelTrainer\n",
        "from vision.optimizer import get_optimizer\n",
        "from vision.simple_net import SimpleNet\n",
        "from vision.simple_net_final import SimpleNetFinal\n",
        "from vision.my_resnet import MyResNet18\n",
        "from vision.multilabel_resnet import MultilabelResNet18\n",
        "from vision.data_transforms import (\n",
        "    get_fundamental_transforms,\n",
        "    get_fundamental_normalization_transforms,\n",
        "    get_fundamental_augmentation_transforms,\n",
        "    get_all_transforms,\n",
        ")\n",
        "from vision.stats_helper import compute_mean_and_std\n",
        "from vision.confusion_matrix import (\n",
        "    generate_confusion_data,\n",
        "    generate_confusion_matrix,\n",
        "    plot_confusion_matrix,\n",
        "    get_pred_images_for_target,\n",
        "    generate_and_plot_confusion_matrix,\n",
        "    generate_and_plot_accuracy_table,\n",
        ")\n",
        "from vision.dl_utils import save_trained_model_weights\n",
        "\n",
        "%load_ext autoreload\n",
        "%autoreload 2"
      ]
    },
    {
      "cell_type": "code",
      "source": [
        "import sys\n",
        "import os\n",
        "\n",
        "# Get the absolute path of the project\n",
        "project_path = \"/content/CV_proj3\"  # Update this if your repo path is different\n",
        "sys.path.append(project_path)\n",
        "\n",
        "# Verify that \"tests\" exists\n",
        "print(os.listdir(project_path))  # Should list the 'tests' folder\n",
        "\n"
      ],
      "metadata": {
        "id": "__RLeat_hlHl",
        "outputId": "8fcb280f-1740-4d7a-b9ad-c79c8ac54e16",
        "colab": {
          "base_uri": "https://localhost:8080/"
        }
      },
      "execution_count": null,
      "outputs": [
        {
          "output_type": "stream",
          "name": "stdout",
          "text": [
            "['data', 'pyproject.toml', 'setup.cfg', 'scene_attributes_test.csv', 'README.md', 'trained_MyResNet18_final.pt', '.colab_zip_dir_list.yml', 'conda', 'tests', 'zip_for_colab.py', 'zip_submission.py', 'assets', '.zip_dir_list.yml', 'docs', 'src', 'scene_attributes_train.csv', '.git', '.gitignore', '.ipynb_checkpoints', 'proj3.ipynb']\n"
          ]
        }
      ]
    },
    {
      "cell_type": "code",
      "source": [
        "!ls /content/CV_proj3/tests"
      ],
      "metadata": {
        "id": "r-4ijre7inmn",
        "outputId": "559a90f2-c9bb-4bca-80fc-2a6dd1ccd1c6",
        "colab": {
          "base_uri": "https://localhost:8080/"
        }
      },
      "execution_count": null,
      "outputs": [
        {
          "output_type": "stream",
          "name": "stdout",
          "text": [
            "data\t\t     small_data\t\t       test_image_loader.py\t  test_simple_net.py\n",
            "__init__.py\t     test_confusion_matrix.py  test_multilabel_resnet.py  test_stats_helper.py\n",
            "model_test_utils.py  test_data_transforms.py   test_my_resnet.py\t  utils.py\n",
            "__pycache__\t     test_dl_utils.py\t       test_simple_net_final.py\n"
          ]
        }
      ]
    },
    {
      "cell_type": "code",
      "source": [
        "%cd /content/CV_proj3/tests"
      ],
      "metadata": {
        "id": "tnpkZm1Ejl8n",
        "outputId": "2af39f12-f265-49d3-e5b3-075bab3b5438",
        "colab": {
          "base_uri": "https://localhost:8080/"
        }
      },
      "execution_count": null,
      "outputs": [
        {
          "output_type": "stream",
          "name": "stdout",
          "text": [
            "/content/CV_proj3/tests\n"
          ]
        }
      ]
    },
    {
      "cell_type": "code",
      "execution_count": 10,
      "metadata": {
        "id": "JKX1cUvTvgjL",
        "colab": {
          "base_uri": "https://localhost:8080/"
        },
        "outputId": "89a23ec3-dc6f-447f-d2fe-88693dd6cabc"
      },
      "outputs": [
        {
          "output_type": "stream",
          "name": "stdout",
          "text": [
            "The autoreload extension is already loaded. To reload it, use:\n",
            "  %reload_ext autoreload\n"
          ]
        }
      ],
      "source": [
        "#import sys\n",
        "#sys.path.append('/content/CV_proj3/tests')\n",
        "\n",
        "from tests.utils import verify\n",
        "from tests.test_stats_helper import test_mean_and_variance\n",
        "from tests.test_image_loader import (\n",
        "    test_dataset_length,\n",
        "    test_unique_vals,\n",
        "    test_class_values,\n",
        "    test_load_img_from_path,\n",
        "    test_multilabel_dataset_length,\n",
        "    test_multilabel_unique_vals,\n",
        ")\n",
        "from tests.test_data_transforms import (\n",
        "    test_fundamental_transforms,\n",
        "    test_data_augmentation_transforms,\n",
        "    test_data_augmentation_with_normalization_transforms,\n",
        ")\n",
        "from tests.test_dl_utils import (\n",
        "    test_compute_accuracy,\n",
        "    test_compute_loss,\n",
        "    test_compute_multilabel_accuracy,\n",
        ")\n",
        "from tests.test_simple_net import test_simple_net\n",
        "from tests.test_simple_net_final import test_simple_net_final\n",
        "from tests.test_my_resnet import test_my_resnet\n",
        "from tests.test_multilabel_resnet import test_multilabel_resnet\n",
        "from tests.test_confusion_matrix import (\n",
        "    test_generate_confusion_matrix,\n",
        "    test_generate_confusion_matrix_normalized,\n",
        ")\n",
        "\n",
        "%load_ext autoreload\n",
        "%autoreload 2"
      ]
    },
    {
      "cell_type": "code",
      "execution_count": 11,
      "metadata": {
        "id": "GjE0jIc5BpFN",
        "colab": {
          "base_uri": "https://localhost:8080/"
        },
        "outputId": "dce51467-5f6d-4473-83e6-8f4f09d51f4b"
      },
      "outputs": [
        {
          "output_type": "stream",
          "name": "stdout",
          "text": [
            "Cuda available:  True\n"
          ]
        }
      ],
      "source": [
        "is_cuda = True\n",
        "is_cuda = (\n",
        "    is_cuda and torch.cuda.is_available()\n",
        ")  # will turn off cuda if the machine doesnt have a GPU\n",
        "print(\"Cuda available: \", is_cuda)"
      ]
    },
    {
      "cell_type": "code",
      "execution_count": 12,
      "metadata": {
        "colab": {
          "base_uri": "https://localhost:8080/"
        },
        "id": "HNvSonOQZggL",
        "outputId": "c7e82032-0a66-4fcb-f72c-5fc4ce3ea36c"
      },
      "outputs": [
        {
          "output_type": "stream",
          "name": "stdout",
          "text": [
            "Apple silicon available: False\n"
          ]
        }
      ],
      "source": [
        "is_apple_silicon = True\n",
        "is_apple_silicon = is_apple_silicon and torch.backends.mps.is_available()\n",
        "print(f\"Apple silicon available: {is_apple_silicon}\")"
      ]
    },
    {
      "cell_type": "code",
      "execution_count": 13,
      "metadata": {
        "id": "zSUp5MMshb9m"
      },
      "outputs": [],
      "source": [
        "data_path = \"./data/\" if not use_colab else \"./data/\"\n",
        "model_path = \"../model_checkpoints/\" if not use_colab else \"./model_checkpoints/\""
      ]
    },
    {
      "cell_type": "markdown",
      "metadata": {
        "id": "aGSv2QfBBpFZ"
      },
      "source": [
        "## Part 1: SimpleNet\n",
        "To train a network in PyTorch, we need 4 components:\n",
        "1. **Dataset** - an object which can load the data and labels given an index.\n",
        "2. **Model** - an object that contains the network architecture definition.\n",
        "3. **Loss function** - a function that measures how far the network output is from the ground truth label.\n",
        "4. **Optimizer** - an object that optimizes the network parameters to reduce the loss value.\n",
        "\n",
        "### Part 1.1: Datasets\n",
        "Now let's create the **Datasets** object to be used later. Remember back in Project 1, we have initialized such a class to load 5 images? Here the task is similar: we have to load each image as well as it's classification label. The key idea is to store the paths to all the images in your dataset, and then be able to provide the image file path and its ground truth class id when given the index of a data example.\n",
        "\n",
        "We will map the scene names (text) into indices 0 to 14 in the image loader. You can choose any mapping you want but once fixed, it has to be consistent throughout this notebook.\n",
        "\n",
        "**TODO 1:** complete the `image_loader.py`"
      ]
    },
    {
      "cell_type": "code",
      "execution_count": 14,
      "metadata": {
        "id": "THRvAvluXFcS",
        "colab": {
          "base_uri": "https://localhost:8080/"
        },
        "outputId": "37fde9dd-3113-446b-d65e-202fa87e06de"
      },
      "outputs": [
        {
          "output_type": "stream",
          "name": "stdout",
          "text": [
            "Testing your image loader (length): \u001b[32m\"Correct\"\u001b[0m\n",
            "Testing your image loader (values): \u001b[32m\"Correct\"\u001b[0m\n",
            "Testing your image loader (classes): \u001b[32m\"Correct\"\u001b[0m\n",
            "Testing your image loader (paths): \u001b[32m\"Correct\"\u001b[0m\n"
          ]
        }
      ],
      "source": [
        "inp_size = (64, 64)\n",
        "print(\"Testing your image loader (length):\", verify(test_dataset_length))\n",
        "print(\"Testing your image loader (values):\", verify(test_unique_vals))\n",
        "print(\"Testing your image loader (classes):\", verify(test_class_values))\n",
        "print(\"Testing your image loader (paths):\", verify(test_load_img_from_path))"
      ]
    },
    {
      "cell_type": "markdown",
      "metadata": {
        "id": "K3TJtEB2vgjQ"
      },
      "source": [
        "### Data transforms\n",
        "**TODO 2:** complete the function `get_fundamental_transforms()` in `data_transforms.py` to compile the following fundamental transforms:\n",
        "1. Resize the input image to the desired shape;\n",
        "2. Convert it to a tensor."
      ]
    },
    {
      "cell_type": "code",
      "execution_count": 15,
      "metadata": {
        "id": "xqpCmJoxvgjQ",
        "colab": {
          "base_uri": "https://localhost:8080/"
        },
        "outputId": "641ea8dd-3caa-4b10-9a54-e3407bd30a8a"
      },
      "outputs": [
        {
          "output_type": "stream",
          "name": "stdout",
          "text": [
            "Testing your fundamental data transforms:  \u001b[32m\"Correct\"\u001b[0m\n"
          ]
        }
      ],
      "source": [
        "print(\"Testing your fundamental data transforms: \", verify(test_fundamental_transforms))"
      ]
    },
    {
      "cell_type": "markdown",
      "metadata": {
        "id": "KnvQDyMfvgjR"
      },
      "source": [
        "### Part 1.2: Model\n",
        "The data is ready! Now we are preparing to move to the actual core of deep learning: the architecture. To get you started in this part, simply define a **2-layer** model in the `simple_net.py`. Here by \"2 layers\" we mean **2 convolutional layers**, so you need to figure out the supporting utilities like ReLU, Max Pooling, and Fully Connected layers, and configure them with proper parameters to make the tensor flow.\n",
        "\n",
        "You may refer to Figure 2 in proj4 handout for a sample network architecture (it's the architecture TAs used in their implementation and is sufficient to get you pass Part 1).\n",
        "\n",
        "**TODO 3**: Do the following in ```simple_net.py```:\n",
        "- ```self.conv_layers```\n",
        "- ```self.fc_layers```\n",
        "- ```forward()```\n",
        "\n",
        "Leave the ```self.loss_criterion = None``` for now."
      ]
    },
    {
      "cell_type": "code",
      "execution_count": 16,
      "metadata": {
        "id": "jvVL-ap0BpFx",
        "colab": {
          "base_uri": "https://localhost:8080/"
        },
        "outputId": "1b7f10db-3f31-47eb-c8f0-37891c79131d"
      },
      "outputs": [
        {
          "output_type": "stream",
          "name": "stdout",
          "text": [
            "Testing your SimpleNet architecture:  \u001b[32m\"Correct\"\u001b[0m\n"
          ]
        }
      ],
      "source": [
        "print(\"Testing your SimpleNet architecture: \", verify(test_simple_net))"
      ]
    },
    {
      "cell_type": "code",
      "execution_count": 17,
      "metadata": {
        "id": "1OTCOQNFvgjS"
      },
      "outputs": [],
      "source": [
        "simple_model = SimpleNet()"
      ]
    },
    {
      "cell_type": "markdown",
      "metadata": {
        "id": "MkbHMcEYvgjS"
      },
      "source": [
        "### Loss function\n",
        "When defining your model architecture, also initialize the `loss_criterion` variable there. Remeber this is multi-class classification problem, and choose the [appropriate loss function](https://pytorch.org/docs/stable/nn.html#loss-functions) might be useful here.\n",
        "\n",
        "**TODO 4:** Assign a loss function to ```self.loss_criterion``` in ```simple_net.py```."
      ]
    },
    {
      "cell_type": "code",
      "execution_count": 18,
      "metadata": {
        "id": "JeBFNW0mvgjS",
        "colab": {
          "base_uri": "https://localhost:8080/"
        },
        "outputId": "c1f9fb69-83af-4e82-912e-276aa87cb816"
      },
      "outputs": [
        {
          "output_type": "stream",
          "name": "stdout",
          "text": [
            "SimpleNet(\n",
            "  (conv_layers): Sequential(\n",
            "    (0): Conv2d(1, 10, kernel_size=(5, 5), stride=(1, 1))\n",
            "    (1): ReLU()\n",
            "    (2): MaxPool2d(kernel_size=3, stride=3, padding=0, dilation=1, ceil_mode=False)\n",
            "    (3): Conv2d(10, 10, kernel_size=(5, 5), stride=(1, 1))\n",
            "    (4): ReLU()\n",
            "    (5): MaxPool2d(kernel_size=3, stride=3, padding=0, dilation=1, ceil_mode=False)\n",
            "  )\n",
            "  (fc_layers): Sequential(\n",
            "    (0): Linear(in_features=250, out_features=100, bias=True)\n",
            "    (1): ReLU()\n",
            "    (2): Linear(in_features=100, out_features=15, bias=True)\n",
            "  )\n",
            "  (loss_criterion): CrossEntropyLoss()\n",
            ")\n"
          ]
        }
      ],
      "source": [
        "print(simple_model)"
      ]
    },
    {
      "cell_type": "markdown",
      "metadata": {
        "id": "wwEAGDYrvgjU"
      },
      "source": [
        "### Optimizer\n",
        "**TODO 5:** **initialize the following cell with proper values for learning rate and weight decay** (you will need to come back and tune these values for better performance once the trainer section is done)"
      ]
    },
    {
      "cell_type": "code",
      "execution_count": 19,
      "metadata": {
        "id": "V2cwtK5PBpF7"
      },
      "outputs": [],
      "source": [
        "# TODO: add a decent initial setting and tune from there. The values are intentionally bad.\n",
        "# We recommend using the adam optimizer and consulting Pytorch's adam documentation for default hyperparameter values.\n",
        "optimizer_config = {\"optimizer_type\": \"adam\", \"lr\": 1e-3, \"weight_decay\": 5e-5}"
      ]
    },
    {
      "cell_type": "markdown",
      "source": [],
      "metadata": {
        "id": "Y8xLocsalafC"
      }
    },
    {
      "cell_type": "markdown",
      "metadata": {
        "id": "UkC1MXKZhb9w"
      },
      "source": [
        "**TODO 6:** complete the ```get_optimizer()``` function in ```optimizer.py```. The helper function accepts three basic configurations as defined below. Any other configuration is optional. *SGD* optimizer type should be supported, anything else is optional."
      ]
    },
    {
      "cell_type": "code",
      "execution_count": 20,
      "metadata": {
        "id": "P0CrYZa4BpGE"
      },
      "outputs": [],
      "source": [
        "optimizer = get_optimizer(simple_model, optimizer_config)"
      ]
    },
    {
      "cell_type": "markdown",
      "metadata": {
        "id": "FffW3ZPhvgjU"
      },
      "source": [
        "### Part 1.3: Trainer"
      ]
    },
    {
      "cell_type": "markdown",
      "metadata": {
        "id": "nBu49n5ghb9x"
      },
      "source": [
        "**TODO 7:** Next we define the trainer for the model; to start, we will need to do the following in ```dl_utils.py```:\n",
        "- ```compute_loss()```: use the model's loss criterion and compute the corresponding loss between the model output and the ground-truth labels.\n",
        "- ```compute_accuracy()```: compute the classification accuracy given the prediction logits and the ground-truth labels."
      ]
    },
    {
      "cell_type": "code",
      "execution_count": 21,
      "metadata": {
        "id": "b7vcKhQohb9y",
        "colab": {
          "base_uri": "https://localhost:8080/"
        },
        "outputId": "b371746c-5c55-43d3-b874-889f889341a6"
      },
      "outputs": [
        {
          "output_type": "stream",
          "name": "stdout",
          "text": [
            "Testing your trainer (loss values):  \u001b[32m\"Correct\"\u001b[0m\n",
            "Testing your trainer (accuracy computation):  \u001b[32m\"Correct\"\u001b[0m\n"
          ]
        }
      ],
      "source": [
        "print(\"Testing your trainer (loss values): \", verify(test_compute_loss))\n",
        "print(\"Testing your trainer (accuracy computation): \", verify(test_compute_accuracy))"
      ]
    },
    {
      "cell_type": "markdown",
      "metadata": {
        "id": "fk060N9wvgjU"
      },
      "source": [
        "Then pass in the model, optimizer, transforms for both the training and testing datasets into the trainer, and proceed to the next cell to train it. If you have implemented everything correctly, you should be seeing a decreasing loss value.\n",
        "\n",
        "**Note** in this project, we will be using the test set as the validation set (i.e. using it to guide our decisions about models and hyperparameters while training. In actual practise, you would not interact with the test set until reporting the final results.\n",
        "\n",
        "**Note** that your CPU should be sufficient to handle the training process for all networks in this project, and the following training cells will take less than 5 minutes; you may also want to decrease the value for `num_epochs` and quickly experiment with your parameters. The default value of **30** is good enough to get you around the threshold for Part 1, and you are free to increase it a bit and adjust other parameters in this part."
      ]
    },
    {
      "cell_type": "code",
      "execution_count": 22,
      "metadata": {
        "id": "UiGOvPJfBpGO"
      },
      "outputs": [],
      "source": [
        "# re-init the model so that the weights are all random\n",
        "simple_model_base = SimpleNet()\n",
        "optimizer = get_optimizer(simple_model_base, optimizer_config)\n",
        "\n",
        "trainer = Trainer(\n",
        "    data_dir=data_path,\n",
        "    model=simple_model_base,\n",
        "    optimizer=optimizer,\n",
        "    model_dir=os.path.join(model_path, \"simple_net\"),\n",
        "    train_data_transforms=get_fundamental_transforms(inp_size),\n",
        "    val_data_transforms=get_fundamental_transforms(inp_size),\n",
        "    batch_size=32,\n",
        "    load_from_disk=False,\n",
        "    cuda=is_cuda,\n",
        "    mps=is_apple_silicon,\n",
        ")"
      ]
    },
    {
      "cell_type": "code",
      "execution_count": 23,
      "metadata": {
        "id": "paNLyU5cBpGX",
        "scrolled": false,
        "colab": {
          "base_uri": "https://localhost:8080/"
        },
        "outputId": "05e64984-c1b4-4c9b-b0e1-7b40e9dafdf7"
      },
      "outputs": [
        {
          "output_type": "stream",
          "name": "stdout",
          "text": [
            "Epoch:1 Train Loss:0.0844 Val Loss: 0.0856 Train Accuracy: 0.0965 Validation Accuracy: 0.0667\n",
            "Epoch:2 Train Loss:0.0823 Val Loss: 0.0819 Train Accuracy: 0.1283 Validation Accuracy: 0.1113\n",
            "Epoch:3 Train Loss:0.0766 Val Loss: 0.0757 Train Accuracy: 0.1786 Validation Accuracy: 0.1800\n",
            "Epoch:4 Train Loss:0.0712 Val Loss: 0.0740 Train Accuracy: 0.2399 Validation Accuracy: 0.2320\n",
            "Epoch:5 Train Loss:0.0663 Val Loss: 0.0741 Train Accuracy: 0.3035 Validation Accuracy: 0.2227\n",
            "Epoch:6 Train Loss:0.0640 Val Loss: 0.0646 Train Accuracy: 0.3186 Validation Accuracy: 0.3053\n",
            "Epoch:7 Train Loss:0.0615 Val Loss: 0.0637 Train Accuracy: 0.3508 Validation Accuracy: 0.2980\n",
            "Epoch:8 Train Loss:0.0600 Val Loss: 0.0609 Train Accuracy: 0.3511 Validation Accuracy: 0.3313\n",
            "Epoch:9 Train Loss:0.0583 Val Loss: 0.0607 Train Accuracy: 0.3789 Validation Accuracy: 0.3333\n",
            "Epoch:10 Train Loss:0.0565 Val Loss: 0.0597 Train Accuracy: 0.3966 Validation Accuracy: 0.3500\n",
            "Epoch:11 Train Loss:0.0546 Val Loss: 0.0592 Train Accuracy: 0.4161 Validation Accuracy: 0.3493\n",
            "Epoch:12 Train Loss:0.0558 Val Loss: 0.0597 Train Accuracy: 0.4127 Validation Accuracy: 0.3573\n",
            "Epoch:13 Train Loss:0.0538 Val Loss: 0.0561 Train Accuracy: 0.4295 Validation Accuracy: 0.3787\n",
            "Epoch:14 Train Loss:0.0531 Val Loss: 0.0572 Train Accuracy: 0.4305 Validation Accuracy: 0.3867\n",
            "Epoch:15 Train Loss:0.0513 Val Loss: 0.0603 Train Accuracy: 0.4596 Validation Accuracy: 0.3640\n",
            "Epoch:16 Train Loss:0.0542 Val Loss: 0.0558 Train Accuracy: 0.4271 Validation Accuracy: 0.4033\n",
            "Epoch:17 Train Loss:0.0504 Val Loss: 0.0547 Train Accuracy: 0.4647 Validation Accuracy: 0.4060\n",
            "Epoch:18 Train Loss:0.0493 Val Loss: 0.0552 Train Accuracy: 0.4771 Validation Accuracy: 0.4000\n",
            "Epoch:19 Train Loss:0.0493 Val Loss: 0.0558 Train Accuracy: 0.4700 Validation Accuracy: 0.4087\n",
            "Epoch:20 Train Loss:0.0490 Val Loss: 0.0531 Train Accuracy: 0.4784 Validation Accuracy: 0.4400\n",
            "Epoch:21 Train Loss:0.0480 Val Loss: 0.0592 Train Accuracy: 0.4938 Validation Accuracy: 0.3900\n",
            "Epoch:22 Train Loss:0.0488 Val Loss: 0.0556 Train Accuracy: 0.4821 Validation Accuracy: 0.4080\n",
            "Epoch:23 Train Loss:0.0467 Val Loss: 0.0544 Train Accuracy: 0.5069 Validation Accuracy: 0.4240\n",
            "Epoch:24 Train Loss:0.0460 Val Loss: 0.0548 Train Accuracy: 0.5035 Validation Accuracy: 0.4133\n",
            "Epoch:25 Train Loss:0.0463 Val Loss: 0.0550 Train Accuracy: 0.4972 Validation Accuracy: 0.4127\n",
            "Epoch:26 Train Loss:0.0462 Val Loss: 0.0550 Train Accuracy: 0.5085 Validation Accuracy: 0.4220\n",
            "Epoch:27 Train Loss:0.0452 Val Loss: 0.0540 Train Accuracy: 0.5193 Validation Accuracy: 0.4400\n",
            "Epoch:28 Train Loss:0.0445 Val Loss: 0.0523 Train Accuracy: 0.5216 Validation Accuracy: 0.4473\n",
            "Epoch:29 Train Loss:0.0447 Val Loss: 0.0555 Train Accuracy: 0.5280 Validation Accuracy: 0.4127\n",
            "Epoch:30 Train Loss:0.0443 Val Loss: 0.0515 Train Accuracy: 0.5246 Validation Accuracy: 0.4500\n",
            "CPU times: user 16.7 s, sys: 3.62 s, total: 20.3 s\n",
            "Wall time: 2min 20s\n"
          ]
        }
      ],
      "source": [
        "%%time\n",
        "trainer.run_training_loop(num_epochs=30)"
      ]
    },
    {
      "cell_type": "markdown",
      "metadata": {
        "id": "tDNaA9ekvgjV"
      },
      "source": [
        "After you have finished the training process, now plot out the loss and accuracy history. You can also check out the final accuracy for both training and testing data. Copy the accuracy plots and values onto the report, and answer the questions there."
      ]
    },
    {
      "cell_type": "code",
      "execution_count": 24,
      "metadata": {
        "id": "z0b_WwJhBpGf",
        "scrolled": false,
        "colab": {
          "base_uri": "https://localhost:8080/",
          "height": 927
        },
        "outputId": "a1b5e413-d0e5-4275-8aab-6103333e8c72"
      },
      "outputs": [
        {
          "output_type": "display_data",
          "data": {
            "text/plain": [
              "<Figure size 640x480 with 1 Axes>"
            ],
            "image/png": "[encoded data removed]"
          },
          "metadata": {}
        },
        {
          "output_type": "display_data",
          "data": {
            "text/plain": [
              "<Figure size 640x480 with 1 Axes>"
            ],
            "image/png": "[encoded data removed]"
          },
          "metadata": {}
        }
      ],
      "source": [
        "trainer.plot_loss_history()\n",
        "trainer.plot_accuracy()"
      ]
    },
    {
      "cell_type": "code",
      "execution_count": 25,
      "metadata": {
        "id": "8epn0IBmBpGn",
        "scrolled": true,
        "colab": {
          "base_uri": "https://localhost:8080/"
        },
        "outputId": "dcc155c4-03fd-4fc5-915f-dae0394f2b1c"
      },
      "outputs": [
        {
          "output_type": "stream",
          "name": "stdout",
          "text": [
            "Train Accuracy = 0.5246231155778894; Validation Accuracy = 0.45\n"
          ]
        }
      ],
      "source": [
        "train_accuracy = trainer.train_accuracy_history[-1]\n",
        "validation_accuracy = trainer.validation_accuracy_history[-1]\n",
        "print(\n",
        "    \"Train Accuracy = {}; Validation Accuracy = {}\".format(\n",
        "        train_accuracy, validation_accuracy\n",
        "    )\n",
        ")"
      ]
    },
    {
      "cell_type": "markdown",
      "metadata": {
        "id": "EfGo97oqhb92"
      },
      "source": [
        "**TODO 8:** Obtain **45%** validation accuracy to receive full credit for Part 1. You can go back to TODO 5 to tune your parameters using the following tips:\n",
        "1. If the loss decreases very slowly, try increasing the value of the lr (learning rate).\n",
        "2. Initially keep the value of weight decay (L2-regularization) very low.\n",
        "3. Try to first adjust lr in multiples of 3 initially. When you are close to reasonable performance, do a more granular adjustment.\n",
        "4. If you want to increase the validation accuracy by a little bit, try increasing the weight_decay to prevent overfitting. Do not use tricks from Section 6 just yet."
      ]
    },
    {
      "cell_type": "markdown",
      "metadata": {
        "id": "d3Ec7hcZhb92"
      },
      "source": [
        "### Save the model for your SimpleNet\n",
        "Once you are satisfied with the performance of your trained model, you need to save it so that you can upload it to Gradescope along with the other models.\n",
        "\n",
        "We'll save the model to the current directory. If you're running locally on your computer, this should be in the `vision` folder, which is the desired location for uploading to gradescope.\n",
        "\n",
        "If you are running on Colab, make sure you download the trained `.pt` files that will be generated. This process is similar to that of Project 4.\n",
        "- Click on the folder icon in the left hand side menu\n",
        "- Select the 3 dots next to the `<out_name>.pt` file that is generated and click download\n",
        "- Store the file in the `vision` folder."
      ]
    },
    {
      "cell_type": "code",
      "execution_count": 26,
      "metadata": {
        "id": "AUjbBOiDhb94"
      },
      "outputs": [],
      "source": [
        "save_trained_model_weights(simple_model_base, out_dir=\"./tests\")"
      ]
    },
    {
      "cell_type": "markdown",
      "metadata": {
        "id": "f9fcNntXhb94"
      },
      "source": [
        "## Part 2: SimpleNet with additional modifications\n",
        "\n",
        "In Part 1 we implemented a basic CNN, but it doesn’t perform very well.  Let’s try a few tricks to see if we canimprove our model performance. You can start by copying your `SimpleNet` architecture from `simple_net.py` into `SimpleNetFinal` class in `simple_net_final.py`.\n",
        "\n",
        "**NOTE**: Before working on this part of the project, make sure to take a look at the report and write down your initial training and validation accuracy of you `SimpleNet` from the previous part. We will keep track of how these values change at each step of adding a few feature as we build up to `SimpleNetFinal`."
      ]
    },
    {
      "cell_type": "markdown",
      "metadata": {
        "id": "lpI4Xda_hb-I"
      },
      "source": [
        "### Part 2.1: Problem 1 We don’t have enough training data. Let’s “jitter.”"
      ]
    },
    {
      "cell_type": "markdown",
      "metadata": {
        "id": "6SqKl7l1hb-J"
      },
      "source": [
        "We are going to increase our amount of training data by left-right mirroring and color jittering the training images during the learning process.\n",
        "\n",
        "**TODO 9:** complete the `get_fundamental_augmentation_transforms()` function in `data_transforms.py`: first copy your existing fundamental transform implementation into this function, and then insert a couple of other transforms which help you do the above adjustment.                 \n",
        "\n",
        "Useful functions:`transforms.RandomHorizontalFlip`, `transforms.ColorJitter`"
      ]
    },
    {
      "cell_type": "code",
      "execution_count": 27,
      "metadata": {
        "id": "JW9BDcJ0hb-J",
        "colab": {
          "base_uri": "https://localhost:8080/"
        },
        "outputId": "fcf0a6f2-6229-4fb9-f805-7c66c66141c9"
      },
      "outputs": [
        {
          "output_type": "stream",
          "name": "stdout",
          "text": [
            "Testing your data transforms with data augmentation:  \u001b[32m\"Correct\"\u001b[0m\n"
          ]
        }
      ],
      "source": [
        "print(\n",
        "    \"Testing your data transforms with data augmentation: \",\n",
        "    verify(test_data_augmentation_transforms),\n",
        ")"
      ]
    },
    {
      "cell_type": "code",
      "source": [
        "# re-init the model so that the weights are all random\n",
        "simple_model_base = SimpleNet()\n",
        "optimizer = get_optimizer(simple_model_base, optimizer_config)\n",
        "\n",
        "trainer = Trainer(\n",
        "    data_dir=data_path,\n",
        "    model=simple_model_base,\n",
        "    optimizer=optimizer,\n",
        "    model_dir=os.path.join(model_path, \"simple_net\"),\n",
        "    train_data_transforms=get_fundamental_augmentation_transforms(inp_size),\n",
        "    val_data_transforms=get_fundamental_transforms(inp_size),\n",
        "    batch_size=32,\n",
        "    load_from_disk=False,\n",
        "    cuda=is_cuda,\n",
        "    mps=is_apple_silicon,\n",
        ")"
      ],
      "metadata": {
        "id": "FCVahQH9Pcvp"
      },
      "execution_count": 29,
      "outputs": []
    },
    {
      "cell_type": "code",
      "source": [
        "%%time\n",
        "trainer.run_training_loop(num_epochs=30)"
      ],
      "metadata": {
        "colab": {
          "base_uri": "https://localhost:8080/"
        },
        "id": "MY7G5-LNQg2_",
        "outputId": "dae33501-e01a-4513-b503-d8e3e286bb28"
      },
      "execution_count": 30,
      "outputs": [
        {
          "output_type": "stream",
          "name": "stdout",
          "text": [
            "Epoch:1 Train Loss:0.0840 Val Loss: 0.0833 Train Accuracy: 0.0955 Validation Accuracy: 0.1253\n",
            "Epoch:2 Train Loss:0.0798 Val Loss: 0.0787 Train Accuracy: 0.1631 Validation Accuracy: 0.1840\n",
            "Epoch:3 Train Loss:0.0768 Val Loss: 0.0767 Train Accuracy: 0.1950 Validation Accuracy: 0.1800\n",
            "Epoch:4 Train Loss:0.0730 Val Loss: 0.0726 Train Accuracy: 0.2328 Validation Accuracy: 0.2413\n",
            "Epoch:5 Train Loss:0.0704 Val Loss: 0.0696 Train Accuracy: 0.2613 Validation Accuracy: 0.2720\n",
            "Epoch:6 Train Loss:0.0679 Val Loss: 0.0676 Train Accuracy: 0.2921 Validation Accuracy: 0.2933\n",
            "Epoch:7 Train Loss:0.0670 Val Loss: 0.0668 Train Accuracy: 0.3015 Validation Accuracy: 0.2967\n",
            "Epoch:8 Train Loss:0.0659 Val Loss: 0.0660 Train Accuracy: 0.3126 Validation Accuracy: 0.3060\n",
            "Epoch:9 Train Loss:0.0643 Val Loss: 0.0683 Train Accuracy: 0.3149 Validation Accuracy: 0.2800\n",
            "Epoch:10 Train Loss:0.0654 Val Loss: 0.0642 Train Accuracy: 0.3152 Validation Accuracy: 0.3220\n",
            "Epoch:11 Train Loss:0.0632 Val Loss: 0.0628 Train Accuracy: 0.3353 Validation Accuracy: 0.3433\n",
            "Epoch:12 Train Loss:0.0615 Val Loss: 0.0626 Train Accuracy: 0.3511 Validation Accuracy: 0.3180\n",
            "Epoch:13 Train Loss:0.0609 Val Loss: 0.0624 Train Accuracy: 0.3561 Validation Accuracy: 0.3340\n",
            "Epoch:14 Train Loss:0.0601 Val Loss: 0.0596 Train Accuracy: 0.3709 Validation Accuracy: 0.3527\n",
            "Epoch:15 Train Loss:0.0589 Val Loss: 0.0595 Train Accuracy: 0.3725 Validation Accuracy: 0.3480\n",
            "Epoch:16 Train Loss:0.0576 Val Loss: 0.0588 Train Accuracy: 0.3863 Validation Accuracy: 0.3667\n",
            "Epoch:17 Train Loss:0.0563 Val Loss: 0.0569 Train Accuracy: 0.3983 Validation Accuracy: 0.3760\n",
            "Epoch:18 Train Loss:0.0556 Val Loss: 0.0598 Train Accuracy: 0.4107 Validation Accuracy: 0.3573\n",
            "Epoch:19 Train Loss:0.0551 Val Loss: 0.0584 Train Accuracy: 0.4181 Validation Accuracy: 0.3680\n",
            "Epoch:20 Train Loss:0.0538 Val Loss: 0.0561 Train Accuracy: 0.4312 Validation Accuracy: 0.3867\n",
            "Epoch:21 Train Loss:0.0537 Val Loss: 0.0579 Train Accuracy: 0.4235 Validation Accuracy: 0.3753\n",
            "Epoch:22 Train Loss:0.0544 Val Loss: 0.0582 Train Accuracy: 0.4214 Validation Accuracy: 0.3800\n",
            "Epoch:23 Train Loss:0.0514 Val Loss: 0.0551 Train Accuracy: 0.4489 Validation Accuracy: 0.4007\n",
            "Epoch:24 Train Loss:0.0518 Val Loss: 0.0540 Train Accuracy: 0.4469 Validation Accuracy: 0.4300\n",
            "Epoch:25 Train Loss:0.0504 Val Loss: 0.0523 Train Accuracy: 0.4633 Validation Accuracy: 0.4373\n",
            "Epoch:26 Train Loss:0.0496 Val Loss: 0.0526 Train Accuracy: 0.4727 Validation Accuracy: 0.4333\n",
            "Epoch:27 Train Loss:0.0493 Val Loss: 0.0531 Train Accuracy: 0.4781 Validation Accuracy: 0.4267\n",
            "Epoch:28 Train Loss:0.0494 Val Loss: 0.0546 Train Accuracy: 0.4673 Validation Accuracy: 0.4267\n",
            "Epoch:29 Train Loss:0.0494 Val Loss: 0.0527 Train Accuracy: 0.4794 Validation Accuracy: 0.4367\n",
            "Epoch:30 Train Loss:0.0482 Val Loss: 0.0533 Train Accuracy: 0.4874 Validation Accuracy: 0.4313\n",
            "CPU times: user 17.4 s, sys: 13.2 s, total: 30.6 s\n",
            "Wall time: 3min 21s\n"
          ]
        }
      ]
    },
    {
      "cell_type": "code",
      "source": [
        "train_accuracy = trainer.train_accuracy_history[-1]\n",
        "validation_accuracy = trainer.validation_accuracy_history[-1]\n",
        "print(\n",
        "    \"Train Accuracy = {}; Validation Accuracy = {}\".format(\n",
        "        train_accuracy, validation_accuracy\n",
        "    )\n",
        ")"
      ],
      "metadata": {
        "colab": {
          "base_uri": "https://localhost:8080/"
        },
        "id": "Ysa97ImJQ0Gv",
        "outputId": "bfb3290f-61d3-497a-bff7-69039c750dca"
      },
      "execution_count": 31,
      "outputs": [
        {
          "output_type": "stream",
          "name": "stdout",
          "text": [
            "Train Accuracy = 0.48743718592964824; Validation Accuracy = 0.43133333333333335\n"
          ]
        }
      ]
    },
    {
      "cell_type": "markdown",
      "metadata": {
        "id": "6eznl7cPhb-K"
      },
      "source": [
        "### Part 2.2: Problem 2 The images aren’t zero-centered and variance-normalized."
      ]
    },
    {
      "cell_type": "markdown",
      "metadata": {
        "id": "IJ1Src4shb-K"
      },
      "source": [
        "We are going to \"zero-center\" and \"normalize\" the dataset so that each entry has zero mean and the overall standard deviation is 1.\n",
        "\n",
        "**TODO 10**:  fill in the `compute_mean_and_std()` in `stats_helper.py` to compute the **mean** and **standard deviation** of both training and validation data."
      ]
    },
    {
      "cell_type": "code",
      "execution_count": 28,
      "metadata": {
        "id": "TjYWIY_Bhb-K",
        "colab": {
          "base_uri": "https://localhost:8080/",
          "height": 411
        },
        "outputId": "6283065b-d403-48ca-a2c0-e678437a05ce"
      },
      "outputs": [
        {
          "output_type": "stream",
          "name": "stdout",
          "text": [
            "Testing your mean and std computation:  \u001b[32m\"Correct\"\u001b[0m\n"
          ]
        },
        {
          "output_type": "error",
          "ename": "KeyboardInterrupt",
          "evalue": "",
          "traceback": [
            "\u001b[0;31m---------------------------------------------------------------------------\u001b[0m",
            "\u001b[0;31mKeyboardInterrupt\u001b[0m                         Traceback (most recent call last)",
            "\u001b[0;32m<ipython-input-28-424c40a81c30>\u001b[0m in \u001b[0;36m<cell line: 0>\u001b[0;34m()\u001b[0m\n\u001b[1;32m      1\u001b[0m \u001b[0mprint\u001b[0m\u001b[0;34m(\u001b[0m\u001b[0;34m\"Testing your mean and std computation: \"\u001b[0m\u001b[0;34m,\u001b[0m \u001b[0mverify\u001b[0m\u001b[0;34m(\u001b[0m\u001b[0mtest_mean_and_variance\u001b[0m\u001b[0;34m)\u001b[0m\u001b[0;34m)\u001b[0m\u001b[0;34m\u001b[0m\u001b[0;34m\u001b[0m\u001b[0m\n\u001b[0;32m----> 2\u001b[0;31m \u001b[0mdataset_mean\u001b[0m\u001b[0;34m,\u001b[0m \u001b[0mdataset_std\u001b[0m \u001b[0;34m=\u001b[0m \u001b[0mcompute_mean_and_std\u001b[0m\u001b[0;34m(\u001b[0m\u001b[0mdata_path\u001b[0m\u001b[0;34m)\u001b[0m\u001b[0;34m\u001b[0m\u001b[0;34m\u001b[0m\u001b[0m\n\u001b[0m",
            "\u001b[0;32m/content/CV_proj3/src/vision/stats_helper.py\u001b[0m in \u001b[0;36mcompute_mean_and_std\u001b[0;34m(dir_name)\u001b[0m\n\u001b[1;32m     43\u001b[0m             \u001b[0mimg\u001b[0m \u001b[0;34m=\u001b[0m \u001b[0mImage\u001b[0m\u001b[0;34m.\u001b[0m\u001b[0mopen\u001b[0m\u001b[0;34m(\u001b[0m\u001b[0mimg_file\u001b[0m\u001b[0;34m)\u001b[0m\u001b[0;34m.\u001b[0m\u001b[0mconvert\u001b[0m\u001b[0;34m(\u001b[0m\u001b[0;34m\"L\"\u001b[0m\u001b[0;34m)\u001b[0m  \u001b[0;31m# Convert to grayscale\u001b[0m\u001b[0;34m\u001b[0m\u001b[0;34m\u001b[0m\u001b[0m\n\u001b[1;32m     44\u001b[0m             \u001b[0mimg_array\u001b[0m \u001b[0;34m=\u001b[0m \u001b[0mnp\u001b[0m\u001b[0;34m.\u001b[0m\u001b[0marray\u001b[0m\u001b[0;34m(\u001b[0m\u001b[0mimg\u001b[0m\u001b[0;34m)\u001b[0m \u001b[0;34m/\u001b[0m \u001b[0;36m255.0\u001b[0m  \u001b[0;31m# Normalize pixel values to [0,1]\u001b[0m\u001b[0;34m\u001b[0m\u001b[0;34m\u001b[0m\u001b[0m\n\u001b[0;32m---> 45\u001b[0;31m             \u001b[0mpixel_values\u001b[0m\u001b[0;34m.\u001b[0m\u001b[0mextend\u001b[0m\u001b[0;34m(\u001b[0m\u001b[0mimg_array\u001b[0m\u001b[0;34m.\u001b[0m\u001b[0mflatten\u001b[0m\u001b[0;34m(\u001b[0m\u001b[0;34m)\u001b[0m\u001b[0;34m)\u001b[0m  \u001b[0;31m# Flatten to 1D list\u001b[0m\u001b[0;34m\u001b[0m\u001b[0;34m\u001b[0m\u001b[0m\n\u001b[0m\u001b[1;32m     46\u001b[0m \u001b[0;34m\u001b[0m\u001b[0m\n\u001b[1;32m     47\u001b[0m     \u001b[0mpixel_values\u001b[0m \u001b[0;34m=\u001b[0m \u001b[0mnp\u001b[0m\u001b[0;34m.\u001b[0m\u001b[0marray\u001b[0m\u001b[0;34m(\u001b[0m\u001b[0mpixel_values\u001b[0m\u001b[0;34m)\u001b[0m\u001b[0;34m\u001b[0m\u001b[0;34m\u001b[0m\u001b[0m\n",
            "\u001b[0;31mKeyboardInterrupt\u001b[0m: "
          ]
        }
      ],
      "source": [
        "print(\"Testing your mean and std computation: \", verify(test_mean_and_variance))\n",
        "dataset_mean, dataset_std = compute_mean_and_std(data_path)"
      ]
    },
    {
      "cell_type": "code",
      "source": [
        "dataset_mean, dataset_std = 0.46178912,0.25604102"
      ],
      "metadata": {
        "id": "L7JJbFOuwpLU"
      },
      "execution_count": null,
      "outputs": []
    },
    {
      "cell_type": "code",
      "execution_count": null,
      "metadata": {
        "id": "6FRdPZaWhb-L",
        "colab": {
          "base_uri": "https://localhost:8080/"
        },
        "outputId": "f97d4493-0195-41bf-c566-566656d72df0"
      },
      "outputs": [
        {
          "output_type": "stream",
          "name": "stdout",
          "text": [
            "Dataset mean = 0.46178912, standard deviation = 0.25604102\n"
          ]
        }
      ],
      "source": [
        "print(\"Dataset mean = {}, standard deviation = {}\".format(dataset_mean, dataset_std))"
      ]
    },
    {
      "cell_type": "markdown",
      "metadata": {
        "id": "4ETCNQFzhb-L"
      },
      "source": [
        "**TODO 11**: complete the function `get_all_transforms()` function in `data_transforms.py` to normalize the input using the passed in mean andstandard deviation: you need to copy your implementation of `get_fundamental_augmentation_transforms()` into this function first.                 "
      ]
    },
    {
      "cell_type": "code",
      "execution_count": 37,
      "metadata": {
        "id": "VysOVwXfhb-L",
        "scrolled": true,
        "colab": {
          "base_uri": "https://localhost:8080/"
        },
        "outputId": "8aef6230-7d31-4908-d974-60775ef5d926"
      },
      "outputs": [
        {
          "output_type": "stream",
          "name": "stdout",
          "text": [
            "Testing your normalized data transforms:  \u001b[32m\"Correct\"\u001b[0m\n"
          ]
        }
      ],
      "source": [
        "print(\n",
        "    \"Testing your normalized data transforms: \",\n",
        "    verify(test_data_augmentation_with_normalization_transforms),\n",
        ")"
      ]
    },
    {
      "cell_type": "code",
      "execution_count": 32,
      "metadata": {
        "id": "gVLqAzmlhb-M"
      },
      "outputs": [],
      "source": [
        "inp_size = (64, 64)"
      ]
    },
    {
      "cell_type": "code",
      "source": [
        "# re-init the model so that the weights are all random\n",
        "simple_model_base = SimpleNet()\n",
        "optimizer = get_optimizer(simple_model_base, optimizer_config)\n",
        "\n",
        "trainer = Trainer(\n",
        "    data_dir=data_path,\n",
        "    model=simple_model_base,\n",
        "    optimizer=optimizer,\n",
        "    model_dir=os.path.join(model_path, \"simple_net\"),\n",
        "    train_data_transforms=get_all_transforms(inp_size=(100, 50), pixel_mean=[0.5], pixel_std=[0.3]),\n",
        "    val_data_transforms=get_fundamental_normalization_transforms(inp_size=(100, 50), pixel_mean=[0.5], pixel_std=[0.3]),\n",
        "    batch_size=32,\n",
        "    load_from_disk=False,\n",
        "    cuda=is_cuda,\n",
        "    mps=is_apple_silicon,\n",
        ")"
      ],
      "metadata": {
        "id": "fsD8MtcEP__8"
      },
      "execution_count": 35,
      "outputs": []
    },
    {
      "cell_type": "code",
      "source": [
        "%%time\n",
        "trainer.run_training_loop(num_epochs=30)"
      ],
      "metadata": {
        "id": "T1Gsb2HDV765",
        "outputId": "45daaebf-1030-494d-9edc-94430eb6e0fa",
        "colab": {
          "base_uri": "https://localhost:8080/",
          "height": 469
        }
      },
      "execution_count": 36,
      "outputs": [
        {
          "output_type": "error",
          "ename": "RuntimeError",
          "evalue": "mat1 and mat2 shapes cannot be multiplied (32x270 and 250x100)",
          "traceback": [
            "\u001b[0;31m---------------------------------------------------------------------------\u001b[0m",
            "\u001b[0;31mRuntimeError\u001b[0m                              Traceback (most recent call last)",
            "\u001b[0;32m<timed eval>\u001b[0m in \u001b[0;36m<module>\u001b[0;34m\u001b[0m\n",
            "\u001b[0;32m/content/CV_proj3/src/vision/runner.py\u001b[0m in \u001b[0;36mrun_training_loop\u001b[0;34m(self, num_epochs)\u001b[0m\n\u001b[1;32m    113\u001b[0m         \u001b[0;32mfor\u001b[0m \u001b[0mepoch_idx\u001b[0m \u001b[0;32min\u001b[0m \u001b[0mrange\u001b[0m\u001b[0;34m(\u001b[0m\u001b[0mnum_epochs\u001b[0m\u001b[0;34m)\u001b[0m\u001b[0;34m:\u001b[0m\u001b[0;34m\u001b[0m\u001b[0;34m\u001b[0m\u001b[0m\n\u001b[1;32m    114\u001b[0m \u001b[0;34m\u001b[0m\u001b[0m\n\u001b[0;32m--> 115\u001b[0;31m             \u001b[0mtrain_loss\u001b[0m\u001b[0;34m,\u001b[0m \u001b[0mtrain_acc\u001b[0m \u001b[0;34m=\u001b[0m \u001b[0mself\u001b[0m\u001b[0;34m.\u001b[0m\u001b[0mtrain_epoch\u001b[0m\u001b[0;34m(\u001b[0m\u001b[0;34m)\u001b[0m\u001b[0;34m\u001b[0m\u001b[0;34m\u001b[0m\u001b[0m\n\u001b[0m\u001b[1;32m    116\u001b[0m \u001b[0;34m\u001b[0m\u001b[0m\n\u001b[1;32m    117\u001b[0m             \u001b[0mself\u001b[0m\u001b[0;34m.\u001b[0m\u001b[0mtrain_loss_history\u001b[0m\u001b[0;34m.\u001b[0m\u001b[0mappend\u001b[0m\u001b[0;34m(\u001b[0m\u001b[0mtrain_loss\u001b[0m\u001b[0;34m)\u001b[0m\u001b[0;34m\u001b[0m\u001b[0;34m\u001b[0m\u001b[0m\n",
            "\u001b[0;32m/content/CV_proj3/src/vision/runner.py\u001b[0m in \u001b[0;36mtrain_epoch\u001b[0;34m(self)\u001b[0m\n\u001b[1;32m    147\u001b[0m \u001b[0;34m\u001b[0m\u001b[0m\n\u001b[1;32m    148\u001b[0m             \u001b[0mn\u001b[0m \u001b[0;34m=\u001b[0m \u001b[0mx\u001b[0m\u001b[0;34m.\u001b[0m\u001b[0mshape\u001b[0m\u001b[0;34m[\u001b[0m\u001b[0;36m0\u001b[0m\u001b[0;34m]\u001b[0m\u001b[0;34m\u001b[0m\u001b[0;34m\u001b[0m\u001b[0m\n\u001b[0;32m--> 149\u001b[0;31m             \u001b[0mlogits\u001b[0m \u001b[0;34m=\u001b[0m \u001b[0mself\u001b[0m\u001b[0;34m.\u001b[0m\u001b[0mmodel\u001b[0m\u001b[0;34m(\u001b[0m\u001b[0mx\u001b[0m\u001b[0;34m)\u001b[0m\u001b[0;34m\u001b[0m\u001b[0;34m\u001b[0m\u001b[0m\n\u001b[0m\u001b[1;32m    150\u001b[0m             \u001b[0mbatch_acc\u001b[0m \u001b[0;34m=\u001b[0m \u001b[0mcompute_accuracy\u001b[0m\u001b[0;34m(\u001b[0m\u001b[0mlogits\u001b[0m\u001b[0;34m,\u001b[0m \u001b[0my\u001b[0m\u001b[0;34m)\u001b[0m\u001b[0;34m\u001b[0m\u001b[0;34m\u001b[0m\u001b[0m\n\u001b[1;32m    151\u001b[0m             \u001b[0mtrain_acc_meter\u001b[0m\u001b[0;34m.\u001b[0m\u001b[0mupdate\u001b[0m\u001b[0;34m(\u001b[0m\u001b[0mval\u001b[0m\u001b[0;34m=\u001b[0m\u001b[0mbatch_acc\u001b[0m\u001b[0;34m,\u001b[0m \u001b[0mn\u001b[0m\u001b[0;34m=\u001b[0m\u001b[0mn\u001b[0m\u001b[0;34m)\u001b[0m\u001b[0;34m\u001b[0m\u001b[0;34m\u001b[0m\u001b[0m\n",
            "\u001b[0;32m/usr/local/lib/python3.11/dist-packages/torch/nn/modules/module.py\u001b[0m in \u001b[0;36m_wrapped_call_impl\u001b[0;34m(self, *args, **kwargs)\u001b[0m\n\u001b[1;32m   1737\u001b[0m             \u001b[0;32mreturn\u001b[0m \u001b[0mself\u001b[0m\u001b[0;34m.\u001b[0m\u001b[0m_compiled_call_impl\u001b[0m\u001b[0;34m(\u001b[0m\u001b[0;34m*\u001b[0m\u001b[0margs\u001b[0m\u001b[0;34m,\u001b[0m \u001b[0;34m**\u001b[0m\u001b[0mkwargs\u001b[0m\u001b[0;34m)\u001b[0m  \u001b[0;31m# type: ignore[misc]\u001b[0m\u001b[0;34m\u001b[0m\u001b[0;34m\u001b[0m\u001b[0m\n\u001b[1;32m   1738\u001b[0m         \u001b[0;32melse\u001b[0m\u001b[0;34m:\u001b[0m\u001b[0;34m\u001b[0m\u001b[0;34m\u001b[0m\u001b[0m\n\u001b[0;32m-> 1739\u001b[0;31m             \u001b[0;32mreturn\u001b[0m \u001b[0mself\u001b[0m\u001b[0;34m.\u001b[0m\u001b[0m_call_impl\u001b[0m\u001b[0;34m(\u001b[0m\u001b[0;34m*\u001b[0m\u001b[0margs\u001b[0m\u001b[0;34m,\u001b[0m \u001b[0;34m**\u001b[0m\u001b[0mkwargs\u001b[0m\u001b[0;34m)\u001b[0m\u001b[0;34m\u001b[0m\u001b[0;34m\u001b[0m\u001b[0m\n\u001b[0m\u001b[1;32m   1740\u001b[0m \u001b[0;34m\u001b[0m\u001b[0m\n\u001b[1;32m   1741\u001b[0m     \u001b[0;31m# torchrec tests the code consistency with the following code\u001b[0m\u001b[0;34m\u001b[0m\u001b[0;34m\u001b[0m\u001b[0m\n",
            "\u001b[0;32m/usr/local/lib/python3.11/dist-packages/torch/nn/modules/module.py\u001b[0m in \u001b[0;36m_call_impl\u001b[0;34m(self, *args, **kwargs)\u001b[0m\n\u001b[1;32m   1748\u001b[0m                 \u001b[0;32mor\u001b[0m \u001b[0m_global_backward_pre_hooks\u001b[0m \u001b[0;32mor\u001b[0m \u001b[0m_global_backward_hooks\u001b[0m\u001b[0;34m\u001b[0m\u001b[0;34m\u001b[0m\u001b[0m\n\u001b[1;32m   1749\u001b[0m                 or _global_forward_hooks or _global_forward_pre_hooks):\n\u001b[0;32m-> 1750\u001b[0;31m             \u001b[0;32mreturn\u001b[0m \u001b[0mforward_call\u001b[0m\u001b[0;34m(\u001b[0m\u001b[0;34m*\u001b[0m\u001b[0margs\u001b[0m\u001b[0;34m,\u001b[0m \u001b[0;34m**\u001b[0m\u001b[0mkwargs\u001b[0m\u001b[0;34m)\u001b[0m\u001b[0;34m\u001b[0m\u001b[0;34m\u001b[0m\u001b[0m\n\u001b[0m\u001b[1;32m   1751\u001b[0m \u001b[0;34m\u001b[0m\u001b[0m\n\u001b[1;32m   1752\u001b[0m         \u001b[0mresult\u001b[0m \u001b[0;34m=\u001b[0m \u001b[0;32mNone\u001b[0m\u001b[0;34m\u001b[0m\u001b[0;34m\u001b[0m\u001b[0m\n",
            "\u001b[0;32m/content/CV_proj3/src/vision/simple_net.py\u001b[0m in \u001b[0;36mforward\u001b[0;34m(self, x)\u001b[0m\n\u001b[1;32m     67\u001b[0m         \u001b[0mx\u001b[0m \u001b[0;34m=\u001b[0m \u001b[0mself\u001b[0m\u001b[0;34m.\u001b[0m\u001b[0mconv_layers\u001b[0m\u001b[0;34m(\u001b[0m\u001b[0mx\u001b[0m\u001b[0;34m)\u001b[0m  \u001b[0;31m# Pass through conv layers\u001b[0m\u001b[0;34m\u001b[0m\u001b[0;34m\u001b[0m\u001b[0m\n\u001b[1;32m     68\u001b[0m         \u001b[0mx\u001b[0m \u001b[0;34m=\u001b[0m \u001b[0mx\u001b[0m\u001b[0;34m.\u001b[0m\u001b[0mview\u001b[0m\u001b[0;34m(\u001b[0m\u001b[0mx\u001b[0m\u001b[0;34m.\u001b[0m\u001b[0mshape\u001b[0m\u001b[0;34m[\u001b[0m\u001b[0;36m0\u001b[0m\u001b[0;34m]\u001b[0m\u001b[0;34m,\u001b[0m \u001b[0;34m-\u001b[0m\u001b[0;36m1\u001b[0m\u001b[0;34m)\u001b[0m  \u001b[0;31m# Flatten\u001b[0m\u001b[0;34m\u001b[0m\u001b[0;34m\u001b[0m\u001b[0m\n\u001b[0;32m---> 69\u001b[0;31m         \u001b[0mmodel_output\u001b[0m \u001b[0;34m=\u001b[0m \u001b[0mself\u001b[0m\u001b[0;34m.\u001b[0m\u001b[0mfc_layers\u001b[0m\u001b[0;34m(\u001b[0m\u001b[0mx\u001b[0m\u001b[0;34m)\u001b[0m  \u001b[0;31m# Pass through FC layers\u001b[0m\u001b[0;34m\u001b[0m\u001b[0;34m\u001b[0m\u001b[0m\n\u001b[0m\u001b[1;32m     70\u001b[0m \u001b[0;34m\u001b[0m\u001b[0m\n\u001b[1;32m     71\u001b[0m         \"\"\" raise NotImplementedError(\n",
            "\u001b[0;32m/usr/local/lib/python3.11/dist-packages/torch/nn/modules/module.py\u001b[0m in \u001b[0;36m_wrapped_call_impl\u001b[0;34m(self, *args, **kwargs)\u001b[0m\n\u001b[1;32m   1737\u001b[0m             \u001b[0;32mreturn\u001b[0m \u001b[0mself\u001b[0m\u001b[0;34m.\u001b[0m\u001b[0m_compiled_call_impl\u001b[0m\u001b[0;34m(\u001b[0m\u001b[0;34m*\u001b[0m\u001b[0margs\u001b[0m\u001b[0;34m,\u001b[0m \u001b[0;34m**\u001b[0m\u001b[0mkwargs\u001b[0m\u001b[0;34m)\u001b[0m  \u001b[0;31m# type: ignore[misc]\u001b[0m\u001b[0;34m\u001b[0m\u001b[0;34m\u001b[0m\u001b[0m\n\u001b[1;32m   1738\u001b[0m         \u001b[0;32melse\u001b[0m\u001b[0;34m:\u001b[0m\u001b[0;34m\u001b[0m\u001b[0;34m\u001b[0m\u001b[0m\n\u001b[0;32m-> 1739\u001b[0;31m             \u001b[0;32mreturn\u001b[0m \u001b[0mself\u001b[0m\u001b[0;34m.\u001b[0m\u001b[0m_call_impl\u001b[0m\u001b[0;34m(\u001b[0m\u001b[0;34m*\u001b[0m\u001b[0margs\u001b[0m\u001b[0;34m,\u001b[0m \u001b[0;34m**\u001b[0m\u001b[0mkwargs\u001b[0m\u001b[0;34m)\u001b[0m\u001b[0;34m\u001b[0m\u001b[0;34m\u001b[0m\u001b[0m\n\u001b[0m\u001b[1;32m   1740\u001b[0m \u001b[0;34m\u001b[0m\u001b[0m\n\u001b[1;32m   1741\u001b[0m     \u001b[0;31m# torchrec tests the code consistency with the following code\u001b[0m\u001b[0;34m\u001b[0m\u001b[0;34m\u001b[0m\u001b[0m\n",
            "\u001b[0;32m/usr/local/lib/python3.11/dist-packages/torch/nn/modules/module.py\u001b[0m in \u001b[0;36m_call_impl\u001b[0;34m(self, *args, **kwargs)\u001b[0m\n\u001b[1;32m   1748\u001b[0m                 \u001b[0;32mor\u001b[0m \u001b[0m_global_backward_pre_hooks\u001b[0m \u001b[0;32mor\u001b[0m \u001b[0m_global_backward_hooks\u001b[0m\u001b[0;34m\u001b[0m\u001b[0;34m\u001b[0m\u001b[0m\n\u001b[1;32m   1749\u001b[0m                 or _global_forward_hooks or _global_forward_pre_hooks):\n\u001b[0;32m-> 1750\u001b[0;31m             \u001b[0;32mreturn\u001b[0m \u001b[0mforward_call\u001b[0m\u001b[0;34m(\u001b[0m\u001b[0;34m*\u001b[0m\u001b[0margs\u001b[0m\u001b[0;34m,\u001b[0m \u001b[0;34m**\u001b[0m\u001b[0mkwargs\u001b[0m\u001b[0;34m)\u001b[0m\u001b[0;34m\u001b[0m\u001b[0;34m\u001b[0m\u001b[0m\n\u001b[0m\u001b[1;32m   1751\u001b[0m \u001b[0;34m\u001b[0m\u001b[0m\n\u001b[1;32m   1752\u001b[0m         \u001b[0mresult\u001b[0m \u001b[0;34m=\u001b[0m \u001b[0;32mNone\u001b[0m\u001b[0;34m\u001b[0m\u001b[0;34m\u001b[0m\u001b[0m\n",
            "\u001b[0;32m/usr/local/lib/python3.11/dist-packages/torch/nn/modules/container.py\u001b[0m in \u001b[0;36mforward\u001b[0;34m(self, input)\u001b[0m\n\u001b[1;32m    248\u001b[0m     \u001b[0;32mdef\u001b[0m \u001b[0mforward\u001b[0m\u001b[0;34m(\u001b[0m\u001b[0mself\u001b[0m\u001b[0;34m,\u001b[0m \u001b[0minput\u001b[0m\u001b[0;34m)\u001b[0m\u001b[0;34m:\u001b[0m\u001b[0;34m\u001b[0m\u001b[0;34m\u001b[0m\u001b[0m\n\u001b[1;32m    249\u001b[0m         \u001b[0;32mfor\u001b[0m \u001b[0mmodule\u001b[0m \u001b[0;32min\u001b[0m \u001b[0mself\u001b[0m\u001b[0;34m:\u001b[0m\u001b[0;34m\u001b[0m\u001b[0;34m\u001b[0m\u001b[0m\n\u001b[0;32m--> 250\u001b[0;31m             \u001b[0minput\u001b[0m \u001b[0;34m=\u001b[0m \u001b[0mmodule\u001b[0m\u001b[0;34m(\u001b[0m\u001b[0minput\u001b[0m\u001b[0;34m)\u001b[0m\u001b[0;34m\u001b[0m\u001b[0;34m\u001b[0m\u001b[0m\n\u001b[0m\u001b[1;32m    251\u001b[0m         \u001b[0;32mreturn\u001b[0m \u001b[0minput\u001b[0m\u001b[0;34m\u001b[0m\u001b[0;34m\u001b[0m\u001b[0m\n\u001b[1;32m    252\u001b[0m \u001b[0;34m\u001b[0m\u001b[0m\n",
            "\u001b[0;32m/usr/local/lib/python3.11/dist-packages/torch/nn/modules/module.py\u001b[0m in \u001b[0;36m_wrapped_call_impl\u001b[0;34m(self, *args, **kwargs)\u001b[0m\n\u001b[1;32m   1737\u001b[0m             \u001b[0;32mreturn\u001b[0m \u001b[0mself\u001b[0m\u001b[0;34m.\u001b[0m\u001b[0m_compiled_call_impl\u001b[0m\u001b[0;34m(\u001b[0m\u001b[0;34m*\u001b[0m\u001b[0margs\u001b[0m\u001b[0;34m,\u001b[0m \u001b[0;34m**\u001b[0m\u001b[0mkwargs\u001b[0m\u001b[0;34m)\u001b[0m  \u001b[0;31m# type: ignore[misc]\u001b[0m\u001b[0;34m\u001b[0m\u001b[0;34m\u001b[0m\u001b[0m\n\u001b[1;32m   1738\u001b[0m         \u001b[0;32melse\u001b[0m\u001b[0;34m:\u001b[0m\u001b[0;34m\u001b[0m\u001b[0;34m\u001b[0m\u001b[0m\n\u001b[0;32m-> 1739\u001b[0;31m             \u001b[0;32mreturn\u001b[0m \u001b[0mself\u001b[0m\u001b[0;34m.\u001b[0m\u001b[0m_call_impl\u001b[0m\u001b[0;34m(\u001b[0m\u001b[0;34m*\u001b[0m\u001b[0margs\u001b[0m\u001b[0;34m,\u001b[0m \u001b[0;34m**\u001b[0m\u001b[0mkwargs\u001b[0m\u001b[0;34m)\u001b[0m\u001b[0;34m\u001b[0m\u001b[0;34m\u001b[0m\u001b[0m\n\u001b[0m\u001b[1;32m   1740\u001b[0m \u001b[0;34m\u001b[0m\u001b[0m\n\u001b[1;32m   1741\u001b[0m     \u001b[0;31m# torchrec tests the code consistency with the following code\u001b[0m\u001b[0;34m\u001b[0m\u001b[0;34m\u001b[0m\u001b[0m\n",
            "\u001b[0;32m/usr/local/lib/python3.11/dist-packages/torch/nn/modules/module.py\u001b[0m in \u001b[0;36m_call_impl\u001b[0;34m(self, *args, **kwargs)\u001b[0m\n\u001b[1;32m   1748\u001b[0m                 \u001b[0;32mor\u001b[0m \u001b[0m_global_backward_pre_hooks\u001b[0m \u001b[0;32mor\u001b[0m \u001b[0m_global_backward_hooks\u001b[0m\u001b[0;34m\u001b[0m\u001b[0;34m\u001b[0m\u001b[0m\n\u001b[1;32m   1749\u001b[0m                 or _global_forward_hooks or _global_forward_pre_hooks):\n\u001b[0;32m-> 1750\u001b[0;31m             \u001b[0;32mreturn\u001b[0m \u001b[0mforward_call\u001b[0m\u001b[0;34m(\u001b[0m\u001b[0;34m*\u001b[0m\u001b[0margs\u001b[0m\u001b[0;34m,\u001b[0m \u001b[0;34m**\u001b[0m\u001b[0mkwargs\u001b[0m\u001b[0;34m)\u001b[0m\u001b[0;34m\u001b[0m\u001b[0;34m\u001b[0m\u001b[0m\n\u001b[0m\u001b[1;32m   1751\u001b[0m \u001b[0;34m\u001b[0m\u001b[0m\n\u001b[1;32m   1752\u001b[0m         \u001b[0mresult\u001b[0m \u001b[0;34m=\u001b[0m \u001b[0;32mNone\u001b[0m\u001b[0;34m\u001b[0m\u001b[0;34m\u001b[0m\u001b[0m\n",
            "\u001b[0;32m/usr/local/lib/python3.11/dist-packages/torch/nn/modules/linear.py\u001b[0m in \u001b[0;36mforward\u001b[0;34m(self, input)\u001b[0m\n\u001b[1;32m    123\u001b[0m \u001b[0;34m\u001b[0m\u001b[0m\n\u001b[1;32m    124\u001b[0m     \u001b[0;32mdef\u001b[0m \u001b[0mforward\u001b[0m\u001b[0;34m(\u001b[0m\u001b[0mself\u001b[0m\u001b[0;34m,\u001b[0m \u001b[0minput\u001b[0m\u001b[0;34m:\u001b[0m \u001b[0mTensor\u001b[0m\u001b[0;34m)\u001b[0m \u001b[0;34m->\u001b[0m \u001b[0mTensor\u001b[0m\u001b[0;34m:\u001b[0m\u001b[0;34m\u001b[0m\u001b[0;34m\u001b[0m\u001b[0m\n\u001b[0;32m--> 125\u001b[0;31m         \u001b[0;32mreturn\u001b[0m \u001b[0mF\u001b[0m\u001b[0;34m.\u001b[0m\u001b[0mlinear\u001b[0m\u001b[0;34m(\u001b[0m\u001b[0minput\u001b[0m\u001b[0;34m,\u001b[0m \u001b[0mself\u001b[0m\u001b[0;34m.\u001b[0m\u001b[0mweight\u001b[0m\u001b[0;34m,\u001b[0m \u001b[0mself\u001b[0m\u001b[0;34m.\u001b[0m\u001b[0mbias\u001b[0m\u001b[0;34m)\u001b[0m\u001b[0;34m\u001b[0m\u001b[0;34m\u001b[0m\u001b[0m\n\u001b[0m\u001b[1;32m    126\u001b[0m \u001b[0;34m\u001b[0m\u001b[0m\n\u001b[1;32m    127\u001b[0m     \u001b[0;32mdef\u001b[0m \u001b[0mextra_repr\u001b[0m\u001b[0;34m(\u001b[0m\u001b[0mself\u001b[0m\u001b[0;34m)\u001b[0m \u001b[0;34m->\u001b[0m \u001b[0mstr\u001b[0m\u001b[0;34m:\u001b[0m\u001b[0;34m\u001b[0m\u001b[0;34m\u001b[0m\u001b[0m\n",
            "\u001b[0;31mRuntimeError\u001b[0m: mat1 and mat2 shapes cannot be multiplied (32x270 and 250x100)"
          ]
        }
      ]
    },
    {
      "cell_type": "markdown",
      "metadata": {
        "id": "WyUv4VRHhb-N"
      },
      "source": [
        "### Part 2.3-2.5: Problem 3 ~ 5: Modify the network."
      ]
    },
    {
      "cell_type": "markdown",
      "metadata": {
        "id": "4_zfgLhrhb-N"
      },
      "source": [
        "**TODO 12:** modify the layers in the `SimpleNet` class in `simple_net.py`:\n",
        "1. Add the dropout layer\n",
        "2. Add one or two more blocks of “conv/pool/relu”.\n",
        "3. Add a batch normalization layer after each convolutional layer (except for the last)"
      ]
    },
    {
      "cell_type": "code",
      "execution_count": 39,
      "metadata": {
        "id": "_cLHBt3Jhb-O",
        "colab": {
          "base_uri": "https://localhost:8080/",
          "height": 333
        },
        "outputId": "4af784c5-9f0e-4368-d9ec-80ffb94521c4"
      },
      "outputs": [
        {
          "output_type": "error",
          "ename": "TypeError",
          "evalue": "super(type, obj): obj must be an instance or subtype of type",
          "traceback": [
            "\u001b[0;31m---------------------------------------------------------------------------\u001b[0m",
            "\u001b[0;31mTypeError\u001b[0m                                 Traceback (most recent call last)",
            "\u001b[0;32m<ipython-input-39-26c732be5a46>\u001b[0m in \u001b[0;36m<cell line: 0>\u001b[0;34m()\u001b[0m\n\u001b[0;32m----> 1\u001b[0;31m \u001b[0mprint\u001b[0m\u001b[0;34m(\u001b[0m\u001b[0;34m\"Testing your SimpleNetFinal architecture: \"\u001b[0m\u001b[0;34m,\u001b[0m \u001b[0mverify\u001b[0m\u001b[0;34m(\u001b[0m\u001b[0mtest_simple_net_final\u001b[0m\u001b[0;34m)\u001b[0m\u001b[0;34m)\u001b[0m\u001b[0;34m\u001b[0m\u001b[0;34m\u001b[0m\u001b[0m\n\u001b[0m",
            "\u001b[0;32m/content/CV_proj3/tests/utils.py\u001b[0m in \u001b[0;36mverify\u001b[0;34m(function)\u001b[0m\n\u001b[1;32m      8\u001b[0m     \"\"\"\n\u001b[1;32m      9\u001b[0m     \u001b[0;32mtry\u001b[0m\u001b[0;34m:\u001b[0m\u001b[0;34m\u001b[0m\u001b[0;34m\u001b[0m\u001b[0m\n\u001b[0;32m---> 10\u001b[0;31m         \u001b[0mfunction\u001b[0m\u001b[0;34m(\u001b[0m\u001b[0;34m)\u001b[0m\u001b[0;34m\u001b[0m\u001b[0;34m\u001b[0m\u001b[0m\n\u001b[0m\u001b[1;32m     11\u001b[0m         \u001b[0;32mreturn\u001b[0m \u001b[0;34m'\\x1b[32m\"Correct\"\\x1b[0m'\u001b[0m\u001b[0;34m\u001b[0m\u001b[0;34m\u001b[0m\u001b[0m\n\u001b[1;32m     12\u001b[0m     \u001b[0;32mexcept\u001b[0m \u001b[0mAssertionError\u001b[0m\u001b[0;34m:\u001b[0m\u001b[0;34m\u001b[0m\u001b[0;34m\u001b[0m\u001b[0m\n",
            "\u001b[0;32m/content/CV_proj3/tests/test_simple_net_final.py\u001b[0m in \u001b[0;36mtest_simple_net_final\u001b[0;34m()\u001b[0m\n\u001b[1;32m     10\u001b[0m     \u001b[0mTests\u001b[0m \u001b[0mthe\u001b[0m \u001b[0mSimpleNet\u001b[0m \u001b[0mnow\u001b[0m \u001b[0mcontains\u001b[0m \u001b[0mDropout\u001b[0m\u001b[0;34m,\u001b[0m \u001b[0mbatchnorm\u001b[0m\u001b[0;34m,\u001b[0m \u001b[0;32mand\u001b[0m \u001b[0mmore\u001b[0m \u001b[0mconv\u001b[0m \u001b[0mlayers\u001b[0m\u001b[0;34m\u001b[0m\u001b[0;34m\u001b[0m\u001b[0m\n\u001b[1;32m     11\u001b[0m     \"\"\"\n\u001b[0;32m---> 12\u001b[0;31m     \u001b[0mthis_simple_net\u001b[0m \u001b[0;34m=\u001b[0m \u001b[0mSimpleNetFinal\u001b[0m\u001b[0;34m(\u001b[0m\u001b[0;34m)\u001b[0m\u001b[0;34m\u001b[0m\u001b[0;34m\u001b[0m\u001b[0m\n\u001b[0m\u001b[1;32m     13\u001b[0m \u001b[0;34m\u001b[0m\u001b[0m\n\u001b[1;32m     14\u001b[0m     \u001b[0m_\u001b[0m\u001b[0;34m,\u001b[0m \u001b[0moutput_dim\u001b[0m\u001b[0;34m,\u001b[0m \u001b[0mcounter\u001b[0m\u001b[0;34m,\u001b[0m \u001b[0;34m*\u001b[0m\u001b[0m_\u001b[0m \u001b[0;34m=\u001b[0m \u001b[0mextract_model_layers\u001b[0m\u001b[0;34m(\u001b[0m\u001b[0mthis_simple_net\u001b[0m\u001b[0;34m)\u001b[0m\u001b[0;34m\u001b[0m\u001b[0;34m\u001b[0m\u001b[0m\n",
            "\u001b[0;32m/content/CV_proj3/src/vision/simple_net_final.py\u001b[0m in \u001b[0;36m__init__\u001b[0;34m(self)\u001b[0m\n\u001b[1;32m     11\u001b[0m \u001b[0;34m\u001b[0m\u001b[0m\n\u001b[1;32m     12\u001b[0m         \"\"\"\n\u001b[0;32m---> 13\u001b[0;31m         \u001b[0msuper\u001b[0m\u001b[0;34m(\u001b[0m\u001b[0mSimpleNetFinal\u001b[0m\u001b[0;34m,\u001b[0m \u001b[0mself\u001b[0m\u001b[0;34m)\u001b[0m\u001b[0;34m.\u001b[0m\u001b[0m__init__\u001b[0m\u001b[0;34m(\u001b[0m\u001b[0;34m)\u001b[0m\u001b[0;34m\u001b[0m\u001b[0;34m\u001b[0m\u001b[0m\n\u001b[0m\u001b[1;32m     14\u001b[0m \u001b[0;34m\u001b[0m\u001b[0m\n\u001b[1;32m     15\u001b[0m         \u001b[0mself\u001b[0m\u001b[0;34m.\u001b[0m\u001b[0mconv_layers\u001b[0m \u001b[0;34m=\u001b[0m \u001b[0mnn\u001b[0m\u001b[0;34m.\u001b[0m\u001b[0mSequential\u001b[0m\u001b[0;34m(\u001b[0m\u001b[0;34m)\u001b[0m\u001b[0;34m\u001b[0m\u001b[0;34m\u001b[0m\u001b[0m\n",
            "\u001b[0;31mTypeError\u001b[0m: super(type, obj): obj must be an instance or subtype of type"
          ]
        }
      ],
      "source": [
        "print(\"Testing your SimpleNetFinal architecture: \", verify(test_simple_net_final))"
      ]
    },
    {
      "cell_type": "code",
      "execution_count": null,
      "metadata": {
        "id": "-sRvxPmjhb-P"
      },
      "outputs": [],
      "source": [
        "simple_model_final = SimpleNetFinal()\n",
        "print(simple_model_final)"
      ]
    },
    {
      "cell_type": "markdown",
      "metadata": {
        "id": "i7tfVgjhhb-P"
      },
      "source": [
        "Similar to the previous part, **initialize the following cell with proper values for learning rate and weight decay**."
      ]
    },
    {
      "cell_type": "code",
      "execution_count": null,
      "metadata": {
        "id": "rhwvWHnJhb-Q"
      },
      "outputs": [],
      "source": [
        "# TODO: add a decent initial setting and tune from there. The values are intentionally bad.\n",
        "# We recommend using the adam optimizer and consulting Pytorch's adam documentation for default hyperparameter values.\n",
        "optimizer_config = {\"optimizer_type\": \"adam\", \"lr\": 1e-1, \"weight_decay\": 1e-2}"
      ]
    },
    {
      "cell_type": "markdown",
      "metadata": {
        "id": "tC-V_tTthb-Q"
      },
      "source": [
        "The following cell will take longer than Part 1.3, as now we have more data (and more variability), and the model is slightly more complicated than before as well; however, it should finish within 10~15 minutes anyway, and the default num_epochs is also good enough as a starting point for you to pass this part."
      ]
    },
    {
      "cell_type": "code",
      "execution_count": null,
      "metadata": {
        "id": "VBMTF3JZhb-R"
      },
      "outputs": [],
      "source": [
        "simple_model_final = SimpleNetFinal()\n",
        "optimizer = get_optimizer(simple_model_final, optimizer_config)\n",
        "\n",
        "trainer = Trainer(\n",
        "    data_dir=data_path,\n",
        "    model=simple_model_final,\n",
        "    optimizer=optimizer,\n",
        "    model_dir=os.path.join(model_path, \"simple_model_final\"),\n",
        "    train_data_transforms=get_all_transforms(inp_size, [dataset_mean], [dataset_std]),\n",
        "    val_data_transforms=get_fundamental_normalization_transforms(\n",
        "        inp_size, [dataset_mean], [dataset_std]\n",
        "    ),\n",
        "    batch_size=32,\n",
        "    load_from_disk=False,\n",
        "    cuda=is_cuda,\n",
        "    mps=is_apple_silicon,\n",
        ")"
      ]
    },
    {
      "cell_type": "code",
      "execution_count": null,
      "metadata": {
        "id": "fpF7R50whb-R"
      },
      "outputs": [],
      "source": [
        "%%time\n",
        "trainer.run_training_loop(num_epochs=30)"
      ]
    },
    {
      "cell_type": "markdown",
      "metadata": {
        "id": "BSvR7Ufjhb-S"
      },
      "source": [
        "Similar to Part 1, now plot out the loss and accuracy history. Also copy the plots onto the report, and answer the questions accordingly."
      ]
    },
    {
      "cell_type": "code",
      "execution_count": null,
      "metadata": {
        "id": "Chc9YDS9hb-S"
      },
      "outputs": [],
      "source": [
        "trainer.plot_loss_history()\n",
        "trainer.plot_accuracy()"
      ]
    },
    {
      "cell_type": "code",
      "execution_count": null,
      "metadata": {
        "id": "m9wHX7tohb-T"
      },
      "outputs": [],
      "source": [
        "train_accuracy = trainer.train_accuracy_history[-1]\n",
        "validation_accuracy = trainer.validation_accuracy_history[-1]\n",
        "print(\n",
        "    \"Train Accuracy = {}; Validation Accuracy = {}\".format(\n",
        "        train_accuracy, validation_accuracy\n",
        "    )\n",
        ")"
      ]
    },
    {
      "cell_type": "markdown",
      "metadata": {
        "id": "aHJVkkG9hb-T"
      },
      "source": [
        "**TODO 13:** Obtain a **55%** validation accuracy to receive full credit for Part 2."
      ]
    },
    {
      "cell_type": "markdown",
      "metadata": {
        "id": "mLUgrlT5hb-T"
      },
      "source": [
        "### Save the model for your SimpleNetFinal"
      ]
    },
    {
      "cell_type": "code",
      "execution_count": null,
      "metadata": {
        "id": "kdMA-QIEhb-U"
      },
      "outputs": [],
      "source": [
        "save_trained_model_weights(simple_model_final, out_dir=\"./\")"
      ]
    },
    {
      "cell_type": "markdown",
      "metadata": {
        "id": "ywG8NSYxhb-U"
      },
      "source": [
        "### Part 2.6: Analysis using confusion matrix\n",
        "A confusion matrix is a helpful tool for visualizing the performance of classification algorithms. Each row of the matrix represents the instances in a predicted class, while each column represents the instances in an actual class. The confusion matrix counts the number of instances of a given (target, prediction) pair. We are able to use this to understand the classification behaviour.\n",
        "\n",
        "A confusion matrix can also be normalized by dividing each row by the total number of instances of the target class. This is helpful for comparing between large and small datasets, as well as when there is significant class imbalance."
      ]
    },
    {
      "cell_type": "markdown",
      "metadata": {
        "id": "5xhbUUMDhb-U"
      },
      "source": [
        "**TODO 14:** Do the following to visualize the confusion matrix:\n",
        "\n",
        "1. Implement the code to extract the predictions and targets from a model and a dataset\n",
        "2. Implement the code to generate the confusion matrix, and its normalized form\n",
        "3. Plot the confusion matrix and try to understand how your model is performing, and where it falls short. We'll use this later on for the report."
      ]
    },
    {
      "cell_type": "code",
      "execution_count": null,
      "metadata": {
        "id": "47oQB8Y5hb-V"
      },
      "outputs": [],
      "source": [
        "print(verify(test_generate_confusion_matrix))\n",
        "print(verify(test_generate_confusion_matrix_normalized))"
      ]
    },
    {
      "cell_type": "code",
      "execution_count": null,
      "metadata": {
        "id": "alg_NXDphb-V"
      },
      "outputs": [],
      "source": [
        "%%time\n",
        "targets, predictions, class_labels = generate_confusion_data(\n",
        "    trainer.model, trainer.val_dataset, use_cuda=is_cuda\n",
        ")"
      ]
    },
    {
      "cell_type": "code",
      "execution_count": null,
      "metadata": {
        "id": "eiAcQIdWhb-V"
      },
      "outputs": [],
      "source": [
        "confusion_matrix = generate_confusion_matrix(targets, predictions, len(class_labels))"
      ]
    },
    {
      "cell_type": "code",
      "execution_count": null,
      "metadata": {
        "id": "MUzxZ1-Qhb-W"
      },
      "outputs": [],
      "source": [
        "plot_confusion_matrix(confusion_matrix, class_labels)"
      ]
    },
    {
      "cell_type": "markdown",
      "metadata": {
        "id": "amh1wxlJBpHj"
      },
      "source": [
        "## Part 3: ResNet\n",
        "You can see that after the above adjustment, our model performance increases in terms of testing accuracy. Although the training accuracy drops, now it's closer to the testing values and that's more natural in terms of performance. But we are not satisfied with the final performance yet. Our model, in the end, is still a 2-layer SimpleNet and it might be capable of capturing some features, but could be improved a lot if we go **deeper**. In this part we are going to see the power of a famous model: ResNet18."
      ]
    },
    {
      "cell_type": "code",
      "execution_count": null,
      "metadata": {
        "id": "ttbhBZ7CXUng"
      },
      "outputs": [],
      "source": [
        "inp_size = (224, 224)"
      ]
    },
    {
      "cell_type": "markdown",
      "metadata": {
        "id": "HGzfNfMivgjb"
      },
      "source": [
        "### Part 3.1 & 3.2: Fine-tuning the ResNet\n",
        "Now let's define a ResNet which can be fit onto our dataset. PyTorch has provided us with pre-trained models like ResNet18, so what you want to do is to load the model first, and then adjust some of the layers such that it fits with our own dataset, instead of outputing scores to 1000 classes from the original ResNet18 model.\n",
        "\n",
        "\n",
        "**TODO 15:** Switch to `my_resnet.py`, and copy the network architecture and weights of all but the last fc layers from the pretrained network.\n",
        "\n",
        "After you have defined the correct architecture of the model, make some tweaks to the existing layers: **freeze** the **convolutional** layers and first 2 **linear** layers so we don't update the weights of them; more details can be found in the instruction webpage.\n",
        "\n",
        "Note that you are allowed to add more layers/unfreeze more layers if you see fit."
      ]
    },
    {
      "cell_type": "code",
      "execution_count": null,
      "metadata": {
        "id": "Ruw-dg8avgjb",
        "colab": {
          "base_uri": "https://localhost:8080/"
        },
        "outputId": "95ce6dd2-4970-4db6-95a7-925af48fb3ac"
      },
      "outputs": [
        {
          "output_type": "stream",
          "name": "stderr",
          "text": [
            "/usr/local/lib/python3.11/dist-packages/torchvision/models/_utils.py:223: UserWarning: Arguments other than a weight enum or `None` for 'weights' are deprecated since 0.13 and may be removed in the future. The current behavior is equivalent to passing `weights=ResNet18_Weights.IMAGENET1K_V1`. You can also use `weights=ResNet18_Weights.DEFAULT` to get the most up-to-date weights.\n",
            "  warnings.warn(msg)\n",
            "Downloading: \"https://download.pytorch.org/models/resnet18-f37072fd.pth\" to /root/.cache/torch/hub/checkpoints/resnet18-f37072fd.pth\n",
            "100%|██████████| 44.7M/44.7M [00:00<00:00, 149MB/s]"
          ]
        },
        {
          "output_type": "stream",
          "name": "stdout",
          "text": [
            "Testing your ResNet architecture:  \u001b[32m\"Correct\"\u001b[0m\n"
          ]
        },
        {
          "output_type": "stream",
          "name": "stderr",
          "text": [
            "\n"
          ]
        }
      ],
      "source": [
        "print(\"Testing your ResNet architecture: \", verify(test_my_resnet))"
      ]
    },
    {
      "cell_type": "code",
      "execution_count": null,
      "metadata": {
        "id": "CBoLgRrlBpHl",
        "colab": {
          "base_uri": "https://localhost:8080/"
        },
        "outputId": "62694423-e758-4a96-985a-75c0ca9f1586"
      },
      "outputs": [
        {
          "output_type": "stream",
          "name": "stdout",
          "text": [
            "MyResNet18(\n",
            "  (conv_layers): Sequential(\n",
            "    (0): Conv2d(3, 64, kernel_size=(7, 7), stride=(2, 2), padding=(3, 3), bias=False)\n",
            "    (1): BatchNorm2d(64, eps=1e-05, momentum=0.1, affine=True, track_running_stats=True)\n",
            "    (2): ReLU(inplace=True)\n",
            "    (3): MaxPool2d(kernel_size=3, stride=2, padding=1, dilation=1, ceil_mode=False)\n",
            "    (4): Sequential(\n",
            "      (0): BasicBlock(\n",
            "        (conv1): Conv2d(64, 64, kernel_size=(3, 3), stride=(1, 1), padding=(1, 1), bias=False)\n",
            "        (bn1): BatchNorm2d(64, eps=1e-05, momentum=0.1, affine=True, track_running_stats=True)\n",
            "        (relu): ReLU(inplace=True)\n",
            "        (conv2): Conv2d(64, 64, kernel_size=(3, 3), stride=(1, 1), padding=(1, 1), bias=False)\n",
            "        (bn2): BatchNorm2d(64, eps=1e-05, momentum=0.1, affine=True, track_running_stats=True)\n",
            "      )\n",
            "      (1): BasicBlock(\n",
            "        (conv1): Conv2d(64, 64, kernel_size=(3, 3), stride=(1, 1), padding=(1, 1), bias=False)\n",
            "        (bn1): BatchNorm2d(64, eps=1e-05, momentum=0.1, affine=True, track_running_stats=True)\n",
            "        (relu): ReLU(inplace=True)\n",
            "        (conv2): Conv2d(64, 64, kernel_size=(3, 3), stride=(1, 1), padding=(1, 1), bias=False)\n",
            "        (bn2): BatchNorm2d(64, eps=1e-05, momentum=0.1, affine=True, track_running_stats=True)\n",
            "      )\n",
            "    )\n",
            "    (5): Sequential(\n",
            "      (0): BasicBlock(\n",
            "        (conv1): Conv2d(64, 128, kernel_size=(3, 3), stride=(2, 2), padding=(1, 1), bias=False)\n",
            "        (bn1): BatchNorm2d(128, eps=1e-05, momentum=0.1, affine=True, track_running_stats=True)\n",
            "        (relu): ReLU(inplace=True)\n",
            "        (conv2): Conv2d(128, 128, kernel_size=(3, 3), stride=(1, 1), padding=(1, 1), bias=False)\n",
            "        (bn2): BatchNorm2d(128, eps=1e-05, momentum=0.1, affine=True, track_running_stats=True)\n",
            "        (downsample): Sequential(\n",
            "          (0): Conv2d(64, 128, kernel_size=(1, 1), stride=(2, 2), bias=False)\n",
            "          (1): BatchNorm2d(128, eps=1e-05, momentum=0.1, affine=True, track_running_stats=True)\n",
            "        )\n",
            "      )\n",
            "      (1): BasicBlock(\n",
            "        (conv1): Conv2d(128, 128, kernel_size=(3, 3), stride=(1, 1), padding=(1, 1), bias=False)\n",
            "        (bn1): BatchNorm2d(128, eps=1e-05, momentum=0.1, affine=True, track_running_stats=True)\n",
            "        (relu): ReLU(inplace=True)\n",
            "        (conv2): Conv2d(128, 128, kernel_size=(3, 3), stride=(1, 1), padding=(1, 1), bias=False)\n",
            "        (bn2): BatchNorm2d(128, eps=1e-05, momentum=0.1, affine=True, track_running_stats=True)\n",
            "      )\n",
            "    )\n",
            "    (6): Sequential(\n",
            "      (0): BasicBlock(\n",
            "        (conv1): Conv2d(128, 256, kernel_size=(3, 3), stride=(2, 2), padding=(1, 1), bias=False)\n",
            "        (bn1): BatchNorm2d(256, eps=1e-05, momentum=0.1, affine=True, track_running_stats=True)\n",
            "        (relu): ReLU(inplace=True)\n",
            "        (conv2): Conv2d(256, 256, kernel_size=(3, 3), stride=(1, 1), padding=(1, 1), bias=False)\n",
            "        (bn2): BatchNorm2d(256, eps=1e-05, momentum=0.1, affine=True, track_running_stats=True)\n",
            "        (downsample): Sequential(\n",
            "          (0): Conv2d(128, 256, kernel_size=(1, 1), stride=(2, 2), bias=False)\n",
            "          (1): BatchNorm2d(256, eps=1e-05, momentum=0.1, affine=True, track_running_stats=True)\n",
            "        )\n",
            "      )\n",
            "      (1): BasicBlock(\n",
            "        (conv1): Conv2d(256, 256, kernel_size=(3, 3), stride=(1, 1), padding=(1, 1), bias=False)\n",
            "        (bn1): BatchNorm2d(256, eps=1e-05, momentum=0.1, affine=True, track_running_stats=True)\n",
            "        (relu): ReLU(inplace=True)\n",
            "        (conv2): Conv2d(256, 256, kernel_size=(3, 3), stride=(1, 1), padding=(1, 1), bias=False)\n",
            "        (bn2): BatchNorm2d(256, eps=1e-05, momentum=0.1, affine=True, track_running_stats=True)\n",
            "      )\n",
            "    )\n",
            "    (7): Sequential(\n",
            "      (0): BasicBlock(\n",
            "        (conv1): Conv2d(256, 512, kernel_size=(3, 3), stride=(2, 2), padding=(1, 1), bias=False)\n",
            "        (bn1): BatchNorm2d(512, eps=1e-05, momentum=0.1, affine=True, track_running_stats=True)\n",
            "        (relu): ReLU(inplace=True)\n",
            "        (conv2): Conv2d(512, 512, kernel_size=(3, 3), stride=(1, 1), padding=(1, 1), bias=False)\n",
            "        (bn2): BatchNorm2d(512, eps=1e-05, momentum=0.1, affine=True, track_running_stats=True)\n",
            "        (downsample): Sequential(\n",
            "          (0): Conv2d(256, 512, kernel_size=(1, 1), stride=(2, 2), bias=False)\n",
            "          (1): BatchNorm2d(512, eps=1e-05, momentum=0.1, affine=True, track_running_stats=True)\n",
            "        )\n",
            "      )\n",
            "      (1): BasicBlock(\n",
            "        (conv1): Conv2d(512, 512, kernel_size=(3, 3), stride=(1, 1), padding=(1, 1), bias=False)\n",
            "        (bn1): BatchNorm2d(512, eps=1e-05, momentum=0.1, affine=True, track_running_stats=True)\n",
            "        (relu): ReLU(inplace=True)\n",
            "        (conv2): Conv2d(512, 512, kernel_size=(3, 3), stride=(1, 1), padding=(1, 1), bias=False)\n",
            "        (bn2): BatchNorm2d(512, eps=1e-05, momentum=0.1, affine=True, track_running_stats=True)\n",
            "      )\n",
            "    )\n",
            "    (8): AdaptiveAvgPool2d(output_size=(1, 1))\n",
            "  )\n",
            "  (fc_layers): Linear(in_features=512, out_features=15, bias=True)\n",
            "  (loss_criterion): CrossEntropyLoss()\n",
            ")\n"
          ]
        }
      ],
      "source": [
        "my_resnet = MyResNet18()\n",
        "print(my_resnet)"
      ]
    },
    {
      "cell_type": "code",
      "execution_count": null,
      "metadata": {
        "id": "J6AYkHAgBpHw"
      },
      "outputs": [],
      "source": [
        "# TODO: add a decent initial setting and tune from there. The values are intentionally bad.\n",
        "# We recommend using the adam optimizer and consulting Pytorch's adam documentation for default hyperparameter values.\n",
        "optimizer_config = {\"optimizer_type\": \"adam\", \"lr\": 1e-3, \"weight_decay\": 1e-4}"
      ]
    },
    {
      "cell_type": "code",
      "execution_count": null,
      "metadata": {
        "id": "DtCIaTMmBpIK"
      },
      "outputs": [],
      "source": [
        "my_resnet = MyResNet18()\n",
        "optimizer = get_optimizer(my_resnet, optimizer_config)\n",
        "\n",
        "trainer = Trainer(\n",
        "    data_dir=data_path,\n",
        "    model=my_resnet,\n",
        "    optimizer=optimizer,\n",
        "    model_dir=os.path.join(model_path, \"resnet18\"),\n",
        "    train_data_transforms=get_all_transforms(inp_size, [dataset_mean], [dataset_std]),\n",
        "    val_data_transforms=get_fundamental_normalization_transforms(\n",
        "        inp_size, [dataset_mean], [dataset_std]\n",
        "    ),\n",
        "    batch_size=32,\n",
        "    load_from_disk=False,\n",
        "    cuda=is_cuda,\n",
        "    mps=is_apple_silicon,\n",
        ")"
      ]
    },
    {
      "cell_type": "markdown",
      "metadata": {
        "id": "oYMrCqMgvgjd"
      },
      "source": [
        "The following training cell will take roughly 20 minutes or slightly more using CPU (but possibly under 5 minute using GPU depending on the batch size; the TAs got it within 3 minutes on a GTX1060 and within 1 minute on Apple M3 silicon)."
      ]
    },
    {
      "cell_type": "code",
      "execution_count": null,
      "metadata": {
        "id": "CAcncwLPBpIQ",
        "colab": {
          "base_uri": "https://localhost:8080/"
        },
        "outputId": "b95bab9e-5e80-45b0-9b73-e4afd290ac04"
      },
      "outputs": [
        {
          "output_type": "stream",
          "name": "stdout",
          "text": [
            "Epoch:1 Train Loss:0.0499 Val Loss: 0.0286 Train Accuracy: 0.5742 Validation Accuracy: 0.7867\n",
            "Epoch:2 Train Loss:0.0230 Val Loss: 0.0199 Train Accuracy: 0.8312 Validation Accuracy: 0.8240\n",
            "Epoch:3 Train Loss:0.0180 Val Loss: 0.0153 Train Accuracy: 0.8422 Validation Accuracy: 0.8720\n",
            "Epoch:4 Train Loss:0.0149 Val Loss: 0.0132 Train Accuracy: 0.8717 Validation Accuracy: 0.8840\n",
            "Epoch:5 Train Loss:0.0131 Val Loss: 0.0129 Train Accuracy: 0.8854 Validation Accuracy: 0.8800\n",
            "CPU times: user 19.4 s, sys: 2.23 s, total: 21.6 s\n",
            "Wall time: 53.4 s\n"
          ]
        }
      ],
      "source": [
        "%%time\n",
        "trainer.run_training_loop(num_epochs=5)"
      ]
    },
    {
      "cell_type": "markdown",
      "metadata": {
        "id": "biGF45_bvgje"
      },
      "source": [
        "Like both previous sections, you are required to pass a threshold of **85%** for this part. Copy the plots and values onto the report and answer questions accordingly."
      ]
    },
    {
      "cell_type": "code",
      "execution_count": null,
      "metadata": {
        "id": "Cimj95G_BpIU",
        "scrolled": false,
        "colab": {
          "base_uri": "https://localhost:8080/",
          "height": 927
        },
        "outputId": "c2c9045a-7cf1-401d-c9a2-c095085a9ac6"
      },
      "outputs": [
        {
          "output_type": "display_data",
          "data": {
            "text/plain": [
              "<Figure size 640x480 with 1 Axes>"
            ],
            "image/png": "[encoded data removed]"
          },
          "metadata": {}
        },
        {
          "output_type": "display_data",
          "data": {
            "text/plain": [
              "<Figure size 640x480 with 1 Axes>"
            ],
            "image/png": "[encoded data removed]"
          },
          "metadata": {}
        }
      ],
      "source": [
        "trainer.plot_loss_history()\n",
        "trainer.plot_accuracy()"
      ]
    },
    {
      "cell_type": "code",
      "execution_count": null,
      "metadata": {
        "id": "qMI3CdEuBpIb",
        "colab": {
          "base_uri": "https://localhost:8080/"
        },
        "outputId": "7df1f718-8b32-4f22-b0a7-27db242cb18c"
      },
      "outputs": [
        {
          "output_type": "stream",
          "name": "stdout",
          "text": [
            "Train Accuracy = 0.8854271356783919; Validation Accuracy = 0.88\n"
          ]
        }
      ],
      "source": [
        "train_accuracy = trainer.train_accuracy_history[-1]\n",
        "validation_accuracy = trainer.validation_accuracy_history[-1]\n",
        "print(\n",
        "    \"Train Accuracy = {}; Validation Accuracy = {}\".format(\n",
        "        train_accuracy, validation_accuracy\n",
        "    )\n",
        ")"
      ]
    },
    {
      "cell_type": "markdown",
      "metadata": {
        "id": "T_9mBr4fhb-b"
      },
      "source": [
        "**TODO 16**: Obtain a **85%** validation accuracy to receive full credits for Part 3."
      ]
    },
    {
      "cell_type": "markdown",
      "metadata": {
        "id": "lwmEfkaohb-b"
      },
      "source": [
        "### Save Trained MyResnet18 model"
      ]
    },
    {
      "cell_type": "code",
      "execution_count": null,
      "metadata": {
        "id": "JttK_45Yhb-b"
      },
      "outputs": [],
      "source": [
        "save_trained_model_weights(my_resnet, out_dir=\"./\")"
      ]
    },
    {
      "cell_type": "markdown",
      "metadata": {
        "id": "eXwDzD5ghb-c"
      },
      "source": [
        "### Part 3.3 Visualize and Analyze Confusion Matrix"
      ]
    },
    {
      "cell_type": "markdown",
      "metadata": {
        "id": "876eAnZZhb-c"
      },
      "source": [
        "**TODO 17:** Visualize and analyze the confusion matrix.\n",
        "\n",
        "You'll need to find an example of an image that is misclassified for the report. Use the confusion matrix and the `get_pred_images_for_target` function to help your analysis"
      ]
    },
    {
      "cell_type": "code",
      "source": [],
      "metadata": {
        "id": "m48U7Ilfz6kn"
      },
      "execution_count": null,
      "outputs": []
    },
    {
      "cell_type": "code",
      "execution_count": null,
      "metadata": {
        "id": "WpoROFbqhb-c",
        "colab": {
          "base_uri": "https://localhost:8080/",
          "height": 649
        },
        "outputId": "01e485ca-f003-45cb-b597-23300b7c6e14"
      },
      "outputs": [
        {
          "output_type": "display_data",
          "data": {
            "text/plain": [
              "<Figure size 1000x1000 with 1 Axes>"
            ],
            "image/png": "[encoded data removed]"
          },
          "metadata": {}
        }
      ],
      "source": [
        "generate_and_plot_confusion_matrix(my_resnet, trainer.val_dataset, use_cuda=is_cuda)"
      ]
    },
    {
      "cell_type": "code",
      "source": [
        "from google.colab import drive\n",
        "drive.mount('/content/drive')"
      ],
      "metadata": {
        "id": "N5yQK1pZv8hz"
      },
      "execution_count": null,
      "outputs": []
    },
    {
      "cell_type": "code",
      "execution_count": null,
      "metadata": {
        "id": "Vimh9O8fhb-d",
        "colab": {
          "base_uri": "https://localhost:8080/",
          "height": 486
        },
        "outputId": "56f84202-3a98-4fc1-80f2-0d237dc0b1a8"
      },
      "outputs": [
        {
          "output_type": "stream",
          "name": "stdout",
          "text": [
            "0\n"
          ]
        },
        {
          "output_type": "error",
          "ename": "ValueError",
          "evalue": "num_samples should be a positive integer value, but got num_samples=0",
          "traceback": [
            "\u001b[0;31m---------------------------------------------------------------------------\u001b[0m",
            "\u001b[0;31mValueError\u001b[0m                                Traceback (most recent call last)",
            "\u001b[0;32m<ipython-input-29-221e2cbfb7fc>\u001b[0m in \u001b[0;36m<cell line: 0>\u001b[0;34m()\u001b[0m\n\u001b[1;32m     13\u001b[0m \u001b[0;34m\u001b[0m\u001b[0m\n\u001b[1;32m     14\u001b[0m \u001b[0;31m#Generate and plot the confusion matrix for these misclassified images\u001b[0m\u001b[0;34m\u001b[0m\u001b[0;34m\u001b[0m\u001b[0m\n\u001b[0;32m---> 15\u001b[0;31m \u001b[0mgenerate_and_plot_confusion_matrix\u001b[0m\u001b[0;34m(\u001b[0m\u001b[0mtrainer\u001b[0m\u001b[0;34m.\u001b[0m\u001b[0mval_dataset\u001b[0m\u001b[0;34m,\u001b[0m \u001b[0msubset_dataset\u001b[0m\u001b[0;34m,\u001b[0m \u001b[0muse_cuda\u001b[0m\u001b[0;34m=\u001b[0m\u001b[0;32mTrue\u001b[0m\u001b[0;34m)\u001b[0m\u001b[0;34m\u001b[0m\u001b[0;34m\u001b[0m\u001b[0m\n\u001b[0m\u001b[1;32m     16\u001b[0m \u001b[0;31m#########################\u001b[0m\u001b[0;34m\u001b[0m\u001b[0;34m\u001b[0m\u001b[0m\n",
            "\u001b[0;32m/content/CV_proj3/src/vision/confusion_matrix.py\u001b[0m in \u001b[0;36mgenerate_and_plot_confusion_matrix\u001b[0;34m(model, dataset, use_cuda)\u001b[0m\n\u001b[1;32m    224\u001b[0m     \"\"\"\n\u001b[1;32m    225\u001b[0m \u001b[0;34m\u001b[0m\u001b[0m\n\u001b[0;32m--> 226\u001b[0;31m     targets, predictions, class_labels = generate_confusion_data(\n\u001b[0m\u001b[1;32m    227\u001b[0m         \u001b[0mmodel\u001b[0m\u001b[0;34m,\u001b[0m \u001b[0mdataset\u001b[0m\u001b[0;34m,\u001b[0m \u001b[0muse_cuda\u001b[0m\u001b[0;34m=\u001b[0m\u001b[0muse_cuda\u001b[0m\u001b[0;34m\u001b[0m\u001b[0;34m\u001b[0m\u001b[0m\n\u001b[1;32m    228\u001b[0m     )\n",
            "\u001b[0;32m/content/CV_proj3/src/vision/confusion_matrix.py\u001b[0m in \u001b[0;36mgenerate_confusion_data\u001b[0;34m(model, dataset, use_cuda)\u001b[0m\n\u001b[1;32m     33\u001b[0m     \u001b[0mcuda\u001b[0m \u001b[0;34m=\u001b[0m \u001b[0muse_cuda\u001b[0m \u001b[0;32mand\u001b[0m \u001b[0mtorch\u001b[0m\u001b[0;34m.\u001b[0m\u001b[0mcuda\u001b[0m\u001b[0;34m.\u001b[0m\u001b[0mis_available\u001b[0m\u001b[0;34m(\u001b[0m\u001b[0;34m)\u001b[0m\u001b[0;34m\u001b[0m\u001b[0;34m\u001b[0m\u001b[0m\n\u001b[1;32m     34\u001b[0m     \u001b[0mdataloader_args\u001b[0m \u001b[0;34m=\u001b[0m \u001b[0;34m{\u001b[0m\u001b[0;34m\"num_workers\"\u001b[0m\u001b[0;34m:\u001b[0m \u001b[0;36m1\u001b[0m\u001b[0;34m,\u001b[0m \u001b[0;34m\"pin_memory\"\u001b[0m\u001b[0;34m:\u001b[0m \u001b[0;32mTrue\u001b[0m\u001b[0;34m}\u001b[0m \u001b[0;32mif\u001b[0m \u001b[0mcuda\u001b[0m \u001b[0;32melse\u001b[0m \u001b[0;34m{\u001b[0m\u001b[0;34m}\u001b[0m\u001b[0;34m\u001b[0m\u001b[0;34m\u001b[0m\u001b[0m\n\u001b[0;32m---> 35\u001b[0;31m     \u001b[0mloader\u001b[0m \u001b[0;34m=\u001b[0m \u001b[0mDataLoader\u001b[0m\u001b[0;34m(\u001b[0m\u001b[0mdataset\u001b[0m\u001b[0;34m,\u001b[0m \u001b[0mbatch_size\u001b[0m\u001b[0;34m=\u001b[0m\u001b[0mbatch_size\u001b[0m\u001b[0;34m,\u001b[0m \u001b[0mshuffle\u001b[0m\u001b[0;34m=\u001b[0m\u001b[0;32mTrue\u001b[0m\u001b[0;34m,\u001b[0m \u001b[0;34m**\u001b[0m\u001b[0mdataloader_args\u001b[0m\u001b[0;34m)\u001b[0m\u001b[0;34m\u001b[0m\u001b[0;34m\u001b[0m\u001b[0m\n\u001b[0m\u001b[1;32m     36\u001b[0m \u001b[0;34m\u001b[0m\u001b[0m\n\u001b[1;32m     37\u001b[0m     \u001b[0mpreds\u001b[0m \u001b[0;34m=\u001b[0m \u001b[0mnp\u001b[0m\u001b[0;34m.\u001b[0m\u001b[0mzeros\u001b[0m\u001b[0;34m(\u001b[0m\u001b[0mlen\u001b[0m\u001b[0;34m(\u001b[0m\u001b[0mdataset\u001b[0m\u001b[0;34m)\u001b[0m\u001b[0;34m)\u001b[0m\u001b[0;34m.\u001b[0m\u001b[0mastype\u001b[0m\u001b[0;34m(\u001b[0m\u001b[0mnp\u001b[0m\u001b[0;34m.\u001b[0m\u001b[0mint32\u001b[0m\u001b[0;34m)\u001b[0m\u001b[0;34m\u001b[0m\u001b[0;34m\u001b[0m\u001b[0m\n",
            "\u001b[0;32m/usr/local/lib/python3.11/dist-packages/torch/utils/data/dataloader.py\u001b[0m in \u001b[0;36m__init__\u001b[0;34m(self, dataset, batch_size, shuffle, sampler, batch_sampler, num_workers, collate_fn, pin_memory, drop_last, timeout, worker_init_fn, multiprocessing_context, generator, prefetch_factor, persistent_workers, pin_memory_device, in_order)\u001b[0m\n\u001b[1;32m    381\u001b[0m             \u001b[0;32melse\u001b[0m\u001b[0;34m:\u001b[0m  \u001b[0;31m# map-style\u001b[0m\u001b[0;34m\u001b[0m\u001b[0;34m\u001b[0m\u001b[0m\n\u001b[1;32m    382\u001b[0m                 \u001b[0;32mif\u001b[0m \u001b[0mshuffle\u001b[0m\u001b[0;34m:\u001b[0m\u001b[0;34m\u001b[0m\u001b[0;34m\u001b[0m\u001b[0m\n\u001b[0;32m--> 383\u001b[0;31m                     \u001b[0msampler\u001b[0m \u001b[0;34m=\u001b[0m \u001b[0mRandomSampler\u001b[0m\u001b[0;34m(\u001b[0m\u001b[0mdataset\u001b[0m\u001b[0;34m,\u001b[0m \u001b[0mgenerator\u001b[0m\u001b[0;34m=\u001b[0m\u001b[0mgenerator\u001b[0m\u001b[0;34m)\u001b[0m  \u001b[0;31m# type: ignore[arg-type]\u001b[0m\u001b[0;34m\u001b[0m\u001b[0;34m\u001b[0m\u001b[0m\n\u001b[0m\u001b[1;32m    384\u001b[0m                 \u001b[0;32melse\u001b[0m\u001b[0;34m:\u001b[0m\u001b[0;34m\u001b[0m\u001b[0;34m\u001b[0m\u001b[0m\n\u001b[1;32m    385\u001b[0m                     \u001b[0msampler\u001b[0m \u001b[0;34m=\u001b[0m \u001b[0mSequentialSampler\u001b[0m\u001b[0;34m(\u001b[0m\u001b[0mdataset\u001b[0m\u001b[0;34m)\u001b[0m  \u001b[0;31m# type: ignore[arg-type]\u001b[0m\u001b[0;34m\u001b[0m\u001b[0;34m\u001b[0m\u001b[0m\n",
            "\u001b[0;32m/usr/local/lib/python3.11/dist-packages/torch/utils/data/sampler.py\u001b[0m in \u001b[0;36m__init__\u001b[0;34m(self, data_source, replacement, num_samples, generator)\u001b[0m\n\u001b[1;32m    163\u001b[0m \u001b[0;34m\u001b[0m\u001b[0m\n\u001b[1;32m    164\u001b[0m         \u001b[0;32mif\u001b[0m \u001b[0;32mnot\u001b[0m \u001b[0misinstance\u001b[0m\u001b[0;34m(\u001b[0m\u001b[0mself\u001b[0m\u001b[0;34m.\u001b[0m\u001b[0mnum_samples\u001b[0m\u001b[0;34m,\u001b[0m \u001b[0mint\u001b[0m\u001b[0;34m)\u001b[0m \u001b[0;32mor\u001b[0m \u001b[0mself\u001b[0m\u001b[0;34m.\u001b[0m\u001b[0mnum_samples\u001b[0m \u001b[0;34m<=\u001b[0m \u001b[0;36m0\u001b[0m\u001b[0;34m:\u001b[0m\u001b[0;34m\u001b[0m\u001b[0;34m\u001b[0m\u001b[0m\n\u001b[0;32m--> 165\u001b[0;31m             raise ValueError(\n\u001b[0m\u001b[1;32m    166\u001b[0m                 \u001b[0;34mf\"num_samples should be a positive integer value, but got num_samples={self.num_samples}\"\u001b[0m\u001b[0;34m\u001b[0m\u001b[0;34m\u001b[0m\u001b[0m\n\u001b[1;32m    167\u001b[0m             )\n",
            "\u001b[0;31mValueError\u001b[0m: num_samples should be a positive integer value, but got num_samples=0"
          ]
        }
      ],
      "source": [
        "#########################\n",
        "from torch.utils.data import DataLoader, Subset\n",
        "# Use this cell to visualize your images depending on the confusion matrix visualization\n",
        "misclassified_images = get_pred_images_for_target(my_resnet, trainer.val_dataset, predicted_class=7, target_class=0, use_cuda=True)\n",
        "\n",
        "# Select first 3 images\n",
        "misclassified_images = misclassified_images[:3]\n",
        "\n",
        "print(len(misclassified_images))\n",
        "\n",
        "indices = [i for i, (img_path, label) in enumerate(trainer.val_dataset) if img_path in misclassified_images]\n",
        "subset_dataset = Subset(trainer.val_dataset, indices)\n",
        "\n",
        "#Generate and plot the confusion matrix for these misclassified images\n",
        "generate_and_plot_confusion_matrix(trainer.val_dataset, subset_dataset, use_cuda=True)\n",
        "#########################"
      ]
    },
    {
      "cell_type": "markdown",
      "metadata": {
        "id": "6r8gzJOcZggX"
      },
      "source": [
        "# Part 4: Multilabel Classification - Scene Attribute Prediction (Extra Credit for Undergrads)\n",
        "\n",
        "Thus far, our convolutional neural network models are able to classify the class of the input image. This part of the project is focused on training a model that is capable of predicting attributes in images.\n",
        "\n",
        "A subset of the above dataset containing images only from the 'coast', 'highway', 'mountain', 'opencountry', 'street' classes will be used. Target labels are represented as binary arrays corresponding to the following attributes:\n",
        "<ul>\n",
        "    <li> Clouds </li>\n",
        "    <li> Water body </li>\n",
        "    <li> People </li>\n",
        "    <li> Animals </li>\n",
        "    <li> Natural </li>\n",
        "    <li> Man-made </li>\n",
        "    <li> Vehicles </li>\n",
        "</ul>\n",
        "\n",
        "For example, if an input image of a natural scene has clouds, people and vehicles only, we expect an output of [1, 0, 1, 0, 1, 0, 1]."
      ]
    },
    {
      "cell_type": "markdown",
      "metadata": {
        "id": "X_sVcS78ZggX"
      },
      "source": [
        "## Part 4.1 & 4.2 Model Architecture & Training\n",
        "**TODO 18:** Switch to `multilabel_resnet.py`, and copy the network architecture and weights of all but the last fc layers from the pretrained network. Modify the network to obtain the desired output as shown above.\n",
        "\n",
        "After you have defined the correct architecture of the model, make some tweaks to the existing layers: **freeze** the **convolutional** layers and first 2 **linear** layers so we don't update the weights of them; more details can be found in the instruction webpage.\n",
        "\n",
        "Note that you are allowed to add more layers/unfreeze more layers if you see fit."
      ]
    },
    {
      "cell_type": "code",
      "execution_count": null,
      "metadata": {
        "id": "yNhxBNGTZggY",
        "colab": {
          "base_uri": "https://localhost:8080/"
        },
        "outputId": "816026ed-9ca2-4993-e11c-5f0adbc45482"
      },
      "outputs": [
        {
          "output_type": "stream",
          "name": "stdout",
          "text": [
            "Testing your multilabel image loader (length): \u001b[32m\"Correct\"\u001b[0m\n",
            "Testing your multilabel image loader (values): \u001b[32m\"Correct\"\u001b[0m\n"
          ]
        }
      ],
      "source": [
        "print(\"Testing your multilabel image loader (length):\", verify(test_multilabel_dataset_length))\n",
        "print(\"Testing your multilabel image loader (values):\", verify(test_multilabel_unique_vals))"
      ]
    },
    {
      "cell_type": "code",
      "execution_count": null,
      "metadata": {
        "id": "VVkymQ-tZggY",
        "outputId": "84ee5b62-6084-4270-a378-c2050e50357c",
        "colab": {
          "base_uri": "https://localhost:8080/"
        }
      },
      "outputs": [
        {
          "output_type": "stream",
          "name": "stderr",
          "text": [
            "/usr/local/lib/python3.11/dist-packages/torchvision/models/_utils.py:208: UserWarning: The parameter 'pretrained' is deprecated since 0.13 and may be removed in the future, please use 'weights' instead.\n",
            "  warnings.warn(\n",
            "/usr/local/lib/python3.11/dist-packages/torchvision/models/_utils.py:223: UserWarning: Arguments other than a weight enum or `None` for 'weights' are deprecated since 0.13 and may be removed in the future. The current behavior is equivalent to passing `weights=ResNet18_Weights.IMAGENET1K_V1`. You can also use `weights=ResNet18_Weights.DEFAULT` to get the most up-to-date weights.\n",
            "  warnings.warn(msg)\n",
            "Downloading: \"https://download.pytorch.org/models/resnet18-f37072fd.pth\" to /root/.cache/torch/hub/checkpoints/resnet18-f37072fd.pth\n",
            "100%|██████████| 44.7M/44.7M [00:00<00:00, 151MB/s]"
          ]
        },
        {
          "output_type": "stream",
          "name": "stdout",
          "text": [
            "modified\n",
            "Testing your MultilabelResNet architecture:  \u001b[31m\"Wrong\"\u001b[0m\n"
          ]
        },
        {
          "output_type": "stream",
          "name": "stderr",
          "text": [
            "\n"
          ]
        }
      ],
      "source": [
        "print(\"Testing your MultilabelResNet architecture: \", verify(test_multilabel_resnet))"
      ]
    },
    {
      "cell_type": "code",
      "execution_count": null,
      "metadata": {
        "id": "zzO9NQ-ZZggY",
        "outputId": "8ed9fffd-c3f2-44fe-a93a-d132f1e8513f",
        "colab": {
          "base_uri": "https://localhost:8080/"
        }
      },
      "outputs": [
        {
          "output_type": "stream",
          "name": "stdout",
          "text": [
            "modified\n",
            "MultilabelResNet18(\n",
            "  (conv_layers): Sequential(\n",
            "    (0): Conv2d(3, 64, kernel_size=(7, 7), stride=(2, 2), padding=(3, 3), bias=False)\n",
            "    (1): BatchNorm2d(64, eps=1e-05, momentum=0.1, affine=True, track_running_stats=True)\n",
            "    (2): ReLU(inplace=True)\n",
            "    (3): MaxPool2d(kernel_size=3, stride=2, padding=1, dilation=1, ceil_mode=False)\n",
            "    (4): Sequential(\n",
            "      (0): BasicBlock(\n",
            "        (conv1): Conv2d(64, 64, kernel_size=(3, 3), stride=(1, 1), padding=(1, 1), bias=False)\n",
            "        (bn1): BatchNorm2d(64, eps=1e-05, momentum=0.1, affine=True, track_running_stats=True)\n",
            "        (relu): ReLU(inplace=True)\n",
            "        (conv2): Conv2d(64, 64, kernel_size=(3, 3), stride=(1, 1), padding=(1, 1), bias=False)\n",
            "        (bn2): BatchNorm2d(64, eps=1e-05, momentum=0.1, affine=True, track_running_stats=True)\n",
            "      )\n",
            "      (1): BasicBlock(\n",
            "        (conv1): Conv2d(64, 64, kernel_size=(3, 3), stride=(1, 1), padding=(1, 1), bias=False)\n",
            "        (bn1): BatchNorm2d(64, eps=1e-05, momentum=0.1, affine=True, track_running_stats=True)\n",
            "        (relu): ReLU(inplace=True)\n",
            "        (conv2): Conv2d(64, 64, kernel_size=(3, 3), stride=(1, 1), padding=(1, 1), bias=False)\n",
            "        (bn2): BatchNorm2d(64, eps=1e-05, momentum=0.1, affine=True, track_running_stats=True)\n",
            "      )\n",
            "    )\n",
            "    (5): Sequential(\n",
            "      (0): BasicBlock(\n",
            "        (conv1): Conv2d(64, 128, kernel_size=(3, 3), stride=(2, 2), padding=(1, 1), bias=False)\n",
            "        (bn1): BatchNorm2d(128, eps=1e-05, momentum=0.1, affine=True, track_running_stats=True)\n",
            "        (relu): ReLU(inplace=True)\n",
            "        (conv2): Conv2d(128, 128, kernel_size=(3, 3), stride=(1, 1), padding=(1, 1), bias=False)\n",
            "        (bn2): BatchNorm2d(128, eps=1e-05, momentum=0.1, affine=True, track_running_stats=True)\n",
            "        (downsample): Sequential(\n",
            "          (0): Conv2d(64, 128, kernel_size=(1, 1), stride=(2, 2), bias=False)\n",
            "          (1): BatchNorm2d(128, eps=1e-05, momentum=0.1, affine=True, track_running_stats=True)\n",
            "        )\n",
            "      )\n",
            "      (1): BasicBlock(\n",
            "        (conv1): Conv2d(128, 128, kernel_size=(3, 3), stride=(1, 1), padding=(1, 1), bias=False)\n",
            "        (bn1): BatchNorm2d(128, eps=1e-05, momentum=0.1, affine=True, track_running_stats=True)\n",
            "        (relu): ReLU(inplace=True)\n",
            "        (conv2): Conv2d(128, 128, kernel_size=(3, 3), stride=(1, 1), padding=(1, 1), bias=False)\n",
            "        (bn2): BatchNorm2d(128, eps=1e-05, momentum=0.1, affine=True, track_running_stats=True)\n",
            "      )\n",
            "    )\n",
            "    (6): Sequential(\n",
            "      (0): BasicBlock(\n",
            "        (conv1): Conv2d(128, 256, kernel_size=(3, 3), stride=(2, 2), padding=(1, 1), bias=False)\n",
            "        (bn1): BatchNorm2d(256, eps=1e-05, momentum=0.1, affine=True, track_running_stats=True)\n",
            "        (relu): ReLU(inplace=True)\n",
            "        (conv2): Conv2d(256, 256, kernel_size=(3, 3), stride=(1, 1), padding=(1, 1), bias=False)\n",
            "        (bn2): BatchNorm2d(256, eps=1e-05, momentum=0.1, affine=True, track_running_stats=True)\n",
            "        (downsample): Sequential(\n",
            "          (0): Conv2d(128, 256, kernel_size=(1, 1), stride=(2, 2), bias=False)\n",
            "          (1): BatchNorm2d(256, eps=1e-05, momentum=0.1, affine=True, track_running_stats=True)\n",
            "        )\n",
            "      )\n",
            "      (1): BasicBlock(\n",
            "        (conv1): Conv2d(256, 256, kernel_size=(3, 3), stride=(1, 1), padding=(1, 1), bias=False)\n",
            "        (bn1): BatchNorm2d(256, eps=1e-05, momentum=0.1, affine=True, track_running_stats=True)\n",
            "        (relu): ReLU(inplace=True)\n",
            "        (conv2): Conv2d(256, 256, kernel_size=(3, 3), stride=(1, 1), padding=(1, 1), bias=False)\n",
            "        (bn2): BatchNorm2d(256, eps=1e-05, momentum=0.1, affine=True, track_running_stats=True)\n",
            "      )\n",
            "    )\n",
            "    (7): Sequential(\n",
            "      (0): BasicBlock(\n",
            "        (conv1): Conv2d(256, 512, kernel_size=(3, 3), stride=(2, 2), padding=(1, 1), bias=False)\n",
            "        (bn1): BatchNorm2d(512, eps=1e-05, momentum=0.1, affine=True, track_running_stats=True)\n",
            "        (relu): ReLU(inplace=True)\n",
            "        (conv2): Conv2d(512, 512, kernel_size=(3, 3), stride=(1, 1), padding=(1, 1), bias=False)\n",
            "        (bn2): BatchNorm2d(512, eps=1e-05, momentum=0.1, affine=True, track_running_stats=True)\n",
            "        (downsample): Sequential(\n",
            "          (0): Conv2d(256, 512, kernel_size=(1, 1), stride=(2, 2), bias=False)\n",
            "          (1): BatchNorm2d(512, eps=1e-05, momentum=0.1, affine=True, track_running_stats=True)\n",
            "        )\n",
            "      )\n",
            "      (1): BasicBlock(\n",
            "        (conv1): Conv2d(512, 512, kernel_size=(3, 3), stride=(1, 1), padding=(1, 1), bias=False)\n",
            "        (bn1): BatchNorm2d(512, eps=1e-05, momentum=0.1, affine=True, track_running_stats=True)\n",
            "        (relu): ReLU(inplace=True)\n",
            "        (conv2): Conv2d(512, 512, kernel_size=(3, 3), stride=(1, 1), padding=(1, 1), bias=False)\n",
            "        (bn2): BatchNorm2d(512, eps=1e-05, momentum=0.1, affine=True, track_running_stats=True)\n",
            "      )\n",
            "    )\n",
            "    (8): AdaptiveAvgPool2d(output_size=(1, 1))\n",
            "  )\n",
            "  (fc_layers): Sequential(\n",
            "    (0): Linear(in_features=512, out_features=256, bias=True)\n",
            "    (1): ReLU()\n",
            "    (2): Dropout(p=0.3, inplace=False)\n",
            "    (3): Linear(in_features=256, out_features=128, bias=True)\n",
            "    (4): ReLU()\n",
            "    (5): Dropout(p=0.3, inplace=False)\n",
            "    (6): Linear(in_features=128, out_features=7, bias=True)\n",
            "  )\n",
            "  (loss_criterion): BCEWithLogitsLoss()\n",
            ")\n"
          ]
        }
      ],
      "source": [
        "multi_resnet = MultilabelResNet18()\n",
        "print(multi_resnet)"
      ]
    },
    {
      "cell_type": "code",
      "execution_count": null,
      "metadata": {
        "id": "N_DxdfYoZggY",
        "outputId": "5bf99caa-d422-4109-89b2-f750a1a14d61",
        "colab": {
          "base_uri": "https://localhost:8080/"
        }
      },
      "outputs": [
        {
          "output_type": "stream",
          "name": "stderr",
          "text": [
            "/usr/local/lib/python3.11/dist-packages/torchvision/models/_utils.py:208: UserWarning: The parameter 'pretrained' is deprecated since 0.13 and may be removed in the future, please use 'weights' instead.\n",
            "  warnings.warn(\n",
            "/usr/local/lib/python3.11/dist-packages/torchvision/models/_utils.py:223: UserWarning: Arguments other than a weight enum or `None` for 'weights' are deprecated since 0.13 and may be removed in the future. The current behavior is equivalent to passing `weights=ResNet18_Weights.IMAGENET1K_V1`. You can also use `weights=ResNet18_Weights.DEFAULT` to get the most up-to-date weights.\n",
            "  warnings.warn(msg)\n"
          ]
        },
        {
          "output_type": "stream",
          "name": "stdout",
          "text": [
            "modified\n",
            "Testing your MultilabelResNet architecture:  \u001b[31m\"Wrong\"\u001b[0m\n"
          ]
        }
      ],
      "source": [
        "print(\"Testing your MultilabelResNet architecture: \", verify(test_multilabel_resnet))"
      ]
    },
    {
      "cell_type": "code",
      "execution_count": null,
      "metadata": {
        "id": "XOksJjYVZggY"
      },
      "outputs": [],
      "source": [
        "inp_size = (224, 224)"
      ]
    },
    {
      "cell_type": "code",
      "execution_count": null,
      "metadata": {
        "id": "1f6DD4nsZggY"
      },
      "outputs": [],
      "source": [
        "# TODO: add a decent initial setting and tune from there. The values are intentionally bad.\n",
        "# We recommend using the adam optimizer and consulting Pytorch's adam documentation for default hyperparameter values.\n",
        "optimizer_config = {\"optimizer_type\": \"adam\", \"lr\": 3e-3, \"weight_decay\": 1e-4}"
      ]
    },
    {
      "cell_type": "code",
      "execution_count": null,
      "metadata": {
        "id": "2HVWR-p_ZggY",
        "outputId": "5de2bb03-82b5-4621-f0c7-9811d954036e",
        "colab": {
          "base_uri": "https://localhost:8080/"
        }
      },
      "outputs": [
        {
          "output_type": "stream",
          "name": "stdout",
          "text": [
            "modified\n"
          ]
        }
      ],
      "source": [
        "multi_resnet = MultilabelResNet18()\n",
        "optimizer = get_optimizer(multi_resnet, optimizer_config)\n",
        "\n",
        "trainer = MultiLabelTrainer(\n",
        "    data_dir=data_path,\n",
        "    model=multi_resnet,\n",
        "    optimizer=optimizer,\n",
        "    model_dir=os.path.join(model_path, \"multilabel_resnet18\"),\n",
        "    train_data_transforms=get_all_transforms(inp_size, [dataset_mean], [dataset_std]),\n",
        "    val_data_transforms=get_fundamental_normalization_transforms(\n",
        "        inp_size, [dataset_mean], [dataset_std]\n",
        "    ),\n",
        "    batch_size=32,\n",
        "    load_from_disk=False,\n",
        "    cuda=is_cuda,\n",
        "    mps=is_apple_silicon,\n",
        ")"
      ]
    },
    {
      "cell_type": "code",
      "execution_count": null,
      "metadata": {
        "id": "ktDV2Qq-ZggY",
        "outputId": "720431c1-d81f-4e71-a021-2e5bd8bc5aec",
        "colab": {
          "base_uri": "https://localhost:8080/"
        }
      },
      "outputs": [
        {
          "output_type": "stream",
          "name": "stdout",
          "text": [
            "Epoch:1 Train Loss:0.0123 Val Loss: 0.0117 Train Accuracy: 0.8190 Validation Accuracy: 0.8551\n",
            "Epoch:2 Train Loss:0.0095 Val Loss: 0.0092 Train Accuracy: 0.8694 Validation Accuracy: 0.8769\n",
            "Epoch:3 Train Loss:0.0089 Val Loss: 0.0083 Train Accuracy: 0.8813 Validation Accuracy: 0.9017\n",
            "Epoch:4 Train Loss:0.0087 Val Loss: 0.0090 Train Accuracy: 0.8822 Validation Accuracy: 0.8789\n",
            "Epoch:5 Train Loss:0.0089 Val Loss: 0.0090 Train Accuracy: 0.8766 Validation Accuracy: 0.8974\n",
            "Epoch:6 Train Loss:0.0086 Val Loss: 0.0083 Train Accuracy: 0.8840 Validation Accuracy: 0.8929\n",
            "Epoch:7 Train Loss:0.0080 Val Loss: 0.0105 Train Accuracy: 0.8927 Validation Accuracy: 0.8720\n",
            "Epoch:8 Train Loss:0.0091 Val Loss: 0.0084 Train Accuracy: 0.8766 Validation Accuracy: 0.9026\n",
            "CPU times: user 20min 18s, sys: 2min 46s, total: 23min 4s\n",
            "Wall time: 23min 11s\n"
          ]
        }
      ],
      "source": [
        "%%time\n",
        "trainer.run_training_loop(num_epochs=8)"
      ]
    },
    {
      "cell_type": "code",
      "execution_count": null,
      "metadata": {
        "id": "Q7SgGnAbZggY",
        "outputId": "ff5afb41-6d05-49cc-ff97-05e197e86fb0",
        "colab": {
          "base_uri": "https://localhost:8080/",
          "height": 927
        }
      },
      "outputs": [
        {
          "output_type": "display_data",
          "data": {
            "text/plain": [
              "<Figure size 640x480 with 1 Axes>"
            ],
            "image/png": "[encoded data removed]"
          },
          "metadata": {}
        },
        {
          "output_type": "display_data",
          "data": {
            "text/plain": [
              "<Figure size 640x480 with 1 Axes>"
            ],
            "image/png": "[encoded data removed]"
          },
          "metadata": {}
        }
      ],
      "source": [
        "trainer.plot_loss_history()\n",
        "trainer.plot_accuracy()"
      ]
    },
    {
      "cell_type": "code",
      "execution_count": null,
      "metadata": {
        "id": "r5xbmOKwZggY",
        "outputId": "d48e0d03-73ec-40eb-c34a-998b108c1467",
        "colab": {
          "base_uri": "https://localhost:8080/"
        }
      },
      "outputs": [
        {
          "output_type": "stream",
          "name": "stdout",
          "text": [
            "Train Accuracy = 0.876612517916866; Validation Accuracy = 0.9025714285714286\n"
          ]
        }
      ],
      "source": [
        "train_accuracy = trainer.train_accuracy_history[-1]\n",
        "validation_accuracy = trainer.validation_accuracy_history[-1]\n",
        "print(\n",
        "    \"Train Accuracy = {}; Validation Accuracy = {}\".format(\n",
        "        train_accuracy, validation_accuracy\n",
        "    )\n",
        ")"
      ]
    },
    {
      "cell_type": "markdown",
      "metadata": {
        "id": "caA5aIHOZggY"
      },
      "source": [
        "**TODO 19**: Obtain a **90%** validation accuracy to receive full credits for Part 4."
      ]
    },
    {
      "cell_type": "markdown",
      "metadata": {
        "id": "yWJDFBPMZggZ"
      },
      "source": [
        "### Save Trained MultilabelResnet18 model"
      ]
    },
    {
      "cell_type": "code",
      "execution_count": null,
      "metadata": {
        "id": "PKxLnATKZggZ"
      },
      "outputs": [],
      "source": [
        "save_trained_model_weights(multi_resnet, out_dir=\"./\")"
      ]
    },
    {
      "cell_type": "markdown",
      "metadata": {
        "id": "tQY_1WyBZggZ"
      },
      "source": [
        "## 4.3 Visualize Results\n",
        "\n",
        "Having an overall accuracy of >90% does not necessarily mean that the model is performing well. To truly analyze its performance in this multi-label classification task, the accuracy of each attribute should also be considered.\n",
        "\n",
        "**TODO 20**: Complete the accuracy table for your multi-label classification model."
      ]
    },
    {
      "cell_type": "code",
      "execution_count": null,
      "metadata": {
        "id": "2D-Cu8ZBZggZ",
        "outputId": "bca840c0-bf8c-4e61-fded-f9f2bf571849",
        "colab": {
          "base_uri": "https://localhost:8080/"
        }
      },
      "outputs": [
        {
          "output_type": "stream",
          "name": "stdout",
          "text": [
            "Testing your multilabel accuracy table: \u001b[32m\"Correct\"\u001b[0m\n"
          ]
        }
      ],
      "source": [
        "print(\"Testing your multilabel accuracy table:\", verify(test_compute_multilabel_accuracy))"
      ]
    },
    {
      "cell_type": "code",
      "execution_count": null,
      "metadata": {
        "id": "HHxTZqMjZggZ",
        "outputId": "82fc266c-c647-43da-b58e-0be185b1818f",
        "colab": {
          "base_uri": "https://localhost:8080/",
          "height": 401
        }
      },
      "outputs": [
        {
          "output_type": "error",
          "ename": "NotImplementedError",
          "evalue": "`generate_accuracy_data` function in `confusion_matrix.py` needs to be implemented",
          "traceback": [
            "\u001b[0;31m---------------------------------------------------------------------------\u001b[0m",
            "\u001b[0;31mNotImplementedError\u001b[0m                       Traceback (most recent call last)",
            "\u001b[0;32m<ipython-input-51-552286821bd7>\u001b[0m in \u001b[0;36m<cell line: 0>\u001b[0;34m()\u001b[0m\n\u001b[1;32m      1\u001b[0m \u001b[0matt_list\u001b[0m \u001b[0;34m=\u001b[0m \u001b[0;34m[\u001b[0m\u001b[0;34m'clouds'\u001b[0m\u001b[0;34m,\u001b[0m \u001b[0;34m'water'\u001b[0m\u001b[0;34m,\u001b[0m \u001b[0;34m'people'\u001b[0m\u001b[0;34m,\u001b[0m \u001b[0;34m'animals'\u001b[0m\u001b[0;34m,\u001b[0m \u001b[0;34m'natural'\u001b[0m\u001b[0;34m,\u001b[0m \u001b[0;34m'man-made'\u001b[0m\u001b[0;34m,\u001b[0m \u001b[0;34m'vehicles'\u001b[0m\u001b[0;34m]\u001b[0m\u001b[0;34m\u001b[0m\u001b[0;34m\u001b[0m\u001b[0m\n\u001b[1;32m      2\u001b[0m \u001b[0;34m\u001b[0m\u001b[0m\n\u001b[0;32m----> 3\u001b[0;31m generate_and_plot_accuracy_table(\n\u001b[0m\u001b[1;32m      4\u001b[0m     \u001b[0mmulti_resnet\u001b[0m\u001b[0;34m,\u001b[0m\u001b[0;34m\u001b[0m\u001b[0;34m\u001b[0m\u001b[0m\n\u001b[1;32m      5\u001b[0m     \u001b[0mtrainer\u001b[0m\u001b[0;34m.\u001b[0m\u001b[0mval_dataset\u001b[0m\u001b[0;34m,\u001b[0m\u001b[0;34m\u001b[0m\u001b[0;34m\u001b[0m\u001b[0m\n",
            "\u001b[0;32m/content/CV_proj3/src/vision/confusion_matrix.py\u001b[0m in \u001b[0;36mgenerate_and_plot_accuracy_table\u001b[0;34m(model, dataset, num_attributes, attribute_labels, use_cuda)\u001b[0m\n\u001b[1;32m    438\u001b[0m     \"\"\"\n\u001b[1;32m    439\u001b[0m \u001b[0;34m\u001b[0m\u001b[0m\n\u001b[0;32m--> 440\u001b[0;31m     targets, predictions = generate_accuracy_data(\n\u001b[0m\u001b[1;32m    441\u001b[0m         \u001b[0mmodel\u001b[0m\u001b[0;34m,\u001b[0m \u001b[0mdataset\u001b[0m\u001b[0;34m,\u001b[0m \u001b[0mnum_attributes\u001b[0m\u001b[0;34m,\u001b[0m \u001b[0muse_cuda\u001b[0m\u001b[0;34m=\u001b[0m\u001b[0muse_cuda\u001b[0m\u001b[0;34m\u001b[0m\u001b[0;34m\u001b[0m\u001b[0m\n\u001b[1;32m    442\u001b[0m     )\n",
            "\u001b[0;32m/content/CV_proj3/src/vision/confusion_matrix.py\u001b[0m in \u001b[0;36mgenerate_accuracy_data\u001b[0;34m(model, dataset, num_attributes, use_cuda)\u001b[0m\n\u001b[1;32m    319\u001b[0m     \u001b[0;31m##########################################################################\u001b[0m\u001b[0;34m\u001b[0m\u001b[0;34m\u001b[0m\u001b[0m\n\u001b[1;32m    320\u001b[0m \u001b[0;34m\u001b[0m\u001b[0m\n\u001b[0;32m--> 321\u001b[0;31m     raise NotImplementedError(\n\u001b[0m\u001b[1;32m    322\u001b[0m             \u001b[0;34m\"`generate_accuracy_data` function in \"\u001b[0m\u001b[0;34m\u001b[0m\u001b[0;34m\u001b[0m\u001b[0m\n\u001b[1;32m    323\u001b[0m             \u001b[0;34m+\u001b[0m \u001b[0;34m\"`confusion_matrix.py` needs to be implemented\"\u001b[0m\u001b[0;34m\u001b[0m\u001b[0;34m\u001b[0m\u001b[0m\n",
            "\u001b[0;31mNotImplementedError\u001b[0m: `generate_accuracy_data` function in `confusion_matrix.py` needs to be implemented"
          ]
        }
      ],
      "source": [
        "att_list = ['clouds', 'water', 'people', 'animals', 'natural', 'man-made', 'vehicles']\n",
        "\n",
        "generate_and_plot_accuracy_table(\n",
        "    multi_resnet,\n",
        "    trainer.val_dataset,\n",
        "    num_attributes=7,\n",
        "    attribute_labels=att_list,\n",
        "    use_cuda=is_cuda\n",
        ")"
      ]
    }
  ],
  "metadata": {
    "accelerator": "GPU",
    "colab": {
      "name": "proj4.ipynb",
      "provenance": []
    },
    "kernelspec": {
      "display_name": "Python 3.10.6 ('cv_proj4')",
      "language": "python",
      "name": "python3"
    },
    "language_info": {
      "codemirror_mode": {
        "name": "ipython",
        "version": 3
      },
      "file_extension": ".py",
      "mimetype": "text/x-python",
      "name": "python",
      "nbconvert_exporter": "python",
      "pygments_lexer": "ipython3",
      "version": "3.12.7"
    },
    "vscode": {
      "interpreter": {
        "hash": "26df9bff6b3d59a74aa46821cfb7e3e80c6b4b2cccb89988da41ac738c62d476"
      }
    }
  },
  "nbformat": 4,
  "nbformat_minor": 0
}